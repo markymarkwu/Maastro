{
 "cells": [
  {
   "cell_type": "code",
   "execution_count": 1,
   "id": "91943051",
   "metadata": {
    "scrolled": true,
    "tags": []
   },
   "outputs": [],
   "source": [
    "from pathlib import Path\n",
    "import matplotlib.pyplot as plt\n",
    "import pydicom as pyd\n",
    "import SimpleITK as sk\n",
    "import math\n",
    "import numpy as np\n",
    "from numpy import savetxt\n",
    "import torch\n",
    "import torchio as tio\n",
    "import itk\n",
    "import os"
   ]
  },
  {
   "cell_type": "code",
   "execution_count": 2,
   "id": "fb1dc06c",
   "metadata": {},
   "outputs": [],
   "source": [
    "class DICOM_reader:\n",
    "    def __init__(self):\n",
    "        self.file_path = \"\"\n",
    "        self.CT_images = []\n",
    "    \n",
    "    def set_path(self, path):\n",
    "        self.file_path = Path(path)\n",
    "    \n",
    "    def extract_images(self):\n",
    "        file_ids = sk.ImageSeriesReader.GetGDCMSeriesIDs(str(self.file_path))\n",
    "        file_names = sk.ImageSeriesReader.GetGDCMSeriesFileNames(str(self.file_path), file_ids[0])\n",
    "        series_reader = sk.ImageSeriesReader()\n",
    "        series_reader.SetFileNames(file_names)\n",
    "        image_data = series_reader.Execute()\n",
    "        self.CT_images = sk.GetArrayFromImage(image_data)\n",
    "                \n",
    "    def visualize(self, images, if_all, idx=None):\n",
    "        if if_all:\n",
    "            idx = list(range(len(images)))\n",
    "        num1 = math.ceil(math.sqrt(len(idx)))\n",
    "        num2 = math.floor(math.sqrt(len(idx)))\n",
    "        num1 = num1+1 if num1*num2<len(idx) else num1\n",
    "        fig, axis = plt.subplots(num2, num1, figsize=(20,20))\n",
    "        slice_counter = 0\n",
    "        if len(idx)==1:\n",
    "            axis.imshow(images[idx[slice_counter]], cmap=\"gray\")\n",
    "        else:\n",
    "            if num2>1:\n",
    "                for i in range(num2):\n",
    "                    for j in range(num1):\n",
    "                        if slice_counter<len(idx):\n",
    "                            axis[i][j].imshow(images[idx[slice_counter]], cmap=\"gray\")\n",
    "                            slice_counter+=1\n",
    "                        else:\n",
    "                            break\n",
    "            else:\n",
    "                for i in range(num1):\n",
    "                    axis[i].imshow(images[idx[slice_counter]], cmap=\"gray\")\n",
    "                    slice_counter+=1\n",
    "                                \n",
    "    def get_images(self):\n",
    "        # self.CT_images = [np.expand_dims(np.array(image.astype(\"int32\")),axis=0) for image in self.CT_images]\n",
    "        return self.CT_images"
   ]
  },
  {
   "cell_type": "code",
   "execution_count": 3,
   "id": "e6fee777-657c-46de-b03e-5a35ab03f953",
   "metadata": {},
   "outputs": [],
   "source": [
    "file_path = \"/Users/wangyangwu/Documents/Maastro/NeuralNets/PROTON/P0439C0006I2866736/CT/1.3.6.1.4.1.32722.228.6.55901622014571750448587355595101479465\"\n",
    "file_ids = sk.ImageSeriesReader.GetGDCMSeriesIDs(str(file_path))\n",
    "file_names = sk.ImageSeriesReader.GetGDCMSeriesFileNames(str(file_path), file_ids[0])\n",
    "series_reader = sk.ImageSeriesReader()\n",
    "series_reader.SetFileNames(file_names)\n",
    "image_data = series_reader.Execute()\n",
    "CT_images = sk.GetArrayFromImage(image_data)"
   ]
  },
  {
   "cell_type": "code",
   "execution_count": 4,
   "id": "2e55035c-d60d-4d93-bd18-ead29ef04917",
   "metadata": {},
   "outputs": [
    {
     "data": {
      "text/plain": [
       "3071"
      ]
     },
     "execution_count": 4,
     "metadata": {},
     "output_type": "execute_result"
    }
   ],
   "source": [
    "np.max(CT_images)"
   ]
  },
  {
   "cell_type": "code",
   "execution_count": 20,
   "id": "1811e17d-2c33-4636-9a08-da7ff8804788",
   "metadata": {},
   "outputs": [
    {
     "name": "stdout",
     "output_type": "stream",
     "text": [
      "/Users/wangyangwu/Documents/Maastro/NeuralNets/sample/P0439C0006I13371261/CT/1.3.6.1.4.1.32722.228.6.322330951103701180595872973096445263467\n",
      "[20, 32]\n"
     ]
    }
   ],
   "source": [
    "import pydicom as dc\n",
    "from os import listdir\n",
    "from os.path import isfile, join\n",
    "import numpy as np\n",
    "import matplotlib.pylab as plt\n",
    "import SimpleITK as sk\n",
    "from dicom_contour.contour import get_contour_file, get_roi_names, get_data, fill_contour\n",
    "\n",
    "## EXTRACT CT AND DOSE IMAGES FOMR DICOM\n",
    "#folder_path: path for folder which contains CT dicoms\n",
    "def extract_images(path):\n",
    "    #path = Path(folder_path)\n",
    "    file_ids = sk.ImageSeriesReader.GetGDCMSeriesIDs(str(path))\n",
    "    file_names = sk.ImageSeriesReader.GetGDCMSeriesFileNames(str(path), file_ids[0])\n",
    "    series_reader = sk.ImageSeriesReader()\n",
    "    series_reader.SetFileNames(file_names)\n",
    "    \n",
    "    image_data = series_reader.Execute()\n",
    "    \n",
    "    return image_data\n",
    "\n",
    "def get_image_info(image):\n",
    "    xCTspace = image.GetSpacing()[0]\n",
    "    yCTspace = image.GetSpacing()[1]\n",
    "    zCTspace = image.GetSpacing()[2]\n",
    "    x_ct = image.GetOrigin()[0]  # x image corner\n",
    "    y_ct = image.GetOrigin()[1]  # y image corner\n",
    "    z_ct = image.GetOrigin()[2] # z image corner\n",
    "    \n",
    "    return xCTspace, yCTspace, zCTspace, x_ct, y_ct, z_ct\n",
    "\n",
    "\n",
    "## GET STRUCTURE CONTOURS FROM FILES\n",
    "#path: path for a folder which contains both CT dicom and RTStruct dicom\n",
    "#ROI_names: list containing names of all ROI you need\n",
    "# def get_struct_contours(path:str, ROI_names:list):\n",
    "#     contours_list = []\n",
    "#     #store dicom file\n",
    "#     contour_file = get_contour_file(path)\n",
    "#     contour_data = dc.read_file(path + '/' + contour_file)\n",
    "#     ROI_list = get_roi_names(contour_data)\n",
    "#     print(ROI_list)\n",
    "#     target_ROI_index = []\n",
    "#     for name in ROI_names:\n",
    "#         for t in ROI_list:\n",
    "#             if name.lower()==\"body1\" and t.lower()==\"body\":   \n",
    "#                 target_ROI_index.append(ROI_list.index(t))\n",
    "#             elif name.lower()==\"lungs-gtv\" and t.lower()==\"lungs-gtv1\":\n",
    "#                 target_ROI_index.append(ROI_list.index(t))\n",
    "#             elif name.lower()==t.lower():\n",
    "#                 target_ROI_index.append(ROI_list.index(t))\n",
    "                \n",
    "#     # images, contours = get_data(path, index=target_ROI_index[0])\n",
    "#     for index in target_ROI_index:\n",
    "#         images, contours = get_data(path, index=index)\n",
    "#         #get contour maps\n",
    "#         contour_slices = [contours[i] for i in range(contours.shape[0])]\n",
    "#         contour_3d = [fill_contour(c) if c.max()==1 else c for c in contour_slices]\n",
    "#         contour_3d = np.stack(contour_3d)\n",
    "#         contours_list.append(contour_3d)\n",
    "#     return contours_list\n",
    "## GET STRUCTURE CONTOURS FROM FILES\n",
    "def get_struct_contours(path:str, ROI_names:list):\n",
    "    contours_list = []\n",
    "    #store dicom file\n",
    "    contour_file = get_contour_file(path)\n",
    "    contour_data = dc.read_file(path + '/' + contour_file)\n",
    "    ROI_list = get_roi_names(contour_data)\n",
    "    print(path)\n",
    "    target_ROI_index = []\n",
    "    target_ROI_CTV_index = []\n",
    "    for name in ROI_names:\n",
    "        if name.lower()==\"ctv1\":\n",
    "            for t in ROI_list:\n",
    "                for p in range(1,6):\n",
    "                    # check correct name for p\n",
    "                    if (t.lower()==\"itvp\"+str(p)+\"_02\") or (t.lower()==\"itvp\"+str(p)+\"_2\"): #(ITVp1_02)\n",
    "                        target_ROI_CTV_index.append(ROI_list.index(t))\n",
    "                    elif t.lower()==\"ctvp\"+str(p)+\"_05_03\" or t.lower()==\"ctvp\"+str(p)+\"_5_3\": #(CTVp1_05_03)\n",
    "                        target_ROI_CTV_index.append(ROI_list.index(t))\n",
    "                    elif t.lower()==\"ctvp\"+str(p): #(CTVp1):\n",
    "                        target_ROI_CTV_index.append(ROI_list.index(t))\n",
    "                for m in range(1,6):\n",
    "                    # check correct name for m\n",
    "                    if t.lower()==\"itvm\"+str(m)+\"_02\" or t.lower()==\"itvm\"+str(m)+\"_2\": #(ITVm1_02)\n",
    "                        target_ROI_CTV_index.append(ROI_list.index(t))\n",
    "                    elif t.lower()==\"ctvm\"+str(m)+\"_05_03\" or t.lower()==\"ctvm\"+str(m)+\"_5_3\": #(CTVm1_05_03)\n",
    "                        target_ROI_CTV_index.append(ROI_list.index(t))\n",
    "                    elif t.lower()==\"ctvm\"+str(m): #(CTVm1):\n",
    "                        target_ROI_CTV_index.append(ROI_list.index(t))\n",
    "                if t.lower()==\"ctvnsum_05\" or t.lower()==\"ctvnsum_5\":\n",
    "                    target_ROI_CTV_index.append(ROI_list.index(t))\n",
    "            print(target_ROI_CTV_index)\n",
    "        else:\n",
    "            for t in ROI_list:\n",
    "                if name.lower()==t.lower():\n",
    "                    target_ROI_index.append(ROI_list.index(t))\n",
    "                    break\n",
    "                elif name.lower()==\"body1\" and (t.lower()==\"body\" or t.lower()==\"body3\" or t.lower()==\"body2\" or t.lower==\"body4\"):   \n",
    "                    target_ROI_index.append(ROI_list.index(t))\n",
    "                    break\n",
    "                elif name.lower()==\"lungs-gtv\" and (t.lower()==\"lungs-gtv1\" or t.lower()==\"lungs-gtv4\"):\n",
    "                    target_ROI_index.append(ROI_list.index(t))\n",
    "                    break\n",
    "    contour_ctv = []\n",
    "    for index in target_ROI_index:\n",
    "        images, contours = get_data(path, index=index)\n",
    "        #get contour maps\n",
    "        contour_slices = [contours[i] for i in range(contours.shape[0])]\n",
    "        contours = [fill_contour(c) if c.max()==1 else c for c in contour_slices]\n",
    "        contours = np.stack(contours)\n",
    "        contours_list.append(contours)\n",
    "        \n",
    "    for index in target_ROI_CTV_index:\n",
    "        images, contours = get_data(path, index=index)\n",
    "        #get contour maps\n",
    "        contour_slices = [contours[i] for i in range(contours.shape[0])]\n",
    "        contours = [fill_contour(c) if c.max()==1 else c for c in contour_slices]\n",
    "        contour_ctv.append(np.stack(contours))\n",
    "    contour_ctv = sum(contour_ctv[:])\n",
    "    contour_ctv[contour_ctv!=0]=1\n",
    "    \n",
    "    contours_list.append(contour_ctv)\n",
    "    return contours_list\n",
    "\n",
    "\n",
    "def extract_plan(path, xCTspace, yCTspace, zCTspace, x_ct, y_ct, z_ct, mask_3d):\n",
    "    #read and convert plan\n",
    "    plan = dc.read_file(path)\n",
    "    \n",
    "    bs = plan.IonBeamSequence\n",
    "    \n",
    "    beam_array = np.zeros(mask_3d.shape)\n",
    "    \n",
    "    for beam in bs:\n",
    "        beam_para = beam.IonControlPointSequence[0]\n",
    "        isocenter = beam_para.IsocenterPosition\n",
    "        gantry =  float(beam_para.GantryAngle)\n",
    "        couch = float(beam_para.PatientSupportAngle)\n",
    "        \n",
    "        #find isocenter position in the image space\n",
    "        x_iso = int(round(abs(x_ct - isocenter[0])/xCTspace, 0))\n",
    "        y_iso = -int(round(abs(y_ct - isocenter[1])/yCTspace, 0))\n",
    "        z_iso = int(round(abs(z_ct - isocenter[2])/zCTspace, 0))\n",
    "        \n",
    "        #position of image points\n",
    "        contour_x = np.where(mask_3d == True)[2] - x_iso\n",
    "        contour_y = -np.where(mask_3d == True)[1] - y_iso\n",
    "        contour_z = np.where(mask_3d == True)[0] - z_iso\n",
    "        \n",
    "        \n",
    "        #couch = 190\n",
    "        if couch == 270:\n",
    "            couch = 0\n",
    "        elif couch == 0:\n",
    "            couch = -90\n",
    "        else:\n",
    "            couch = 270 - couch\n",
    "        couch_rad = np.pi * couch /180.\n",
    "        \n",
    "        #gantry = 90\n",
    "        if 355 <= gantry <= 360:\n",
    "            gantry = 360 - gantry + 180\n",
    "        elif 180 <= gantry <= 185:\n",
    "            gantry = 180 - gantry\n",
    "        else:\n",
    "            gantry = np.abs(gantry -180) #-180 angle 0, -135 gantry 45\n",
    "        gantry_rad = np.pi * gantry /180.\n",
    "        \n",
    "    \n",
    "        rotation_matrix = np.array([[np.cos(couch_rad), 0, np.sin(couch_rad)],\n",
    "                                    [np.sin(gantry_rad)*np.sin(couch_rad), np.cos(gantry_rad), -np.sin(gantry_rad)*np.cos(couch_rad)],\n",
    "                                    [-np.cos(gantry_rad)*np.sin(couch_rad), np.sin(gantry_rad), np.cos(couch_rad)*np.cos(gantry_rad)]])\n",
    "        \n",
    "    \n",
    "        p_x_iso = np.sum(np.array([x_iso, y_iso, z_iso]) * rotation_matrix[0])\n",
    "        p_y_iso = np.sum(np.array([x_iso, y_iso, z_iso]) * rotation_matrix[1])\n",
    "        p_z_iso = np.sum(np.array([x_iso, y_iso, z_iso]) * rotation_matrix[2])\n",
    "        \n",
    "        lim_x =[]\n",
    "        lim_y =[]\n",
    "        lim_z=[]\n",
    "        for p in np.arange(len(contour_x)):\n",
    "            point = np.array([contour_x[p], contour_y[p], contour_z[p]])\n",
    "            lim_x.append(int(round(np.sum(point * rotation_matrix[0]) + p_x_iso, 0)))\n",
    "            lim_y.append(int(round(np.sum(point * rotation_matrix[1]) + p_y_iso, 0)))\n",
    "            lim_z.append(int(round(np.sum(point * rotation_matrix[2]) + p_z_iso, 0)))\n",
    "        \n",
    "        shift_x = np.min(lim_x)\n",
    "        shift_y = np.min(lim_y)\n",
    "        shift_z = np.min(lim_z) \n",
    "    \n",
    "        center_shift = 100 #to avoid matrix being cut\n",
    "        \n",
    "        p_mask_3d = np.zeros((512, 512, 512)) # make this size bigger to capture full path\n",
    "        for p in np.arange(len(lim_x)):\n",
    "            p_x = lim_x[p] - shift_x + center_shift\n",
    "            p_y = lim_y[p] - shift_y + center_shift\n",
    "            p_z = lim_z[p] - shift_z + center_shift\n",
    "            p_mask_3d[p_z, p_y, p_x] = 1\n",
    "            \n",
    "    \n",
    "        \n",
    "        p_beam = np.zeros((512, 512, 512))\n",
    "        for d1 in np.arange(512, dtype = np.int64):\n",
    "            for d2 in np.arange(512, dtype = np.int64):\n",
    "                if np.sum(p_mask_3d[d1, :, d2]) != 0:\n",
    "                    depth = np.max(np.where(p_mask_3d[d1, :, d2] == True)[0])\n",
    "                    p_beam[d1, : depth, d2] = 1 \n",
    "                    \n",
    "        p_contour_x = np.where(p_beam == 1)[2] + shift_x - p_x_iso - center_shift\n",
    "        p_contour_y = np.where(p_beam == 1)[1] + shift_y - p_y_iso - center_shift\n",
    "        p_contour_z = np.where(p_beam == 1)[0] + shift_z - p_z_iso - center_shift \n",
    "        \n",
    "        reverse_rotation_matrix = rotation_matrix.T\n",
    "        \n",
    "        pp_x_iso = np.sum(np.array([p_x_iso, p_y_iso, p_z_iso]) * reverse_rotation_matrix[0])\n",
    "        pp_y_iso = np.sum(np.array([p_x_iso, p_y_iso, p_z_iso]) * reverse_rotation_matrix[1])\n",
    "        pp_z_iso = np.sum(np.array([p_x_iso, p_y_iso, p_z_iso]) * reverse_rotation_matrix[2])\n",
    "        \n",
    "        \n",
    "        for p in np.arange(len(p_contour_x)):\n",
    "            point = np.array([p_contour_x[p], p_contour_y[p], p_contour_z[p]])\n",
    "            x = int(round(np.sum(point * reverse_rotation_matrix[0]) + pp_x_iso, 0))\n",
    "            y = -int(round(np.sum(point * reverse_rotation_matrix[1]) + pp_y_iso, 0)) \n",
    "            z = int(round(np.sum(point * reverse_rotation_matrix[2]) + pp_z_iso, 0))\n",
    "            if y>= beam_array.shape[1] or x>= beam_array.shape[2] or z>= beam_array.shape[0] or y<= -beam_array.shape[1] or x<= -beam_array.shape[2] or z<= -beam_array.shape[0]:\n",
    "                pass\n",
    "            else:\n",
    "                beam_array[z, y, x] = 1\n",
    "                    \n",
    "    beam_array[np.where(beam_array>0)] = 1\n",
    "    \n",
    "    pp_y_iso = -1*pp_y_iso\n",
    "    \n",
    "    # plt.figure()\n",
    "    # plt.imshow(im_matrix[:, :, x_iso], cmap = \"Greys_r\")\n",
    "    # plt.imshow(mask_3d_ctv[:,:,  x_iso ], alpha = 0.2)\n",
    "    # plt.imshow(beam_array[:,: , x_iso], alpha = 0.5)\n",
    "    # plt.plot([pp_y_iso], [pp_z_iso], \"ro\")\n",
    "    \n",
    "    # plt.figure()\n",
    "    # plt.imshow(im_matrix[:, -y_iso, :], cmap = \"Greys_r\")\n",
    "    # plt.imshow(mask_3d_ctv[:,-y_iso,  : ], alpha = 0.2)\n",
    "    # plt.imshow(beam_array[:,-y_iso , :], alpha = 0.5)\n",
    "    # plt.plot([pp_x_iso], [pp_z_iso], \"ro\")\n",
    "    \n",
    "    \n",
    "    # plt.figure()\n",
    "    # plt.imshow(im_matrix[z_iso, :,: ], cmap = \"Greys_r\")\n",
    "    # plt.imshow(mask_3d_ctv[z_iso,:,  :], alpha = 0.2)\n",
    "    # plt.imshow(beam_array[z_iso,: , :], alpha = 0.5)\n",
    "    # plt.plot([pp_x_iso], [pp_y_iso], \"ro\")\n",
    "    \n",
    "        \n",
    "    return beam_array\n",
    "\n",
    "\n",
    "\n",
    "mypath_image = \"/Users/wangyangwu/Documents/Maastro/NeuralNets/sample/P0439C0006I13371261/CT/1.3.6.1.4.1.32722.228.6.322330951103701180595872973096445263467\"\n",
    "#path to the plan file\n",
    "mypath_plan = \"/Users/wangyangwu/Documents/Maastro/NeuralNets/sample/P0439C0006I13371261/RTPLAN/1.3.6.1.4.1.32722.228.6.230078502212001430324772365011581872635/1.3.6.1.4.1.32722.228.6.222088855383024946999128588218536466856.dcm\"\n",
    "\n",
    "#read CT image and mask\n",
    "image = extract_images(mypath_image)\n",
    "im_matrix = sk.GetArrayFromImage(image)\n",
    "xCTspace, yCTspace, zCTspace, x_ct, y_ct, z_ct = get_image_info(image)\n",
    "del image\n",
    "\n",
    "mask_3d = get_struct_contours(mypath_image, [\"CTV1\"])\n",
    "mask_3d_ctv = mask_3d[0]\n",
    "\n",
    "#beam_array is a matrix representing beam directions with 1 where beam is expected and 0 otherwise\n",
    "#it has the same dimentions as image and contour\n",
    "beam_array = extract_plan(mypath_plan, xCTspace, yCTspace, zCTspace, x_ct, y_ct, z_ct, mask_3d_ctv)"
   ]
  },
  {
   "cell_type": "code",
   "execution_count": 21,
   "id": "9d46b918-991b-47ff-bb15-7e318116d622",
   "metadata": {},
   "outputs": [
    {
     "data": {
      "text/plain": [
       "<matplotlib.image.AxesImage at 0x2ad39f460>"
      ]
     },
     "execution_count": 21,
     "metadata": {},
     "output_type": "execute_result"
    },
    {
     "data": {
      "image/png": "[encoded data removed]",
      "text/plain": [
       "<Figure size 432x288 with 1 Axes>"
      ]
     },
     "metadata": {
      "needs_background": "light"
     },
     "output_type": "display_data"
    }
   ],
   "source": [
    "plt.imshow(beam_array[124])"
   ]
  },
  {
   "cell_type": "code",
   "execution_count": 7,
   "id": "f8dae886-8bcd-440e-a495-571271d16105",
   "metadata": {},
   "outputs": [],
   "source": [
    "def normalize(inputs:torch.TensorType):\n",
    "    return (inputs-inputs.min())/(inputs.max()-inputs.min())"
   ]
  },
  {
   "cell_type": "code",
   "execution_count": 8,
   "id": "fb9f26d6-624f-4bc0-a9ad-61f0ef10247d",
   "metadata": {},
   "outputs": [
    {
     "name": "stderr",
     "output_type": "stream",
     "text": [
      "Failed to load image Python extension: \n"
     ]
    }
   ],
   "source": [
    "from monai.networks.nets import BasicUNet\n",
    "from monai.losses.dice import *\n"
   ]
  },
  {
   "cell_type": "code",
   "execution_count": 9,
   "id": "bd7090e2-a6d7-410b-b82f-cbaa4e3459fe",
   "metadata": {},
   "outputs": [],
   "source": [
    "path2 = \"/Users/wangyangwu/Documents/Maastro/NeuralNets/Processed_data/preprocessed_data_compressed_CTV/P0439C0006I13364175/label.npz\"\n",
    "path = \"/Users/wangyangwu/Documents/Maastro/NeuralNets/Processed_data/preprocessed_data_compressed_CTV/P0439C0006I13364175/inputs.npz\""
   ]
  },
  {
   "cell_type": "code",
   "execution_count": 10,
   "id": "08dcbb5f-7429-43ef-ba08-3bbc703f5cfa",
   "metadata": {
    "tags": []
   },
   "outputs": [
    {
     "name": "stdout",
     "output_type": "stream",
     "text": [
      "BasicUNet features: (2, 2, 4, 8, 16, 2).\n"
     ]
    }
   ],
   "source": [
    "net = BasicUNet(spatial_dims=3,\n",
    "         in_channels=2, \n",
    "         out_channels=2, \n",
    "         features=(2, 2, 4, 8, 16, 2),\n",
    "         dropout=0.1)"
   ]
  },
  {
   "cell_type": "code",
   "execution_count": 11,
   "id": "b867f555-a1e9-479c-b833-bcc641823a12",
   "metadata": {},
   "outputs": [],
   "source": [
    "inputs = torch.from_numpy(np.stack([np.load(path)['arr_0']]))"
   ]
  },
  {
   "cell_type": "code",
   "execution_count": 12,
   "id": "f7bf2add-1bb0-47bd-9226-e77765d733bb",
   "metadata": {},
   "outputs": [
    {
     "data": {
      "text/plain": [
       "torch.Size([1, 2, 150, 157, 221])"
      ]
     },
     "execution_count": 12,
     "metadata": {},
     "output_type": "execute_result"
    }
   ],
   "source": [
    "inputs.shape"
   ]
  },
  {
   "cell_type": "code",
   "execution_count": 13,
   "id": "2bcb3bae-8984-4c9f-a32d-08a26eff32d7",
   "metadata": {},
   "outputs": [],
   "source": [
    "output = net(inputs)"
   ]
  },
  {
   "cell_type": "code",
   "execution_count": 14,
   "id": "80740424-a302-4210-9f27-65f0a1b00dea",
   "metadata": {},
   "outputs": [
    {
     "data": {
      "text/plain": [
       "torch.Size([1, 2, 150, 157, 221])"
      ]
     },
     "execution_count": 14,
     "metadata": {},
     "output_type": "execute_result"
    }
   ],
   "source": [
    "output.shape"
   ]
  },
  {
   "cell_type": "code",
   "execution_count": 15,
   "id": "72ed9618-65b6-426f-9d5c-308de56881f2",
   "metadata": {},
   "outputs": [],
   "source": [
    "mask = torch.from_numpy(np.stack([np.load(path2)['arr_0']]))"
   ]
  },
  {
   "cell_type": "code",
   "execution_count": 16,
   "id": "9efb4a37-a3e7-4fd7-ae72-42bb3bff0f73",
   "metadata": {},
   "outputs": [],
   "source": [
    "mask = mask.to(torch.float32)"
   ]
  },
  {
   "cell_type": "code",
   "execution_count": 17,
   "id": "c2eac8cc-4fa2-4709-868f-4be556de29e4",
   "metadata": {},
   "outputs": [
    {
     "data": {
      "text/plain": [
       "tensor(8.2162, grad_fn=<MaxBackward1>)"
      ]
     },
     "execution_count": 17,
     "metadata": {},
     "output_type": "execute_result"
    }
   ],
   "source": [
    "output[:,1,:,:,:].max()"
   ]
  },
  {
   "cell_type": "code",
   "execution_count": 68,
   "id": "3186df4b-8fb9-4c8e-b47d-9bb68d5ba8df",
   "metadata": {},
   "outputs": [],
   "source": [
    "import torch.nn as nn\n",
    "BCE = nn.BCELoss()\n",
    "CE = nn.CrossEntropyLoss()\n",
    "MSE = nn.MSELoss()\n",
    "sigmoid = nn.Sigmoid()\n",
    "loss1 = BCE(sigmoid(output[:,1,:,:,:]), mask[:,1,:,:,:])   \n",
    "loss1_dice = DiceCELoss().forward(output[:,1,:,:,:], mask[:,1,:,:,:])\n",
    "\n",
    "loss2 = MSE(output[:,0,:,:,:], mask[:,0,:,:,:])"
   ]
  },
  {
   "cell_type": "code",
   "execution_count": 69,
   "id": "be8e1c33-cb45-42e0-b5ea-69464e2ed63e",
   "metadata": {},
   "outputs": [
    {
     "data": {
      "text/plain": [
       "tensor(6.0069, grad_fn=<AddBackward0>)"
      ]
     },
     "execution_count": 69,
     "metadata": {},
     "output_type": "execute_result"
    }
   ],
   "source": [
    "loss1_dice"
   ]
  },
  {
   "cell_type": "code",
   "execution_count": 66,
   "id": "aacd3a55-8ccf-4c87-91e5-cc95e19f9314",
   "metadata": {},
   "outputs": [
    {
     "data": {
      "text/plain": [
       "tensor(0.7160, grad_fn=<BinaryCrossEntropyBackward0>)"
      ]
     },
     "execution_count": 66,
     "metadata": {},
     "output_type": "execute_result"
    }
   ],
   "source": [
    "loss1"
   ]
  },
  {
   "cell_type": "code",
   "execution_count": 70,
   "id": "d9cb8372-1c6c-4cfe-bd24-11e4ba44aed7",
   "metadata": {},
   "outputs": [
    {
     "data": {
      "text/plain": [
       "tensor(79.5297, grad_fn=<MseLossBackward0>)"
      ]
     },
     "execution_count": 70,
     "metadata": {},
     "output_type": "execute_result"
    }
   ],
   "source": [
    "loss2"
   ]
  },
  {
   "cell_type": "code",
   "execution_count": null,
   "id": "edc7877f-2911-4eea-8104-0f4bc36a88da",
   "metadata": {},
   "outputs": [],
   "source": []
  }
 ],
 "metadata": {
  "kernelspec": {
   "display_name": "Python 3 (ipykernel)",
   "language": "python",
   "name": "python3"
  },
  "language_info": {
   "codemirror_mode": {
    "name": "ipython",
    "version": 3
   },
   "file_extension": ".py",
   "mimetype": "text/x-python",
   "name": "python",
   "nbconvert_exporter": "python",
   "pygments_lexer": "ipython3",
   "version": "3.9.7"
  }
 },
 "nbformat": 4,
 "nbformat_minor": 5
}
