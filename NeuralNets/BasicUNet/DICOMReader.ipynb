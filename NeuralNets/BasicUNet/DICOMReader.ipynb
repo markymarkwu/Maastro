{
 "cells": [
  {
   "cell_type": "code",
   "execution_count": 3,
   "id": "91943051",
   "metadata": {
    "scrolled": true,
    "tags": []
   },
   "outputs": [],
   "source": [
    "from pathlib import Path\n",
    "import matplotlib.pyplot as plt\n",
    "import pydicom as pyd\n",
    "import SimpleITK as sk\n",
    "import math\n",
    "import numpy as np\n",
    "from numpy import savetxt\n",
    "import torch\n",
    "import torchio as tio\n",
    "import itk\n",
    "import os"
   ]
  },
  {
   "cell_type": "code",
   "execution_count": 2,
   "id": "fb1dc06c",
   "metadata": {},
   "outputs": [],
   "source": [
    "class DICOM_reader:\n",
    "    def __init__(self):\n",
    "        self.file_path = \"\"\n",
    "        self.CT_images = []\n",
    "    \n",
    "    def set_path(self, path):\n",
    "        self.file_path = Path(path)\n",
    "    \n",
    "    def extract_images(self):\n",
    "        file_ids = sk.ImageSeriesReader.GetGDCMSeriesIDs(str(self.file_path))\n",
    "        file_names = sk.ImageSeriesReader.GetGDCMSeriesFileNames(str(self.file_path), file_ids[0])\n",
    "        series_reader = sk.ImageSeriesReader()\n",
    "        series_reader.SetFileNames(file_names)\n",
    "        image_data = series_reader.Execute()\n",
    "        self.CT_images = sk.GetArrayFromImage(image_data)\n",
    "                \n",
    "    def visualize(self, images, if_all, idx=None):\n",
    "        if if_all:\n",
    "            idx = list(range(len(images)))\n",
    "        num1 = math.ceil(math.sqrt(len(idx)))\n",
    "        num2 = math.floor(math.sqrt(len(idx)))\n",
    "        num1 = num1+1 if num1*num2<len(idx) else num1\n",
    "        fig, axis = plt.subplots(num2, num1, figsize=(20,20))\n",
    "        slice_counter = 0\n",
    "        if len(idx)==1:\n",
    "            axis.imshow(images[idx[slice_counter]], cmap=\"gray\")\n",
    "        else:\n",
    "            if num2>1:\n",
    "                for i in range(num2):\n",
    "                    for j in range(num1):\n",
    "                        if slice_counter<len(idx):\n",
    "                            axis[i][j].imshow(images[idx[slice_counter]], cmap=\"gray\")\n",
    "                            slice_counter+=1\n",
    "                        else:\n",
    "                            break\n",
    "            else:\n",
    "                for i in range(num1):\n",
    "                    axis[i].imshow(images[idx[slice_counter]], cmap=\"gray\")\n",
    "                    slice_counter+=1\n",
    "                                \n",
    "    def get_images(self):\n",
    "        # self.CT_images = [np.expand_dims(np.array(image.astype(\"int32\")),axis=0) for image in self.CT_images]\n",
    "        return self.CT_images"
   ]
  },
  {
   "cell_type": "code",
   "execution_count": 8,
   "id": "e6fee777-657c-46de-b03e-5a35ab03f953",
   "metadata": {},
   "outputs": [],
   "source": [
    "file_path = \"/Users/wangyangwu/Documents/Maastro/NeuralNets/PROTON/P0439C0006I2866736/CT/1.3.6.1.4.1.32722.228.6.55901622014571750448587355595101479465\"\n",
    "file_ids = sk.ImageSeriesReader.GetGDCMSeriesIDs(str(file_path))\n",
    "file_names = sk.ImageSeriesReader.GetGDCMSeriesFileNames(str(file_path), file_ids[0])\n",
    "series_reader = sk.ImageSeriesReader()\n",
    "series_reader.SetFileNames(file_names)\n",
    "image_data = series_reader.Execute()\n",
    "CT_images = sk.GetArrayFromImage(image_data)"
   ]
  },
  {
   "cell_type": "code",
   "execution_count": null,
   "id": "2e55035c-d60d-4d93-bd18-ead29ef04917",
   "metadata": {},
   "outputs": [],
   "source": [
    "np.max(CT_images)"
   ]
  },
  {
   "cell_type": "code",
   "execution_count": 20,
   "id": "1811e17d-2c33-4636-9a08-da7ff8804788",
   "metadata": {},
   "outputs": [
    {
     "name": "stdout",
     "output_type": "stream",
     "text": [
      "['mid_1', 'mid_0', 'mid_2', 'isogem', 'Rail1A', 'Rail2A', 'Lung_treatment_T', 'Lung R-CTV_03', 'Heart-CTV_05', 'CTV1', 'External1', 'Spinal Cord_3', 'Lungs-GTV', 'MedEnv_05', 'MediastEnvelop', 'Heart', 'CTVnsum_05', 'GTVnsum', 'Spinal Cord', 'Esophagus', 'Lung R', 'Lung L', 'BODY1']\n"
     ]
    }
   ],
   "source": [
    "import pydicom as dc\n",
    "from os import listdir\n",
    "from os.path import isfile, join\n",
    "import numpy as np\n",
    "import matplotlib.pylab as plt\n",
    "import SimpleITK as sk\n",
    "from dicom_contour.contour import get_contour_file, get_roi_names, get_data, fill_contour\n",
    "\n",
    "## EXTRACT CT AND DOSE IMAGES FOMR DICOM\n",
    "#folder_path: path for folder which contains CT dicoms\n",
    "def extract_images(path):\n",
    "    #path = Path(folder_path)\n",
    "    file_ids = sk.ImageSeriesReader.GetGDCMSeriesIDs(str(path))\n",
    "    file_names = sk.ImageSeriesReader.GetGDCMSeriesFileNames(str(path), file_ids[0])\n",
    "    series_reader = sk.ImageSeriesReader()\n",
    "    series_reader.SetFileNames(file_names)\n",
    "    \n",
    "    image_data = series_reader.Execute()\n",
    "    \n",
    "    return image_data\n",
    "\n",
    "def get_image_info(image):\n",
    "    xCTspace = image.GetSpacing()[0]\n",
    "    yCTspace = image.GetSpacing()[1]\n",
    "    zCTspace = image.GetSpacing()[2]\n",
    "    x_ct = image.GetOrigin()[0]  # x image corner\n",
    "    y_ct = image.GetOrigin()[1]  # y image corner\n",
    "    z_ct = image.GetOrigin()[2] # z image corner\n",
    "    \n",
    "    return xCTspace, yCTspace, zCTspace, x_ct, y_ct, z_ct\n",
    "\n",
    "\n",
    "## GET STRUCTURE CONTOURS FROM FILES\n",
    "#path: path for a folder which contains both CT dicom and RTStruct dicom\n",
    "#ROI_names: list containing names of all ROI you need\n",
    "def get_struct_contours(path:str, ROI_names:list):\n",
    "    contours_list = []\n",
    "    #store dicom file\n",
    "    contour_file = get_contour_file(path)\n",
    "    contour_data = dc.read_file(path + '/' + contour_file)\n",
    "    ROI_list = get_roi_names(contour_data)\n",
    "    print(ROI_list)\n",
    "    target_ROI_index = []\n",
    "    for name in ROI_names:\n",
    "        for t in ROI_list:\n",
    "            if name.lower()==\"body1\" and t.lower()==\"body\":   \n",
    "                target_ROI_index.append(ROI_list.index(t))\n",
    "            elif name.lower()==\"lungs-gtv\" and t.lower()==\"lungs-gtv1\":\n",
    "                target_ROI_index.append(ROI_list.index(t))\n",
    "            elif name.lower()==t.lower():\n",
    "                target_ROI_index.append(ROI_list.index(t))\n",
    "                \n",
    "    # images, contours = get_data(path, index=target_ROI_index[0])\n",
    "    for index in target_ROI_index:\n",
    "        images, contours = get_data(path, index=index)\n",
    "        #get contour maps\n",
    "        contour_slices = [contours[i] for i in range(contours.shape[0])]\n",
    "        contour_3d = [fill_contour(c) if c.max()==1 else c for c in contour_slices]\n",
    "        contour_3d = np.stack(contour_3d)\n",
    "        contours_list.append(contour_3d)\n",
    "    return contours_list\n",
    "\n",
    "def extract_plan(path, xCTspace, yCTspace, zCTspace, x_ct, y_ct, z_ct, mask_3d):\n",
    "    #read and convert plan\n",
    "    plan = dc.read_file(path)\n",
    "    \n",
    "    bs = plan.IonBeamSequence\n",
    "    \n",
    "    beam_array = np.zeros(mask_3d.shape)\n",
    "    \n",
    "    for beam in bs:\n",
    "        beam_para = beam.IonControlPointSequence[0]\n",
    "        isocenter = beam_para.IsocenterPosition\n",
    "        gantry =  float(beam_para.GantryAngle)\n",
    "        couch = float(beam_para.PatientSupportAngle)\n",
    "        \n",
    "        #find isocenter position in the image space\n",
    "        x_iso = int(round(abs(x_ct - isocenter[0])/xCTspace, 0))\n",
    "        y_iso = -int(round(abs(y_ct - isocenter[1])/yCTspace, 0))\n",
    "        z_iso = int(round(abs(z_ct - isocenter[2])/zCTspace, 0))\n",
    "        \n",
    "        #position of image points\n",
    "        contour_x = np.where(mask_3d == True)[2] - x_iso\n",
    "        contour_y = -np.where(mask_3d == True)[1] - y_iso\n",
    "        contour_z = np.where(mask_3d == True)[0] - z_iso\n",
    "        \n",
    "        \n",
    "        #couch = 190\n",
    "        if couch == 270:\n",
    "            couch = 0\n",
    "        elif couch == 0:\n",
    "            couch = -90\n",
    "        else:\n",
    "            couch = 270 - couch\n",
    "        couch_rad = np.pi * couch /180.\n",
    "        \n",
    "        #gantry = 90\n",
    "        if 355 <= gantry <= 360:\n",
    "            gantry = 360 - gantry + 180\n",
    "        elif 180 <= gantry <= 185:\n",
    "            gantry = 180 - gantry\n",
    "        else:\n",
    "            gantry = np.abs(gantry -180) #-180 angle 0, -135 gantry 45\n",
    "        gantry_rad = np.pi * gantry /180.\n",
    "        \n",
    "    \n",
    "        rotation_matrix = np.array([[np.cos(couch_rad), 0, np.sin(couch_rad)],\n",
    "                                    [np.sin(gantry_rad)*np.sin(couch_rad), np.cos(gantry_rad), -np.sin(gantry_rad)*np.cos(couch_rad)],\n",
    "                                    [-np.cos(gantry_rad)*np.sin(couch_rad), np.sin(gantry_rad), np.cos(couch_rad)*np.cos(gantry_rad)]])\n",
    "        \n",
    "    \n",
    "        p_x_iso = np.sum(np.array([x_iso, y_iso, z_iso]) * rotation_matrix[0])\n",
    "        p_y_iso = np.sum(np.array([x_iso, y_iso, z_iso]) * rotation_matrix[1])\n",
    "        p_z_iso = np.sum(np.array([x_iso, y_iso, z_iso]) * rotation_matrix[2])\n",
    "        \n",
    "        lim_x =[]\n",
    "        lim_y =[]\n",
    "        lim_z=[]\n",
    "        for p in np.arange(len(contour_x)):\n",
    "            point = np.array([contour_x[p], contour_y[p], contour_z[p]])\n",
    "            lim_x.append(int(round(np.sum(point * rotation_matrix[0]) + p_x_iso, 0)))\n",
    "            lim_y.append(int(round(np.sum(point * rotation_matrix[1]) + p_y_iso, 0)))\n",
    "            lim_z.append(int(round(np.sum(point * rotation_matrix[2]) + p_z_iso, 0)))\n",
    "        \n",
    "        shift_x = np.min(lim_x)\n",
    "        shift_y = np.min(lim_y)\n",
    "        shift_z = np.min(lim_z) \n",
    "    \n",
    "        center_shift = 100 #to avoid matrix being cut\n",
    "        \n",
    "        p_mask_3d = np.zeros((512, 512, 512)) # make this size bigger to capture full path\n",
    "        for p in np.arange(len(lim_x)):\n",
    "            p_x = lim_x[p] - shift_x + center_shift\n",
    "            p_y = lim_y[p] - shift_y + center_shift\n",
    "            p_z = lim_z[p] - shift_z + center_shift\n",
    "            p_mask_3d[p_z, p_y, p_x] = 1\n",
    "            \n",
    "    \n",
    "        \n",
    "        p_beam = np.zeros((512, 512, 512))\n",
    "        for d1 in np.arange(512, dtype = np.int64):\n",
    "            for d2 in np.arange(512, dtype = np.int64):\n",
    "                if np.sum(p_mask_3d[d1, :, d2]) != 0:\n",
    "                    depth = np.max(np.where(p_mask_3d[d1, :, d2] == True)[0])\n",
    "                    p_beam[d1, : depth, d2] = 1 \n",
    "                    \n",
    "        p_contour_x = np.where(p_beam == 1)[2] + shift_x - p_x_iso - center_shift\n",
    "        p_contour_y = np.where(p_beam == 1)[1] + shift_y - p_y_iso - center_shift\n",
    "        p_contour_z = np.where(p_beam == 1)[0] + shift_z - p_z_iso - center_shift \n",
    "        \n",
    "        reverse_rotation_matrix = rotation_matrix.T\n",
    "        \n",
    "        pp_x_iso = np.sum(np.array([p_x_iso, p_y_iso, p_z_iso]) * reverse_rotation_matrix[0])\n",
    "        pp_y_iso = np.sum(np.array([p_x_iso, p_y_iso, p_z_iso]) * reverse_rotation_matrix[1])\n",
    "        pp_z_iso = np.sum(np.array([p_x_iso, p_y_iso, p_z_iso]) * reverse_rotation_matrix[2])\n",
    "        \n",
    "        \n",
    "        for p in np.arange(len(p_contour_x)):\n",
    "            point = np.array([p_contour_x[p], p_contour_y[p], p_contour_z[p]])\n",
    "            x = int(round(np.sum(point * reverse_rotation_matrix[0]) + pp_x_iso, 0))\n",
    "            y = -int(round(np.sum(point * reverse_rotation_matrix[1]) + pp_y_iso, 0)) \n",
    "            z = int(round(np.sum(point * reverse_rotation_matrix[2]) + pp_z_iso, 0))\n",
    "            if y>= beam_array.shape[1] or x>= beam_array.shape[2] or z>= beam_array.shape[0] or y<= -beam_array.shape[1] or x<= -beam_array.shape[2] or z<= -beam_array.shape[0]:\n",
    "                pass\n",
    "            else:\n",
    "                beam_array[z, y, x] = 1\n",
    "                    \n",
    "    beam_array[np.where(beam_array>0)] = 1\n",
    "    \n",
    "    pp_y_iso = -1*pp_y_iso\n",
    "    \n",
    "    # plt.figure()\n",
    "    # plt.imshow(im_matrix[:, :, x_iso], cmap = \"Greys_r\")\n",
    "    # plt.imshow(mask_3d_ctv[:,:,  x_iso ], alpha = 0.2)\n",
    "    # plt.imshow(beam_array[:,: , x_iso], alpha = 0.5)\n",
    "    # plt.plot([pp_y_iso], [pp_z_iso], \"ro\")\n",
    "    \n",
    "    # plt.figure()\n",
    "    # plt.imshow(im_matrix[:, -y_iso, :], cmap = \"Greys_r\")\n",
    "    # plt.imshow(mask_3d_ctv[:,-y_iso,  : ], alpha = 0.2)\n",
    "    # plt.imshow(beam_array[:,-y_iso , :], alpha = 0.5)\n",
    "    # plt.plot([pp_x_iso], [pp_z_iso], \"ro\")\n",
    "    \n",
    "    \n",
    "    # plt.figure()\n",
    "    # plt.imshow(im_matrix[z_iso, :,: ], cmap = \"Greys_r\")\n",
    "    # plt.imshow(mask_3d_ctv[z_iso,:,  :], alpha = 0.2)\n",
    "    # plt.imshow(beam_array[z_iso,: , :], alpha = 0.5)\n",
    "    # plt.plot([pp_x_iso], [pp_y_iso], \"ro\")\n",
    "    \n",
    "        \n",
    "    return beam_array\n",
    "\n",
    "\n",
    "\n",
    "mypath_image = \"/Users/wangyangwu/Documents/Maastro/NeuralNets/sample/P0439C0006I3038573/CT/1.3.6.1.4.1.32722.228.6.142883489487996495069834912917600503695\"\n",
    "#path to the plan file\n",
    "mypath_plan = \"/Users/wangyangwu/Documents/Maastro/NeuralNets/sample/P0439C0006I3038573/RTPLAN/1.3.6.1.4.1.32722.228.6.234760996457273488538121226897335269573/1.3.6.1.4.1.32722.228.6.301878774919887321488919281322497406169.dcm\"\n",
    "\n",
    "#read CT image and mask\n",
    "image = extract_images(mypath_image)\n",
    "im_matrix = sk.GetArrayFromImage(image)\n",
    "xCTspace, yCTspace, zCTspace, x_ct, y_ct, z_ct = get_image_info(image)\n",
    "del image\n",
    "\n",
    "mask_3d = get_struct_contours(mypath_image, [\"CTV1\"])\n",
    "mask_3d_ctv = mask_3d[0]\n",
    "\n",
    "#beam_array is a matrix representing beam directions with 1 where beam is expected and 0 otherwise\n",
    "#it has the same dimentions as image and contour\n",
    "beam_array = extract_plan(mypath_plan, xCTspace, yCTspace, zCTspace, x_ct, y_ct, z_ct, mask_3d_ctv)"
   ]
  },
  {
   "cell_type": "code",
   "execution_count": 12,
   "id": "a60c500f-4d6c-4fb3-ba1f-1e38fa8f9481",
   "metadata": {},
   "outputs": [],
   "source": [
    "a = np.random.rand(1,2,3,4)"
   ]
  },
  {
   "cell_type": "code",
   "execution_count": 13,
   "id": "eba48f00-6c2f-4bc1-b862-f4ddd4af4160",
   "metadata": {},
   "outputs": [
    {
     "data": {
      "text/plain": [
       "(1, 2, 3, 4)"
      ]
     },
     "execution_count": 13,
     "metadata": {},
     "output_type": "execute_result"
    }
   ],
   "source": [
    "a.shape"
   ]
  },
  {
   "cell_type": "code",
   "execution_count": 17,
   "id": "2dbd459e-66ba-4e2d-8383-102525dbf406",
   "metadata": {},
   "outputs": [
    {
     "data": {
      "text/plain": [
       "(2, 2, 3, 4)"
      ]
     },
     "execution_count": 17,
     "metadata": {},
     "output_type": "execute_result"
    }
   ],
   "source": [
    "np.concatenate((a,a)).shape"
   ]
  },
  {
   "cell_type": "code",
   "execution_count": 21,
   "id": "c3d86686-0bf6-40e1-a71a-5e43a91a7c5a",
   "metadata": {},
   "outputs": [
    {
     "data": {
      "text/plain": [
       "(159, 512, 544)"
      ]
     },
     "execution_count": 21,
     "metadata": {},
     "output_type": "execute_result"
    }
   ],
   "source": [
    "beam_array.shape"
   ]
  },
  {
   "cell_type": "code",
   "execution_count": 1,
   "id": "bd7090e2-a6d7-410b-b82f-cbaa4e3459fe",
   "metadata": {},
   "outputs": [],
   "source": [
    "path = \"/Users/wangyangwu/Documents/Maastro/NeuralNets/Processed_data/preprocessed_data_compressed_npz['CTV1']/P0439C0006I2866736/label.npz\""
   ]
  },
  {
   "cell_type": "code",
   "execution_count": 4,
   "id": "08dcbb5f-7429-43ef-ba08-3bbc703f5cfa",
   "metadata": {},
   "outputs": [],
   "source": [
    "y = np.load(path,allow_pickle=False)['arr_0']"
   ]
  },
  {
   "cell_type": "code",
   "execution_count": 6,
   "id": "7e83df2e-129f-4f49-a6c1-2a340a83ab6f",
   "metadata": {},
   "outputs": [
    {
     "data": {
      "text/plain": [
       "<matplotlib.image.AxesImage at 0x160e7f2e0>"
      ]
     },
     "execution_count": 6,
     "metadata": {},
     "output_type": "execute_result"
    },
    {
     "data": {
      "image/png": "[encoded data removed]",
      "text/plain": [
       "<Figure size 432x288 with 1 Axes>"
      ]
     },
     "metadata": {
      "needs_background": "light"
     },
     "output_type": "display_data"
    }
   ],
   "source": [
    "plt.imshow(y[0][60])"
   ]
  },
  {
   "cell_type": "code",
   "execution_count": 17,
   "id": "68d078e4-1432-410f-be28-7c7498fd5623",
   "metadata": {},
   "outputs": [
    {
     "data": {
      "text/plain": [
       "7642585.716826041"
      ]
     },
     "execution_count": 17,
     "metadata": {},
     "output_type": "execute_result"
    }
   ],
   "source": [
    "y[0].sum()"
   ]
  },
  {
   "cell_type": "code",
   "execution_count": 18,
   "id": "43a5815b-e3d3-4162-b7d9-d9da2a8d7b65",
   "metadata": {},
   "outputs": [],
   "source": [
    "y[0] = y[0]/100"
   ]
  },
  {
   "cell_type": "code",
   "execution_count": 19,
   "id": "64f31e22-edaa-47f3-9241-4ee14c3d39bf",
   "metadata": {},
   "outputs": [
    {
     "data": {
      "text/plain": [
       "76425.85716826047"
      ]
     },
     "execution_count": 19,
     "metadata": {},
     "output_type": "execute_result"
    }
   ],
   "source": [
    "y[0].sum()"
   ]
  },
  {
   "cell_type": "code",
   "execution_count": 3,
   "id": "6961e373-61c4-404d-91a1-b0ed5a3c76c6",
   "metadata": {},
   "outputs": [],
   "source": [
    "import torch.nn as nn\n",
    "import torch"
   ]
  },
  {
   "cell_type": "code",
   "execution_count": 13,
   "id": "8c6aef23-d101-4189-8816-2493acde0925",
   "metadata": {},
   "outputs": [],
   "source": [
    "a = torch.rand(2,2,3,4,5)"
   ]
  },
  {
   "cell_type": "code",
   "execution_count": 25,
   "id": "b9a22e36-e9f1-4aa8-9c52-080cfba206d1",
   "metadata": {},
   "outputs": [
    {
     "data": {
      "text/plain": [
       "tensor(27.8915)"
      ]
     },
     "execution_count": 25,
     "metadata": {},
     "output_type": "execute_result"
    }
   ],
   "source": [
    "a[1,1,:,:,:].sum()"
   ]
  },
  {
   "cell_type": "code",
   "execution_count": null,
   "id": "b867f555-a1e9-479c-b833-bcc641823a12",
   "metadata": {},
   "outputs": [],
   "source": []
  }
 ],
 "metadata": {
  "kernelspec": {
   "display_name": "Python 3 (ipykernel)",
   "language": "python",
   "name": "python3"
  },
  "language_info": {
   "codemirror_mode": {
    "name": "ipython",
    "version": 3
   },
   "file_extension": ".py",
   "mimetype": "text/x-python",
   "name": "python",
   "nbconvert_exporter": "python",
   "pygments_lexer": "ipython3",
   "version": "3.9.7"
  }
 },
 "nbformat": 4,
 "nbformat_minor": 5
}
