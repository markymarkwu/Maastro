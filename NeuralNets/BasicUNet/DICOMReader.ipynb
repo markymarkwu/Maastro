{
 "cells": [
  {
   "cell_type": "code",
   "execution_count": 119,
   "id": "91943051",
   "metadata": {
    "scrolled": true,
    "tags": []
   },
   "outputs": [],
   "source": [
    "from pathlib import Path\n",
    "import matplotlib.pyplot as plt\n",
    "import pydicom as pyd\n",
    "import SimpleITK as sk\n",
    "import math\n",
    "import numpy as np\n",
    "from numpy import savetxt\n",
    "import torch\n",
    "import torchio as tio\n",
    "import itk\n",
    "import os"
   ]
  },
  {
   "cell_type": "code",
   "execution_count": 2,
   "id": "fb1dc06c",
   "metadata": {},
   "outputs": [],
   "source": [
    "class DICOM_reader:\n",
    "    def __init__(self):\n",
    "        self.file_path = \"\"\n",
    "        self.CT_images = []\n",
    "    \n",
    "    def set_path(self, path):\n",
    "        self.file_path = Path(path)\n",
    "    \n",
    "    def extract_images(self):\n",
    "        file_ids = sk.ImageSeriesReader.GetGDCMSeriesIDs(str(self.file_path))\n",
    "        file_names = sk.ImageSeriesReader.GetGDCMSeriesFileNames(str(self.file_path), file_ids[0])\n",
    "        series_reader = sk.ImageSeriesReader()\n",
    "        series_reader.SetFileNames(file_names)\n",
    "        image_data = series_reader.Execute()\n",
    "        self.CT_images = sk.GetArrayFromImage(image_data)\n",
    "                \n",
    "    def visualize(self, images, if_all, idx=None):\n",
    "        if if_all:\n",
    "            idx = list(range(len(images)))\n",
    "        num1 = math.ceil(math.sqrt(len(idx)))\n",
    "        num2 = math.floor(math.sqrt(len(idx)))\n",
    "        num1 = num1+1 if num1*num2<len(idx) else num1\n",
    "        fig, axis = plt.subplots(num2, num1, figsize=(20,20))\n",
    "        slice_counter = 0\n",
    "        if len(idx)==1:\n",
    "            axis.imshow(images[idx[slice_counter]], cmap=\"gray\")\n",
    "        else:\n",
    "            if num2>1:\n",
    "                for i in range(num2):\n",
    "                    for j in range(num1):\n",
    "                        if slice_counter<len(idx):\n",
    "                            axis[i][j].imshow(images[idx[slice_counter]], cmap=\"gray\")\n",
    "                            slice_counter+=1\n",
    "                        else:\n",
    "                            break\n",
    "            else:\n",
    "                for i in range(num1):\n",
    "                    axis[i].imshow(images[idx[slice_counter]], cmap=\"gray\")\n",
    "                    slice_counter+=1\n",
    "                                \n",
    "    def get_images(self):\n",
    "        # self.CT_images = [np.expand_dims(np.array(image.astype(\"int32\")),axis=0) for image in self.CT_images]\n",
    "        return self.CT_images"
   ]
  },
  {
   "cell_type": "code",
   "execution_count": 49,
   "id": "e6fee777-657c-46de-b03e-5a35ab03f953",
   "metadata": {},
   "outputs": [],
   "source": [
    "file_path = \"/Users/wangyangwu/Documents/Maastro/NeuralNets/sample/P0439C0006I1473766/RTDOSE/1.3.6.1.4.1.32722.228.6.334797647287977966709364212462384620209/\"\n",
    "file_ids = sk.ImageSeriesReader.GetGDCMSeriesIDs(str(file_path))\n",
    "file_names = sk.ImageSeriesReader.GetGDCMSeriesFileNames(str(file_path), file_ids[0])\n",
    "series_reader = sk.ImageSeriesReader()\n",
    "series_reader.SetFileNames(file_names)\n",
    "image_data = series_reader.Execute()\n",
    "CT_images = sk.GetArrayFromImage(image_data)"
   ]
  },
  {
   "cell_type": "code",
   "execution_count": 87,
   "id": "1aa55627-73e7-4c81-aceb-573d1acfdf97",
   "metadata": {},
   "outputs": [
    {
     "ename": "RuntimeError",
     "evalue": "Exception thrown in SimpleITK Image_GetMetaData: /tmp/SimpleITK-build/ITK/Modules/Core/Common/src/itkMetaDataDictionary.cxx:77:\nITK ERROR: Key '3004|000E' does not exist ",
     "output_type": "error",
     "traceback": [
      "\u001b[0;31m---------------------------------------------------------------------------\u001b[0m",
      "\u001b[0;31mRuntimeError\u001b[0m                              Traceback (most recent call last)",
      "\u001b[0;32m/var/folders/wb/gdwc4q3s1x3cv4bftb9vssb00000gn/T/ipykernel_1896/2908157878.py\u001b[0m in \u001b[0;36m<module>\u001b[0;34m\u001b[0m\n\u001b[0;32m----> 1\u001b[0;31m \u001b[0mimage_data\u001b[0m\u001b[0;34m.\u001b[0m\u001b[0mGetMetaData\u001b[0m\u001b[0;34m(\u001b[0m\u001b[0;34m'3004|000E'\u001b[0m\u001b[0;34m)\u001b[0m\u001b[0;34m\u001b[0m\u001b[0;34m\u001b[0m\u001b[0m\n\u001b[0m",
      "\u001b[0;32m~/miniforge3/envs/maastro/lib/python3.9/site-packages/SimpleITK/SimpleITK.py\u001b[0m in \u001b[0;36mGetMetaData\u001b[0;34m(self, key)\u001b[0m\n\u001b[1;32m   3368\u001b[0m \u001b[0;34m\u001b[0m\u001b[0m\n\u001b[1;32m   3369\u001b[0m         \"\"\"\n\u001b[0;32m-> 3370\u001b[0;31m         \u001b[0;32mreturn\u001b[0m \u001b[0m_SimpleITK\u001b[0m\u001b[0;34m.\u001b[0m\u001b[0mImage_GetMetaData\u001b[0m\u001b[0;34m(\u001b[0m\u001b[0mself\u001b[0m\u001b[0;34m,\u001b[0m \u001b[0mkey\u001b[0m\u001b[0;34m)\u001b[0m\u001b[0;34m\u001b[0m\u001b[0;34m\u001b[0m\u001b[0m\n\u001b[0m\u001b[1;32m   3371\u001b[0m \u001b[0;34m\u001b[0m\u001b[0m\n\u001b[1;32m   3372\u001b[0m     \u001b[0;32mdef\u001b[0m \u001b[0mSetMetaData\u001b[0m\u001b[0;34m(\u001b[0m\u001b[0mself\u001b[0m\u001b[0;34m,\u001b[0m \u001b[0mkey\u001b[0m\u001b[0;34m,\u001b[0m \u001b[0mvalue\u001b[0m\u001b[0;34m)\u001b[0m\u001b[0;34m:\u001b[0m\u001b[0;34m\u001b[0m\u001b[0;34m\u001b[0m\u001b[0m\n",
      "\u001b[0;31mRuntimeError\u001b[0m: Exception thrown in SimpleITK Image_GetMetaData: /tmp/SimpleITK-build/ITK/Modules/Core/Common/src/itkMetaDataDictionary.cxx:77:\nITK ERROR: Key '3004|000E' does not exist "
     ]
    }
   ],
   "source": [
    "image_data.GetMetaData('3004|000E')"
   ]
  },
  {
   "cell_type": "code",
   "execution_count": 53,
   "id": "f5b6cc4f-32a9-4e62-a118-138f7bae345a",
   "metadata": {},
   "outputs": [
    {
     "data": {
      "text/plain": [
       "(1, 99, 100, 191)"
      ]
     },
     "execution_count": 53,
     "metadata": {},
     "output_type": "execute_result"
    }
   ],
   "source": [
    "CT_images.shape*image_data.GetNumberOfComponentsPerPixel()"
   ]
  },
  {
   "cell_type": "code",
   "execution_count": 51,
   "id": "bcdddb0e-0eaa-41e1-a530-98ce95872228",
   "metadata": {},
   "outputs": [
    {
     "data": {
      "text/plain": [
       "<matplotlib.image.AxesImage at 0x295c695b0>"
      ]
     },
     "execution_count": 51,
     "metadata": {},
     "output_type": "execute_result"
    },
    {
     "data": {
      "image/png": "[encoded data removed]",
      "text/plain": [
       "<Figure size 432x288 with 1 Axes>"
      ]
     },
     "metadata": {
      "needs_background": "light"
     },
     "output_type": "display_data"
    }
   ],
   "source": [
    "plt.imshow(CT_images[0][50])"
   ]
  },
  {
   "cell_type": "code",
   "execution_count": null,
   "id": "5fe231bb-a2bd-4309-b10a-5c7c49f73cda",
   "metadata": {},
   "outputs": [],
   "source": []
  },
  {
   "cell_type": "code",
   "execution_count": 15,
   "id": "92f2e611-946d-4595-9262-539a13bb0fdf",
   "metadata": {},
   "outputs": [
    {
     "ename": "KeyError",
     "evalue": "'\"Patient ID\" not in meta-data dictionary'",
     "output_type": "error",
     "traceback": [
      "\u001b[0;31m---------------------------------------------------------------------------\u001b[0m",
      "\u001b[0;31mRuntimeError\u001b[0m                              Traceback (most recent call last)",
      "\u001b[0;32m~/miniforge3/envs/maastro/lib/python3.9/site-packages/SimpleITK/SimpleITK.py\u001b[0m in \u001b[0;36m__getitem__\u001b[0;34m(self, idx)\u001b[0m\n\u001b[1;32m   4114\u001b[0m             \u001b[0;32mtry\u001b[0m\u001b[0;34m:\u001b[0m\u001b[0;34m\u001b[0m\u001b[0;34m\u001b[0m\u001b[0m\n\u001b[0;32m-> 4115\u001b[0;31m               \u001b[0;32mreturn\u001b[0m \u001b[0mself\u001b[0m\u001b[0;34m.\u001b[0m\u001b[0mGetMetaData\u001b[0m\u001b[0;34m(\u001b[0m\u001b[0midx\u001b[0m\u001b[0;34m)\u001b[0m\u001b[0;34m\u001b[0m\u001b[0;34m\u001b[0m\u001b[0m\n\u001b[0m\u001b[1;32m   4116\u001b[0m             \u001b[0;32mexcept\u001b[0m \u001b[0mRuntimeError\u001b[0m \u001b[0;32mas\u001b[0m \u001b[0me\u001b[0m\u001b[0;34m:\u001b[0m\u001b[0;34m\u001b[0m\u001b[0;34m\u001b[0m\u001b[0m\n",
      "\u001b[0;32m~/miniforge3/envs/maastro/lib/python3.9/site-packages/SimpleITK/SimpleITK.py\u001b[0m in \u001b[0;36mGetMetaData\u001b[0;34m(self, key)\u001b[0m\n\u001b[1;32m   3369\u001b[0m         \"\"\"\n\u001b[0;32m-> 3370\u001b[0;31m         \u001b[0;32mreturn\u001b[0m \u001b[0m_SimpleITK\u001b[0m\u001b[0;34m.\u001b[0m\u001b[0mImage_GetMetaData\u001b[0m\u001b[0;34m(\u001b[0m\u001b[0mself\u001b[0m\u001b[0;34m,\u001b[0m \u001b[0mkey\u001b[0m\u001b[0;34m)\u001b[0m\u001b[0;34m\u001b[0m\u001b[0;34m\u001b[0m\u001b[0m\n\u001b[0m\u001b[1;32m   3371\u001b[0m \u001b[0;34m\u001b[0m\u001b[0m\n",
      "\u001b[0;31mRuntimeError\u001b[0m: Exception thrown in SimpleITK Image_GetMetaData: /tmp/SimpleITK-build/ITK/Modules/Core/Common/src/itkMetaDataDictionary.cxx:77:\nITK ERROR: Key 'Patient ID' does not exist ",
      "\nDuring handling of the above exception, another exception occurred:\n",
      "\u001b[0;31mKeyError\u001b[0m                                  Traceback (most recent call last)",
      "\u001b[0;32m/var/folders/wb/gdwc4q3s1x3cv4bftb9vssb00000gn/T/ipykernel_4737/3653631738.py\u001b[0m in \u001b[0;36m<module>\u001b[0;34m\u001b[0m\n\u001b[0;32m----> 1\u001b[0;31m \u001b[0mimage_data\u001b[0m\u001b[0;34m[\u001b[0m\u001b[0;34m'Patient ID'\u001b[0m\u001b[0;34m]\u001b[0m\u001b[0;34m\u001b[0m\u001b[0;34m\u001b[0m\u001b[0m\n\u001b[0m",
      "\u001b[0;32m~/miniforge3/envs/maastro/lib/python3.9/site-packages/SimpleITK/SimpleITK.py\u001b[0m in \u001b[0;36m__getitem__\u001b[0;34m(self, idx)\u001b[0m\n\u001b[1;32m   4116\u001b[0m             \u001b[0;32mexcept\u001b[0m \u001b[0mRuntimeError\u001b[0m \u001b[0;32mas\u001b[0m \u001b[0me\u001b[0m\u001b[0;34m:\u001b[0m\u001b[0;34m\u001b[0m\u001b[0;34m\u001b[0m\u001b[0m\n\u001b[1;32m   4117\u001b[0m                 \u001b[0;32mif\u001b[0m \u001b[0;32mnot\u001b[0m \u001b[0mself\u001b[0m\u001b[0;34m.\u001b[0m\u001b[0mHasMetaDataKey\u001b[0m\u001b[0;34m(\u001b[0m \u001b[0midx\u001b[0m \u001b[0;34m)\u001b[0m\u001b[0;34m:\u001b[0m\u001b[0;34m\u001b[0m\u001b[0;34m\u001b[0m\u001b[0m\n\u001b[0;32m-> 4118\u001b[0;31m                   \u001b[0;32mraise\u001b[0m \u001b[0mKeyError\u001b[0m\u001b[0;34m(\u001b[0m\u001b[0;34mf\"\\\"{idx}\\\" not in meta-data dictionary\"\u001b[0m\u001b[0;34m)\u001b[0m\u001b[0;34m\u001b[0m\u001b[0;34m\u001b[0m\u001b[0m\n\u001b[0m\u001b[1;32m   4119\u001b[0m                 \u001b[0;32mraise\u001b[0m \u001b[0me\u001b[0m\u001b[0;34m\u001b[0m\u001b[0;34m\u001b[0m\u001b[0m\n\u001b[1;32m   4120\u001b[0m \u001b[0;34m\u001b[0m\u001b[0m\n",
      "\u001b[0;31mKeyError\u001b[0m: '\"Patient ID\" not in meta-data dictionary'"
     ]
    }
   ],
   "source": [
    "image_data['Patient ID']"
   ]
  },
  {
   "cell_type": "code",
   "execution_count": 5,
   "id": "25514b0e",
   "metadata": {},
   "outputs": [
    {
     "data": {
      "text/plain": [
       "(117, 110, 165)"
      ]
     },
     "execution_count": 5,
     "metadata": {},
     "output_type": "execute_result"
    }
   ],
   "source": [
    "CT_images[0].shape"
   ]
  },
  {
   "cell_type": "code",
   "execution_count": 33,
   "id": "8338c86d",
   "metadata": {},
   "outputs": [
    {
     "data": {
      "text/plain": [
       "(166, 512, 586)"
      ]
     },
     "execution_count": 33,
     "metadata": {},
     "output_type": "execute_result"
    }
   ],
   "source": [
    "CT_images.shape"
   ]
  },
  {
   "cell_type": "code",
   "execution_count": 31,
   "id": "41ed01ef",
   "metadata": {},
   "outputs": [],
   "source": [
    "itk_array = itk.GetArrayFromImage(itk.imread(file_path))"
   ]
  },
  {
   "cell_type": "code",
   "execution_count": 32,
   "id": "57222b79",
   "metadata": {},
   "outputs": [
    {
     "data": {
      "text/plain": [
       "(166, 512, 586)"
      ]
     },
     "execution_count": 32,
     "metadata": {},
     "output_type": "execute_result"
    }
   ],
   "source": [
    "itk_array.shape"
   ]
  },
  {
   "cell_type": "code",
   "execution_count": 2,
   "id": "3df84756",
   "metadata": {},
   "outputs": [],
   "source": [
    "file = pyd.read_file(\"/Users/wangyangwu/Documents/Maastro/NeuralNets/sample/P0439C0006I1473766/RTDOSE/1.3.6.1.4.1.32722.228.6.334797647287977966709364212462384620209/1.3.6.1.4.1.32722.228.6.36725526625681761397802081573539292769.dcm\")"
   ]
  },
  {
   "cell_type": "code",
   "execution_count": 110,
   "id": "c29d7999-1b31-4d3a-9fd8-65a6b1d637fc",
   "metadata": {},
   "outputs": [],
   "source": [
    "file_reader = sk.ImageFileReader()\n",
    "file_reader.SetFileName(\"/Users/wangyangwu/Documents/Maastro/NeuralNets/sample/P0439C0006I1473766/RTDOSE/1.3.6.1.4.1.32722.228.6.334797647287977966709364212462384620209/1.3.6.1.4.1.32722.228.6.36725526625681761397802081573539292769.dcm\")\n",
    "dose = file_reader.Execute()"
   ]
  },
  {
   "cell_type": "code",
   "execution_count": 141,
   "id": "343ab7fb-3af1-4d04-9a1a-a71f8e277ece",
   "metadata": {},
   "outputs": [
    {
     "data": {
      "text/plain": [
       "[-612.3, -329.3209, -326.5289]"
      ]
     },
     "execution_count": 141,
     "metadata": {},
     "output_type": "execute_result"
    }
   ],
   "source": [
    "list(dose.GetOrigin())[::-1]"
   ]
  },
  {
   "cell_type": "code",
   "execution_count": 116,
   "id": "472db614-1a1e-4ff9-9ffa-9839d3794353",
   "metadata": {},
   "outputs": [
    {
     "data": {
      "text/plain": [
       "0.0009521339"
      ]
     },
     "execution_count": 116,
     "metadata": {},
     "output_type": "execute_result"
    }
   ],
   "source": [
    "float(dose.GetMetaData('3004|000e'))"
   ]
  },
  {
   "cell_type": "code",
   "execution_count": 127,
   "id": "ebf3c2a6-eac8-47e2-aba9-398f745a13bc",
   "metadata": {},
   "outputs": [],
   "source": [
    "mypath = \"/Users/wangyangwu/Documents/Maastro/NeuralNets/sample/P0439C0006I1473766/RTDOSE/1.3.6.1.4.1.32722.228.6.334797647287977966709364212462384620209\"\n",
    "onlyfiles = [os.path.join(mypath, f) for f in os.listdir(mypath)]"
   ]
  },
  {
   "cell_type": "code",
   "execution_count": 128,
   "id": "91981670-2934-4d4b-94d8-50a11abe04ec",
   "metadata": {},
   "outputs": [
    {
     "data": {
      "text/plain": [
       "['/Users/wangyangwu/Documents/Maastro/NeuralNets/sample/P0439C0006I1473766/RTDOSE/1.3.6.1.4.1.32722.228.6.334797647287977966709364212462384620209/1.3.6.1.4.1.32722.228.6.36725526625681761397802081573539292769.dcm']"
      ]
     },
     "execution_count": 128,
     "metadata": {},
     "output_type": "execute_result"
    }
   ],
   "source": [
    "onlyfiles"
   ]
  },
  {
   "cell_type": "code",
   "execution_count": 142,
   "id": "22110efd-3907-4f75-b712-f5f31e57008b",
   "metadata": {},
   "outputs": [
    {
     "data": {
      "text/plain": [
       "-1.0"
      ]
     },
     "execution_count": 142,
     "metadata": {},
     "output_type": "execute_result"
    }
   ],
   "source": [
    "np.ceil(-1.3)"
   ]
  },
  {
   "cell_type": "code",
   "execution_count": 155,
   "id": "9ef2d832-bffc-48d9-a416-ff9ef0083af6",
   "metadata": {},
   "outputs": [
    {
     "data": {
      "text/plain": [
       "range(50, 0, -1)"
      ]
     },
     "execution_count": 155,
     "metadata": {},
     "output_type": "execute_result"
    }
   ],
   "source": [
    "y = 50\n",
    "range(y,0,-1)"
   ]
  },
  {
   "cell_type": "code",
   "execution_count": 164,
   "id": "33f1e653-676c-49df-8b8b-168c2d383556",
   "metadata": {},
   "outputs": [],
   "source": [
    "from functools import reduce\n",
    "l = list(map(lambda x:x-1 if(x>40) else 1000, range(y,0,-1)))"
   ]
  },
  {
   "cell_type": "code",
   "execution_count": 165,
   "id": "f37df804-c9fa-464c-996f-a1529ab6f8e3",
   "metadata": {},
   "outputs": [
    {
     "data": {
      "text/plain": [
       "40"
      ]
     },
     "execution_count": 165,
     "metadata": {},
     "output_type": "execute_result"
    }
   ],
   "source": [
    "min(l)"
   ]
  },
  {
   "cell_type": "code",
   "execution_count": null,
   "id": "fd1e9555-74c0-42f2-a801-d63680c5bfaf",
   "metadata": {},
   "outputs": [],
   "source": []
  }
 ],
 "metadata": {
  "kernelspec": {
   "display_name": "Python 3 (ipykernel)",
   "language": "python",
   "name": "python3"
  },
  "language_info": {
   "codemirror_mode": {
    "name": "ipython",
    "version": 3
   },
   "file_extension": ".py",
   "mimetype": "text/x-python",
   "name": "python",
   "nbconvert_exporter": "python",
   "pygments_lexer": "ipython3",
   "version": "3.9.7"
  }
 },
 "nbformat": 4,
 "nbformat_minor": 5
}
