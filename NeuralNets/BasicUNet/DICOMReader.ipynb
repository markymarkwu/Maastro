{
 "cells": [
  {
   "cell_type": "code",
   "execution_count": 1,
   "id": "91943051",
   "metadata": {
    "scrolled": true,
    "tags": []
   },
   "outputs": [],
   "source": [
    "from pathlib import Path\n",
    "import matplotlib.pyplot as plt\n",
    "import pydicom as pyd\n",
    "import SimpleITK as sk\n",
    "import math\n",
    "import numpy as np\n",
    "from numpy import savetxt\n",
    "import torch\n",
    "import torchio as tio\n",
    "import itk\n",
    "import os"
   ]
  },
  {
   "cell_type": "code",
   "execution_count": 2,
   "id": "fb1dc06c",
   "metadata": {},
   "outputs": [],
   "source": [
    "class DICOM_reader:\n",
    "    def __init__(self):\n",
    "        self.file_path = \"\"\n",
    "        self.CT_images = []\n",
    "    \n",
    "    def set_path(self, path):\n",
    "        self.file_path = Path(path)\n",
    "    \n",
    "    def extract_images(self):\n",
    "        file_ids = sk.ImageSeriesReader.GetGDCMSeriesIDs(str(self.file_path))\n",
    "        file_names = sk.ImageSeriesReader.GetGDCMSeriesFileNames(str(self.file_path), file_ids[0])\n",
    "        series_reader = sk.ImageSeriesReader()\n",
    "        series_reader.SetFileNames(file_names)\n",
    "        image_data = series_reader.Execute()\n",
    "        self.CT_images = sk.GetArrayFromImage(image_data)\n",
    "                \n",
    "    def visualize(self, images, if_all, idx=None):\n",
    "        if if_all:\n",
    "            idx = list(range(len(images)))\n",
    "        num1 = math.ceil(math.sqrt(len(idx)))\n",
    "        num2 = math.floor(math.sqrt(len(idx)))\n",
    "        num1 = num1+1 if num1*num2<len(idx) else num1\n",
    "        fig, axis = plt.subplots(num2, num1, figsize=(20,20))\n",
    "        slice_counter = 0\n",
    "        if len(idx)==1:\n",
    "            axis.imshow(images[idx[slice_counter]], cmap=\"gray\")\n",
    "        else:\n",
    "            if num2>1:\n",
    "                for i in range(num2):\n",
    "                    for j in range(num1):\n",
    "                        if slice_counter<len(idx):\n",
    "                            axis[i][j].imshow(images[idx[slice_counter]], cmap=\"gray\")\n",
    "                            slice_counter+=1\n",
    "                        else:\n",
    "                            break\n",
    "            else:\n",
    "                for i in range(num1):\n",
    "                    axis[i].imshow(images[idx[slice_counter]], cmap=\"gray\")\n",
    "                    slice_counter+=1\n",
    "                                \n",
    "    def get_images(self):\n",
    "        # self.CT_images = [np.expand_dims(np.array(image.astype(\"int32\")),axis=0) for image in self.CT_images]\n",
    "        return self.CT_images"
   ]
  },
  {
   "cell_type": "code",
   "execution_count": 49,
   "id": "e6fee777-657c-46de-b03e-5a35ab03f953",
   "metadata": {},
   "outputs": [],
   "source": [
    "file_path = \"/Users/wangyangwu/Documents/Maastro/NeuralNets/sample/P0439C0006I1473766/RTDOSE/1.3.6.1.4.1.32722.228.6.334797647287977966709364212462384620209/\"\n",
    "file_ids = sk.ImageSeriesReader.GetGDCMSeriesIDs(str(file_path))\n",
    "file_names = sk.ImageSeriesReader.GetGDCMSeriesFileNames(str(file_path), file_ids[0])\n",
    "series_reader = sk.ImageSeriesReader()\n",
    "series_reader.SetFileNames(file_names)\n",
    "image_data = series_reader.Execute()\n",
    "CT_images = sk.GetArrayFromImage(image_data)"
   ]
  },
  {
   "cell_type": "code",
   "execution_count": 87,
   "id": "1aa55627-73e7-4c81-aceb-573d1acfdf97",
   "metadata": {},
   "outputs": [
    {
     "ename": "RuntimeError",
     "evalue": "Exception thrown in SimpleITK Image_GetMetaData: /tmp/SimpleITK-build/ITK/Modules/Core/Common/src/itkMetaDataDictionary.cxx:77:\nITK ERROR: Key '3004|000E' does not exist ",
     "output_type": "error",
     "traceback": [
      "\u001b[0;31m---------------------------------------------------------------------------\u001b[0m",
      "\u001b[0;31mRuntimeError\u001b[0m                              Traceback (most recent call last)",
      "\u001b[0;32m/var/folders/wb/gdwc4q3s1x3cv4bftb9vssb00000gn/T/ipykernel_1896/2908157878.py\u001b[0m in \u001b[0;36m<module>\u001b[0;34m\u001b[0m\n\u001b[0;32m----> 1\u001b[0;31m \u001b[0mimage_data\u001b[0m\u001b[0;34m.\u001b[0m\u001b[0mGetMetaData\u001b[0m\u001b[0;34m(\u001b[0m\u001b[0;34m'3004|000E'\u001b[0m\u001b[0;34m)\u001b[0m\u001b[0;34m\u001b[0m\u001b[0;34m\u001b[0m\u001b[0m\n\u001b[0m",
      "\u001b[0;32m~/miniforge3/envs/maastro/lib/python3.9/site-packages/SimpleITK/SimpleITK.py\u001b[0m in \u001b[0;36mGetMetaData\u001b[0;34m(self, key)\u001b[0m\n\u001b[1;32m   3368\u001b[0m \u001b[0;34m\u001b[0m\u001b[0m\n\u001b[1;32m   3369\u001b[0m         \"\"\"\n\u001b[0;32m-> 3370\u001b[0;31m         \u001b[0;32mreturn\u001b[0m \u001b[0m_SimpleITK\u001b[0m\u001b[0;34m.\u001b[0m\u001b[0mImage_GetMetaData\u001b[0m\u001b[0;34m(\u001b[0m\u001b[0mself\u001b[0m\u001b[0;34m,\u001b[0m \u001b[0mkey\u001b[0m\u001b[0;34m)\u001b[0m\u001b[0;34m\u001b[0m\u001b[0;34m\u001b[0m\u001b[0m\n\u001b[0m\u001b[1;32m   3371\u001b[0m \u001b[0;34m\u001b[0m\u001b[0m\n\u001b[1;32m   3372\u001b[0m     \u001b[0;32mdef\u001b[0m \u001b[0mSetMetaData\u001b[0m\u001b[0;34m(\u001b[0m\u001b[0mself\u001b[0m\u001b[0;34m,\u001b[0m \u001b[0mkey\u001b[0m\u001b[0;34m,\u001b[0m \u001b[0mvalue\u001b[0m\u001b[0;34m)\u001b[0m\u001b[0;34m:\u001b[0m\u001b[0;34m\u001b[0m\u001b[0;34m\u001b[0m\u001b[0m\n",
      "\u001b[0;31mRuntimeError\u001b[0m: Exception thrown in SimpleITK Image_GetMetaData: /tmp/SimpleITK-build/ITK/Modules/Core/Common/src/itkMetaDataDictionary.cxx:77:\nITK ERROR: Key '3004|000E' does not exist "
     ]
    }
   ],
   "source": [
    "image_data.GetMetaData('3004|000E')"
   ]
  },
  {
   "cell_type": "code",
   "execution_count": 53,
   "id": "f5b6cc4f-32a9-4e62-a118-138f7bae345a",
   "metadata": {},
   "outputs": [
    {
     "data": {
      "text/plain": [
       "(1, 99, 100, 191)"
      ]
     },
     "execution_count": 53,
     "metadata": {},
     "output_type": "execute_result"
    }
   ],
   "source": [
    "CT_images.shape*image_data.GetNumberOfComponentsPerPixel()"
   ]
  },
  {
   "cell_type": "code",
   "execution_count": 24,
   "id": "5fe231bb-a2bd-4309-b10a-5c7c49f73cda",
   "metadata": {},
   "outputs": [],
   "source": [
    "import torch.nn as nn"
   ]
  },
  {
   "cell_type": "code",
   "execution_count": 2,
   "id": "c29d7999-1b31-4d3a-9fd8-65a6b1d637fc",
   "metadata": {},
   "outputs": [],
   "source": [
    "file_reader = sk.ImageFileReader()\n",
    "file_reader.SetFileName(\"/Users/wangyangwu/Documents/Maastro/NeuralNets/sample/P0439C0006I1473766/RTDOSE/1.3.6.1.4.1.32722.228.6.334797647287977966709364212462384620209/1.3.6.1.4.1.32722.228.6.36725526625681761397802081573539292769.dcm\")\n",
    "dose = file_reader.Execute()"
   ]
  },
  {
   "cell_type": "code",
   "execution_count": 34,
   "id": "fd1e9555-74c0-42f2-a801-d63680c5bfaf",
   "metadata": {},
   "outputs": [],
   "source": [
    "d = torch.Tensor(np.stack([sk.GetArrayFromImage(dose).astype(\"float32\")]))"
   ]
  },
  {
   "cell_type": "code",
   "execution_count": 87,
   "id": "f19b3163-8d46-4be5-ac15-bc8770cc19a8",
   "metadata": {},
   "outputs": [
    {
     "data": {
      "text/plain": [
       "65535.0"
      ]
     },
     "execution_count": 87,
     "metadata": {},
     "output_type": "execute_result"
    }
   ],
   "source": [
    "np.max(sk.GetArrayFromImage(dose).astype(\"float32\"))"
   ]
  },
  {
   "cell_type": "code",
   "execution_count": 77,
   "id": "b50cd892-d7ef-46b3-8652-dd92a39f59df",
   "metadata": {},
   "outputs": [],
   "source": [
    "softmaxer = nn.Softmax(dim=0)"
   ]
  },
  {
   "cell_type": "code",
   "execution_count": 78,
   "id": "7af0bc52-36be-4be1-ab24-e3d480c158f8",
   "metadata": {},
   "outputs": [],
   "source": [
    "e = softmaxer(d)"
   ]
  },
  {
   "cell_type": "code",
   "execution_count": 79,
   "id": "558434b8-184b-4f4f-a429-ad63cc60e3e2",
   "metadata": {},
   "outputs": [
    {
     "data": {
      "text/plain": [
       "tensor(1890900.)"
      ]
     },
     "execution_count": 79,
     "metadata": {},
     "output_type": "execute_result"
    }
   ],
   "source": [
    "e.sum()"
   ]
  },
  {
   "cell_type": "code",
   "execution_count": 99,
   "id": "f270277b-35ec-4697-9ef0-466f56459ddc",
   "metadata": {},
   "outputs": [],
   "source": [
    "r = torch.randn(1,1,3,4,5)"
   ]
  },
  {
   "cell_type": "code",
   "execution_count": 100,
   "id": "5960bb75-b767-4e10-95b5-3940c8f25211",
   "metadata": {},
   "outputs": [
    {
     "data": {
      "text/plain": [
       "tensor([[[[[ 0.9084, -2.1716, -1.5608,  0.9693,  1.0599],\n",
       "           [-1.3696,  0.8443,  0.5409, -1.7633, -0.6439],\n",
       "           [ 0.4953,  1.7789, -0.3565, -0.0397, -0.4737],\n",
       "           [ 1.3160,  0.3967,  1.7767, -0.6830,  1.9536]],\n",
       "\n",
       "          [[ 0.6027, -0.5257,  0.0117, -1.2943,  0.4264],\n",
       "           [ 1.2755, -1.1833,  1.2318, -0.3948,  0.0425],\n",
       "           [-0.2996, -1.2784, -3.0218, -0.2793, -1.0589],\n",
       "           [-0.4263,  0.9547, -0.4759, -1.3520,  0.1217]],\n",
       "\n",
       "          [[ 1.5289,  1.6560,  0.2515,  1.3280,  1.7406],\n",
       "           [-0.6894,  0.3340,  0.3991,  0.8495, -0.4814],\n",
       "           [-0.7442,  0.0183,  1.7785,  0.0787,  1.0072],\n",
       "           [-1.7541, -1.1762,  0.4201, -1.4321,  0.0500]]]]])"
      ]
     },
     "execution_count": 100,
     "metadata": {},
     "output_type": "execute_result"
    }
   ],
   "source": [
    "r"
   ]
  },
  {
   "cell_type": "code",
   "execution_count": 101,
   "id": "0be3942e-043b-461d-b6e5-8ce8a25b9731",
   "metadata": {},
   "outputs": [],
   "source": [
    "rr = (r-r.min())/(r.max()-r.min())"
   ]
  },
  {
   "cell_type": "code",
   "execution_count": 102,
   "id": "82c6499c-e27b-4b37-98f4-ccedd13c397a",
   "metadata": {},
   "outputs": [
    {
     "data": {
      "text/plain": [
       "tensor([[[[[0.7899, 0.1709, 0.2936, 0.8022, 0.8204],\n",
       "           [0.3321, 0.7770, 0.7161, 0.2529, 0.4779],\n",
       "           [0.7069, 0.9649, 0.5357, 0.5994, 0.5121],\n",
       "           [0.8718, 0.6871, 0.9644, 0.4701, 1.0000]],\n",
       "\n",
       "          [[0.7285, 0.5017, 0.6097, 0.3472, 0.6931],\n",
       "           [0.8637, 0.3695, 0.8549, 0.5280, 0.6159],\n",
       "           [0.5471, 0.3504, 0.0000, 0.5512, 0.3945],\n",
       "           [0.5217, 0.7992, 0.5117, 0.3356, 0.6318]],\n",
       "\n",
       "          [[0.9146, 0.9402, 0.6579, 0.8743, 0.9572],\n",
       "           [0.4688, 0.6745, 0.6876, 0.7781, 0.5106],\n",
       "           [0.4578, 0.6110, 0.9648, 0.6232, 0.8098],\n",
       "           [0.2548, 0.3709, 0.6918, 0.3195, 0.6174]]]]])"
      ]
     },
     "execution_count": 102,
     "metadata": {},
     "output_type": "execute_result"
    }
   ],
   "source": [
    "rr"
   ]
  },
  {
   "cell_type": "code",
   "execution_count": 97,
   "id": "c1547b46-6597-49fb-b4a8-eabcb6538e94",
   "metadata": {},
   "outputs": [
    {
     "data": {
      "text/plain": [
       "tensor(48.4965)"
      ]
     },
     "execution_count": 97,
     "metadata": {},
     "output_type": "execute_result"
    }
   ],
   "source": [
    "rr.sum()"
   ]
  },
  {
   "cell_type": "code",
   "execution_count": 82,
   "id": "03677e9e-62c4-4613-a7a8-824b16fdbc0c",
   "metadata": {},
   "outputs": [],
   "source": [
    "e = softmaxer(r)"
   ]
  },
  {
   "cell_type": "code",
   "execution_count": 83,
   "id": "ca08af7b-3d5e-4e6a-9763-43bd9af1c20e",
   "metadata": {},
   "outputs": [
    {
     "data": {
      "text/plain": [
       "tensor([[[[1., 1., 1., 1., 1.],\n",
       "          [1., 1., 1., 1., 1.],\n",
       "          [1., 1., 1., 1., 1.],\n",
       "          [1., 1., 1., 1., 1.]],\n",
       "\n",
       "         [[1., 1., 1., 1., 1.],\n",
       "          [1., 1., 1., 1., 1.],\n",
       "          [1., 1., 1., 1., 1.],\n",
       "          [1., 1., 1., 1., 1.]],\n",
       "\n",
       "         [[1., 1., 1., 1., 1.],\n",
       "          [1., 1., 1., 1., 1.],\n",
       "          [1., 1., 1., 1., 1.],\n",
       "          [1., 1., 1., 1., 1.]]]])"
      ]
     },
     "execution_count": 83,
     "metadata": {},
     "output_type": "execute_result"
    }
   ],
   "source": [
    "e"
   ]
  },
  {
   "cell_type": "code",
   "execution_count": null,
   "id": "2e55035c-d60d-4d93-bd18-ead29ef04917",
   "metadata": {},
   "outputs": [],
   "source": []
  }
 ],
 "metadata": {
  "kernelspec": {
   "display_name": "Python 3 (ipykernel)",
   "language": "python",
   "name": "python3"
  },
  "language_info": {
   "codemirror_mode": {
    "name": "ipython",
    "version": 3
   },
   "file_extension": ".py",
   "mimetype": "text/x-python",
   "name": "python",
   "nbconvert_exporter": "python",
   "pygments_lexer": "ipython3",
   "version": "3.9.7"
  }
 },
 "nbformat": 4,
 "nbformat_minor": 5
}
