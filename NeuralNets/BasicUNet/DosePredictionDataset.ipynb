{
 "cells": [
  {
   "cell_type": "code",
   "execution_count": 3,
   "id": "6893faf6",
   "metadata": {},
   "outputs": [],
   "source": [
    "import torch\n",
    "from torch.utils.data import Dataset\n",
    "import numpy as np\n",
    "import os\n",
    "import torch.nn as nn\n",
    "import pydicom\n",
    "import SimpleITK as sk\n",
    "from pathlib import Path"
   ]
  },
  {
   "cell_type": "code",
   "execution_count": 4,
   "id": "fbdc804c",
   "metadata": {},
   "outputs": [],
   "source": [
    "class DosePrdictionDataset(Dataset):\n",
    "    def __init__(self,  \n",
    "                 input_dir:list,\n",
    "                 input_types:list,\n",
    "                 transform=None, \n",
    "                ):\n",
    "        self.transform = transform\n",
    "        self.input_dir = input_dir\n",
    "        self.input_types = input_types\n",
    "        \n",
    "    def __len__(self):\n",
    "        return len(self.input_dir)\n",
    "    \n",
    "    def __getitem__(self, index:int):\n",
    "        subfolder_dir = self.input_dir[index]\n",
    "        X, y = self.get_X_y(subfolder_dir)\n",
    "        return X,y\n",
    "    \n",
    "    ## SHOULD BE CHANGED ACCORDINGLY\n",
    "    def get_X_y(self, subfolder_dir):\n",
    "#         images = []\n",
    "#         for root, dirs, files in os.walk(subfolder_dir):\n",
    "#             images = [file for file in files if \".dcm\" in file]        \n",
    "#         X_paths = [os.path.join(subfolder_dir, image) for image in images if any(input_type in image for input_type in self.input_types)]\n",
    "#         y_paths = [os.path.join(subfolder_dir, image) for image in images if \"dose_distribution\" in image]\n",
    "        \n",
    "        patient_dir = []\n",
    "        for root, dirs, files in os.walk(subfolder_dir):\n",
    "            patient_dir.append(root)    \n",
    "        X_paths = [os.path.join(subfolder_dir, patient) for patient in patient_dir if any(input_type in patient for input_type in self.input_types)]\n",
    "        y_paths = [os.path.join(subfolder_dir, patient) for patient in patient_dir if \"dose_distribution\" in patient]\n",
    "        \n",
    "        if self.transform != None:\n",
    "            X_images = [self.transform(pydicom.dcmread(image_path).pixel_array) for image_path in X_paths]\n",
    "            y_image = self.transform(pydicom.dcmread(y_paths[0]).pixel_array)\n",
    "        else:\n",
    "            # X_images = [pydicom.dcmread(image_path).pixel_array for image_path in X_paths]\n",
    "            # y_image = np.array([pydicom.dcmread(y_paths[0]).pixel_array])   \n",
    "            X_images = [self.extract_images(image_path) for image_path in X_paths]\n",
    "            y_image = np.array([self.extract_images(y_paths[0])])\n",
    "            \n",
    "        X = torch.from_numpy(np.stack(X_images).astype(\"int32\")).type(torch.float32)\n",
    "        y = torch.from_numpy(y_image.astype(\"int32\")).type(torch.float32)\n",
    "        \n",
    "        return X,y\n",
    "    \n",
    "    def extract_images(self, folder_path):\n",
    "        folder_path = Path(folder_path)\n",
    "        file_ids = sk.ImageSeriesReader.GetGDCMSeriesIDs(str(folder_path))\n",
    "        file_names = sk.ImageSeriesReader.GetGDCMSeriesFileNames(str(folder_path), file_ids[0])\n",
    "        series_reader = sk.ImageSeriesReader()\n",
    "        series_reader.SetFileNames(file_names)\n",
    "        image_data = series_reader.Execute()\n",
    "        images_3D = sk.GetArrayFromImage(image_data)\n",
    "        return images_3D"
   ]
  },
  {
   "cell_type": "code",
   "execution_count": null,
   "id": "da9b360a-606b-45f2-a3bd-5391077c33f1",
   "metadata": {},
   "outputs": [],
   "source": []
  },
  {
   "cell_type": "code",
   "execution_count": null,
   "id": "5892201e-4349-4d1c-a56f-ac58c41789ba",
   "metadata": {},
   "outputs": [],
   "source": []
  },
  {
   "cell_type": "code",
   "execution_count": null,
   "id": "3e8677f4-d4f7-4ba1-9ded-c3e3a86b7534",
   "metadata": {},
   "outputs": [],
   "source": []
  },
  {
   "cell_type": "code",
   "execution_count": null,
   "id": "46619962-f513-48f0-ae68-acef287f7a1f",
   "metadata": {},
   "outputs": [],
   "source": []
  },
  {
   "cell_type": "code",
   "execution_count": 5,
   "id": "4e112bdb-99d0-499d-aaee-b9d2063bf3bf",
   "metadata": {},
   "outputs": [
    {
     "data": {
      "text/plain": [
       "['/Users/wangyangwu/Documents/Maastro/NeuralNets/BasicUNet/sample2/Patient1',\n",
       " '/Users/wangyangwu/Documents/Maastro/NeuralNets/BasicUNet/sample2/Patient1/Lung',\n",
       " '/Users/wangyangwu/Documents/Maastro/NeuralNets/BasicUNet/sample2/Patient1/CT',\n",
       " '/Users/wangyangwu/Documents/Maastro/NeuralNets/BasicUNet/sample2/Patient1/dose_distribution']"
      ]
     },
     "execution_count": 5,
     "metadata": {},
     "output_type": "execute_result"
    }
   ],
   "source": [
    "images = []\n",
    "subfolder_dir = \"/Users/wangyangwu/Documents/Maastro/NeuralNets/BasicUNet/sample2/Patient1\"\n",
    "input_types = [\"Lung\", \"CT\"]\n",
    "for root, dirs, files in os.walk(subfolder_dir):\n",
    "    images.append(root)   \n",
    "images"
   ]
  },
  {
   "cell_type": "code",
   "execution_count": 6,
   "id": "8b9e5be0-6d41-45ca-ba0c-1575d3368816",
   "metadata": {},
   "outputs": [],
   "source": [
    "X_paths = [os.path.join(subfolder_dir, image) for image in images if any(input_type in image for input_type in input_types)]\n",
    "y_paths = [os.path.join(subfolder_dir, image) for image in images if \"dose_distribution\" in image]"
   ]
  },
  {
   "cell_type": "code",
   "execution_count": 7,
   "id": "817e1b62-b57f-40fd-b0ad-8755f5566a0e",
   "metadata": {},
   "outputs": [
    {
     "data": {
      "text/plain": [
       "['/Users/wangyangwu/Documents/Maastro/NeuralNets/BasicUNet/sample2/Patient1/Lung',\n",
       " '/Users/wangyangwu/Documents/Maastro/NeuralNets/BasicUNet/sample2/Patient1/CT']"
      ]
     },
     "execution_count": 7,
     "metadata": {},
     "output_type": "execute_result"
    }
   ],
   "source": [
    "X_paths"
   ]
  },
  {
   "cell_type": "code",
   "execution_count": 10,
   "id": "48fccfee-54ea-4657-a71e-5487b845e835",
   "metadata": {},
   "outputs": [
    {
     "data": {
      "text/plain": [
       "torch.Size([2, 27, 256, 256])"
      ]
     },
     "execution_count": 10,
     "metadata": {},
     "output_type": "execute_result"
    }
   ],
   "source": [
    "folder_path = Path(X_paths[0])\n",
    "file_ids = sk.ImageSeriesReader.GetGDCMSeriesIDs(str(folder_path))\n",
    "file_names = sk.ImageSeriesReader.GetGDCMSeriesFileNames(str(folder_path), file_ids[0])\n",
    "series_reader = sk.ImageSeriesReader()\n",
    "series_reader.SetFileNames(file_names)\n",
    "image_data = series_reader.Execute()\n",
    "images_3D1 = sk.GetArrayFromImage(image_data)\n",
    "\n",
    "folder_path = Path(X_paths[1])\n",
    "file_ids = sk.ImageSeriesReader.GetGDCMSeriesIDs(str(folder_path))\n",
    "file_names = sk.ImageSeriesReader.GetGDCMSeriesFileNames(str(folder_path), file_ids[0])\n",
    "series_reader = sk.ImageSeriesReader()\n",
    "series_reader.SetFileNames(file_names)\n",
    "image_data = series_reader.Execute()\n",
    "images_3D2 = sk.GetArrayFromImage(image_data)\n",
    "\n",
    "torch.from_numpy(np.stack([images_3D1, images_3D2]).astype(\"int32\")).type(torch.float32).shape"
   ]
  },
  {
   "cell_type": "code",
   "execution_count": null,
   "id": "97e68236-c38f-4724-b646-074a7aac5694",
   "metadata": {},
   "outputs": [],
   "source": []
  },
  {
   "cell_type": "code",
   "execution_count": 14,
   "id": "e338b2bd-d062-4cd4-a121-fc5fbe62beb6",
   "metadata": {},
   "outputs": [
    {
     "ename": "IndexError",
     "evalue": "list index out of range",
     "output_type": "error",
     "traceback": [
      "\u001b[0;31m---------------------------------------------------------------------------\u001b[0m",
      "\u001b[0;31mIndexError\u001b[0m                                Traceback (most recent call last)",
      "\u001b[0;32m/var/folders/wb/gdwc4q3s1x3cv4bftb9vssb00000gn/T/ipykernel_3607/1557827675.py\u001b[0m in \u001b[0;36m<module>\u001b[0;34m\u001b[0m\n\u001b[1;32m      1\u001b[0m \u001b[0mX_images\u001b[0m \u001b[0;34m=\u001b[0m \u001b[0;34m[\u001b[0m\u001b[0mpydicom\u001b[0m\u001b[0;34m.\u001b[0m\u001b[0mdcmread\u001b[0m\u001b[0;34m(\u001b[0m\u001b[0mimage_path\u001b[0m\u001b[0;34m)\u001b[0m\u001b[0;34m.\u001b[0m\u001b[0mpixel_array\u001b[0m \u001b[0;32mfor\u001b[0m \u001b[0mimage_path\u001b[0m \u001b[0;32min\u001b[0m \u001b[0mX_paths\u001b[0m\u001b[0;34m]\u001b[0m\u001b[0;34m\u001b[0m\u001b[0;34m\u001b[0m\u001b[0m\n\u001b[0;32m----> 2\u001b[0;31m \u001b[0my_image\u001b[0m \u001b[0;34m=\u001b[0m \u001b[0mnp\u001b[0m\u001b[0;34m.\u001b[0m\u001b[0marray\u001b[0m\u001b[0;34m(\u001b[0m\u001b[0;34m[\u001b[0m\u001b[0mpydicom\u001b[0m\u001b[0;34m.\u001b[0m\u001b[0mdcmread\u001b[0m\u001b[0;34m(\u001b[0m\u001b[0my_paths\u001b[0m\u001b[0;34m[\u001b[0m\u001b[0;36m0\u001b[0m\u001b[0;34m]\u001b[0m\u001b[0;34m)\u001b[0m\u001b[0;34m.\u001b[0m\u001b[0mpixel_array\u001b[0m\u001b[0;34m]\u001b[0m\u001b[0;34m)\u001b[0m\u001b[0;34m\u001b[0m\u001b[0;34m\u001b[0m\u001b[0m\n\u001b[0m\u001b[1;32m      3\u001b[0m \u001b[0;34m\u001b[0m\u001b[0m\n\u001b[1;32m      4\u001b[0m \u001b[0mX\u001b[0m \u001b[0;34m=\u001b[0m \u001b[0mtorch\u001b[0m\u001b[0;34m.\u001b[0m\u001b[0mfrom_numpy\u001b[0m\u001b[0;34m(\u001b[0m\u001b[0mnp\u001b[0m\u001b[0;34m.\u001b[0m\u001b[0mstack\u001b[0m\u001b[0;34m(\u001b[0m\u001b[0mX_images\u001b[0m\u001b[0;34m)\u001b[0m\u001b[0;34m.\u001b[0m\u001b[0mastype\u001b[0m\u001b[0;34m(\u001b[0m\u001b[0;34m\"int32\"\u001b[0m\u001b[0;34m)\u001b[0m\u001b[0;34m)\u001b[0m\u001b[0;34m.\u001b[0m\u001b[0mtype\u001b[0m\u001b[0;34m(\u001b[0m\u001b[0mtorch\u001b[0m\u001b[0;34m.\u001b[0m\u001b[0mfloat32\u001b[0m\u001b[0;34m)\u001b[0m\u001b[0;34m\u001b[0m\u001b[0;34m\u001b[0m\u001b[0m\n\u001b[1;32m      5\u001b[0m \u001b[0my\u001b[0m \u001b[0;34m=\u001b[0m \u001b[0mtorch\u001b[0m\u001b[0;34m.\u001b[0m\u001b[0mfrom_numpy\u001b[0m\u001b[0;34m(\u001b[0m\u001b[0my_image\u001b[0m\u001b[0;34m.\u001b[0m\u001b[0mastype\u001b[0m\u001b[0;34m(\u001b[0m\u001b[0;34m\"int32\"\u001b[0m\u001b[0;34m)\u001b[0m\u001b[0;34m)\u001b[0m\u001b[0;34m.\u001b[0m\u001b[0mtype\u001b[0m\u001b[0;34m(\u001b[0m\u001b[0mtorch\u001b[0m\u001b[0;34m.\u001b[0m\u001b[0mfloat32\u001b[0m\u001b[0;34m)\u001b[0m\u001b[0;34m\u001b[0m\u001b[0;34m\u001b[0m\u001b[0m\n",
      "\u001b[0;31mIndexError\u001b[0m: list index out of range"
     ]
    }
   ],
   "source": [
    "X_images = [pydicom.dcmread(image_path).pixel_array for image_path in X_paths]\n",
    "y_image = np.array([pydicom.dcmread(y_paths[0]).pixel_array])\n",
    "\n",
    "X = torch.from_numpy(np.stack(X_images).astype(\"int32\")).type(torch.float32)\n",
    "y = torch.from_numpy(y_image.astype(\"int32\")).type(torch.float32)"
   ]
  },
  {
   "cell_type": "code",
   "execution_count": null,
   "id": "5157bbdf-accc-4cc9-b356-5c6df8232002",
   "metadata": {},
   "outputs": [],
   "source": []
  }
 ],
 "metadata": {
  "kernelspec": {
   "display_name": "Python 3 (ipykernel)",
   "language": "python",
   "name": "python3"
  },
  "language_info": {
   "codemirror_mode": {
    "name": "ipython",
    "version": 3
   },
   "file_extension": ".py",
   "mimetype": "text/x-python",
   "name": "python",
   "nbconvert_exporter": "python",
   "pygments_lexer": "ipython3",
   "version": "3.9.7"
  }
 },
 "nbformat": 4,
 "nbformat_minor": 5
}
