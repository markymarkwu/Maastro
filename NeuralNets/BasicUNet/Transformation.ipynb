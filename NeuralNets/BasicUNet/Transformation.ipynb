{
 "cells": [
  {
   "cell_type": "code",
   "execution_count": 1,
   "id": "6d5adb1a-20c7-4606-96ec-3cfd1d5248a3",
   "metadata": {},
   "outputs": [],
   "source": [
    "#https://vincentblog.xyz/posts/medical-images-in-python-computed-tomography\n",
    "def window_image(image, window_center, window_width):\n",
    "    img_min = window_center - window_width // 2\n",
    "    img_max = window_center + window_width // 2\n",
    "    window_image = image.copy()\n",
    "    window_image[window_image < img_min] = img_min\n",
    "    window_image[window_image > img_max] = img_max\n",
    "    \n",
    "    return window_image"
   ]
  },
  {
   "cell_type": "code",
   "execution_count": 2,
   "id": "92cdf1dc-e386-4893-bff5-33b5bae8fa9c",
   "metadata": {},
   "outputs": [],
   "source": [
    "def crop_image(image, display=False):\n",
    "    # Create a mask with the background pixels\n",
    "    mask = image == 0\n",
    "\n",
    "    # Find the brain area\n",
    "    coords = np.array(np.nonzero(~mask))\n",
    "    top_left = np.min(coords, axis=1)\n",
    "    bottom_right = np.max(coords, axis=1)\n",
    "    \n",
    "    # Remove the background\n",
    "    croped_image = image[top_left[0]:bottom_right[0],\n",
    "                top_left[1]:bottom_right[1]]\n",
    "    \n",
    "    return croped_image\n",
    "    \n",
    "def add_pad(image, new_height=512, new_width=512):\n",
    "    height, width = image.shape\n",
    "\n",
    "    final_image = np.zeros((new_height, new_width))\n",
    "\n",
    "    pad_left = int((new_width - width) / 2)\n",
    "    pad_top = int((new_height - height) / 2)\n",
    "    \n",
    "    # Replace the pixels with the image's pixels\n",
    "    final_image[pad_top:pad_top + height, pad_left:pad_left + width] = image\n",
    "    \n",
    "    return final_image"
   ]
  },
  {
   "cell_type": "code",
   "execution_count": 4,
   "id": "9bcb6da1-feaa-43f7-a069-f24331d747c0",
   "metadata": {},
   "outputs": [],
   "source": [
    "def apply_ct_window(img, window):\n",
    "    # window = (window width, window level)\n",
    "    R = (img-window[1]+0.5*window[0])/window[0]\n",
    "    R[R<0] = 0\n",
    "    R[R>1] = 1\n",
    "    return R\n",
    "# display_img = apply_ct_window(CT, [400,50])"
   ]
  },
  {
   "cell_type": "code",
   "execution_count": null,
   "id": "d5e74281-f0e7-448b-b732-f12cdf0b4c34",
   "metadata": {},
   "outputs": [],
   "source": []
  },
  {
   "cell_type": "code",
   "execution_count": 132,
   "id": "0892247d-43b2-4dca-b0f9-86175ea85f69",
   "metadata": {},
   "outputs": [],
   "source": [
    "import pydicom\n",
    "import SimpleITK as sk\n",
    "import os\n",
    "from pathlib import Path\n",
    "import matplotlib.pyplot as plt\n",
    "import torch\n",
    "import torchio as tio\n",
    "from rt_utils import RTStructBuilder\n",
    "import numpy as np\n",
    "%run DICOMReader.ipynb import DICOMReader"
   ]
  },
  {
   "cell_type": "code",
   "execution_count": 161,
   "id": "24dd61bf-4898-4b75-a62d-41ec4b09f254",
   "metadata": {},
   "outputs": [],
   "source": [
    "folder_path = \"/Users/wangyangwu/Documents/Maastro/NeuralNets/PROTON/P0439C0006I1473766/RTDOSE\"\n",
    "subfolder_dirs = []\n",
    "for roots, dirs, files in os.walk(folder_path):\n",
    "    subfolder_dirs.append(roots)\n",
    "subfolder_path = subfolder_dirs[1]\n",
    "subfolder_path = Path(subfolder_path)\n",
    "file_ids = sk.ImageSeriesReader.GetGDCMSeriesIDs(str(subfolder_path))\n",
    "file_names = sk.ImageSeriesReader.GetGDCMSeriesFileNames(str(subfolder_path), file_ids[0])\n",
    "series_reader = sk.ImageSeriesReader()\n",
    "series_reader.SetFileNames(file_names)\n",
    "image_data = series_reader.Execute()\n",
    "images_3D = sk.GetArrayFromImage(image_data)\n"
   ]
  },
  {
   "cell_type": "code",
   "execution_count": 166,
   "id": "81f29da3-3d6b-476e-9861-44f12f67fcf9",
   "metadata": {},
   "outputs": [],
   "source": [
    "y = np.array([images_3D[0]]).astype(\"int32\")"
   ]
  },
  {
   "cell_type": "code",
   "execution_count": 167,
   "id": "59bc1ff7",
   "metadata": {},
   "outputs": [
    {
     "data": {
      "text/plain": [
       "(1, 99, 100, 191)"
      ]
     },
     "execution_count": 167,
     "metadata": {},
     "output_type": "execute_result"
    }
   ],
   "source": [
    "y.shape"
   ]
  },
  {
   "cell_type": "code",
   "execution_count": 135,
   "id": "30dff206",
   "metadata": {},
   "outputs": [],
   "source": [
    "dicom_series_CT = \"/Users/wangyangwu/Documents/Maastro/NeuralNets/PROTON/P0439C0006I1473766/CT/1.3.6.1.4.1.32722.228.6.63207665478764726756566005696578074318\"\n",
    "# dicom_sries_Dose = \"/Users/wangyangwu/Documents/Maastro/NeuralNets/PROTON/P0439C0006I1473766/RTDOSE/1.3.6.1.4.1.32722.228.6.334797647287977966709364212462384620209/1.3.6.1.4.1.32722.228.6.36725526625681761397802081573539292769.dcm\"\n",
    "struct = \"/Users/wangyangwu/Documents/Maastro/NeuralNets/PROTON/P0439C0006I1473766/RTSTRUCT/1.3.6.1.4.1.32722.228.6.133467612907209240084942361415930368581/1.3.6.1.4.1.32722.228.6.113839825936852261690866610346783936763.dcm\""
   ]
  },
  {
   "cell_type": "code",
   "execution_count": 136,
   "id": "1533410c",
   "metadata": {},
   "outputs": [],
   "source": [
    "rtstruct = RTStructBuilder.create_from(\n",
    "  dicom_series_path=dicom_series_CT, \n",
    "  rt_struct_path=struct\n",
    ")"
   ]
  },
  {
   "cell_type": "code",
   "execution_count": 137,
   "id": "603cd545",
   "metadata": {},
   "outputs": [],
   "source": [
    "## render mask layer\n",
    "mask_3d_heart = rtstruct.get_roi_mask_by_name(\"Heart\")\n",
    "m = mask_3d_heart.astype(\"int32\")\n",
    "m = np.stack([m[:,:,i] for i in range(m.shape[2])])"
   ]
  },
  {
   "cell_type": "code",
   "execution_count": 138,
   "id": "b4b48757",
   "metadata": {},
   "outputs": [],
   "source": [
    "images_3D = torch.from_numpy(np.stack([images_3D,images_3D]).astype(\"int32\")).type(torch.float32)"
   ]
  },
  {
   "cell_type": "code",
   "execution_count": 139,
   "id": "b5e2e594",
   "metadata": {},
   "outputs": [
    {
     "data": {
      "text/plain": [
       "torch.Size([2, 189, 512, 512])"
      ]
     },
     "execution_count": 139,
     "metadata": {},
     "output_type": "execute_result"
    }
   ],
   "source": [
    "images_3D.shape"
   ]
  },
  {
   "cell_type": "code",
   "execution_count": 140,
   "id": "d12077d6",
   "metadata": {},
   "outputs": [],
   "source": [
    "m = torch.from_numpy(np.stack([m]).astype(\"int32\")).type(torch.float32)"
   ]
  },
  {
   "cell_type": "code",
   "execution_count": 141,
   "id": "498bed72",
   "metadata": {},
   "outputs": [],
   "source": [
    "subject = tio.Subject(\n",
    "    chest_ct=tio.ScalarImage(tensor=images_3D),\n",
    "    heart_mask=tio.LabelMap(tensor=m),\n",
    ")"
   ]
  },
  {
   "cell_type": "code",
   "execution_count": 142,
   "id": "670d1f25",
   "metadata": {},
   "outputs": [
    {
     "data": {
      "text/plain": [
       "(2, 189, 512, 512)"
      ]
     },
     "execution_count": 142,
     "metadata": {},
     "output_type": "execute_result"
    }
   ],
   "source": [
    "subject.chest_ct.shape"
   ]
  },
  {
   "cell_type": "code",
   "execution_count": 143,
   "id": "e3eb3c28",
   "metadata": {},
   "outputs": [
    {
     "data": {
      "text/plain": [
       "(1, 189, 512, 512)"
      ]
     },
     "execution_count": 143,
     "metadata": {},
     "output_type": "execute_result"
    }
   ],
   "source": [
    "subject.heart_mask.shape"
   ]
  },
  {
   "cell_type": "code",
   "execution_count": 144,
   "id": "0ece8973",
   "metadata": {},
   "outputs": [],
   "source": [
    "dim = (512,512,512)"
   ]
  },
  {
   "cell_type": "code",
   "execution_count": 182,
   "id": "04d3b886",
   "metadata": {},
   "outputs": [],
   "source": [
    "transform = tio.CropOrPad(dim,mask_name='heart_mask')"
   ]
  },
  {
   "cell_type": "code",
   "execution_count": 183,
   "id": "ebea7ad2",
   "metadata": {},
   "outputs": [],
   "source": [
    "transformed = transform(subject)"
   ]
  },
  {
   "cell_type": "code",
   "execution_count": 184,
   "id": "4c394063",
   "metadata": {},
   "outputs": [
    {
     "data": {
      "text/plain": [
       "(2, 512, 512, 512)"
      ]
     },
     "execution_count": 184,
     "metadata": {},
     "output_type": "execute_result"
    }
   ],
   "source": [
    "transformed.chest_ct.shape"
   ]
  },
  {
   "cell_type": "code",
   "execution_count": 185,
   "id": "0b570c2d",
   "metadata": {},
   "outputs": [],
   "source": [
    "t = transformed.chest_ct.numpy()"
   ]
  },
  {
   "cell_type": "code",
   "execution_count": 186,
   "id": "34707328",
   "metadata": {},
   "outputs": [
    {
     "data": {
      "image/png": "[encoded data removed]",
      "text/plain": [
       "<Figure size 432x288 with 3 Axes>"
      ]
     },
     "metadata": {
      "needs_background": "light"
     },
     "output_type": "display_data"
    }
   ],
   "source": [
    "transformed.chest_ct.plot()"
   ]
  },
  {
   "cell_type": "code",
   "execution_count": 169,
   "id": "ce4f0e8c",
   "metadata": {},
   "outputs": [],
   "source": [
    "transform2 = tio.Pad((100,100,100,100,100,100), padding_mode=0)"
   ]
  },
  {
   "cell_type": "code",
   "execution_count": 151,
   "id": "46222b83",
   "metadata": {},
   "outputs": [],
   "source": [
    "transformed2 = transform2(subject)"
   ]
  },
  {
   "cell_type": "code",
   "execution_count": 152,
   "id": "b5c85d21",
   "metadata": {},
   "outputs": [
    {
     "data": {
      "image/png": "[encoded data removed]",
      "text/plain": [
       "<Figure size 432x288 with 3 Axes>"
      ]
     },
     "metadata": {
      "needs_background": "light"
     },
     "output_type": "display_data"
    }
   ],
   "source": [
    "transformed2.chest_ct.plot()"
   ]
  },
  {
   "cell_type": "code",
   "execution_count": 153,
   "id": "eab5cdf9",
   "metadata": {},
   "outputs": [
    {
     "data": {
      "text/plain": [
       "(1, 99, 100, 191)"
      ]
     },
     "execution_count": 153,
     "metadata": {},
     "output_type": "execute_result"
    }
   ],
   "source": [
    "reader = DICOM_reader()\n",
    "reader.set_path(\"/Users/wangyangwu/Documents/Maastro/NeuralNets/PROTON/P0439C0006I1473766/RTDOSE/1.3.6.1.4.1.32722.228.6.334797647287977966709364212462384620209\")\n",
    "reader.extract_images()\n",
    "# reader.visualize(True)\n",
    "a = reader.get_images()\n",
    "a.shape"
   ]
  },
  {
   "cell_type": "code",
   "execution_count": 173,
   "id": "aba7c33b",
   "metadata": {},
   "outputs": [],
   "source": [
    "transform3 = tio.CropOrPad(dim,padding_mode=0)"
   ]
  },
  {
   "cell_type": "code",
   "execution_count": 174,
   "id": "a152e4de",
   "metadata": {},
   "outputs": [],
   "source": [
    "aa = tio.ScalarImage(tensor=a)"
   ]
  },
  {
   "cell_type": "code",
   "execution_count": 175,
   "id": "60c6a11d",
   "metadata": {},
   "outputs": [],
   "source": [
    "bb = transform3(aa)"
   ]
  },
  {
   "cell_type": "code",
   "execution_count": 176,
   "id": "cabb04a8",
   "metadata": {},
   "outputs": [
    {
     "data": {
      "image/png": "[encoded data removed]",
      "text/plain": [
       "<Figure size 432x288 with 3 Axes>"
      ]
     },
     "metadata": {
      "needs_background": "light"
     },
     "output_type": "display_data"
    }
   ],
   "source": [
    "bb.plot()"
   ]
  },
  {
   "cell_type": "code",
   "execution_count": null,
   "id": "a6b09d49",
   "metadata": {},
   "outputs": [],
   "source": []
  }
 ],
 "metadata": {
  "kernelspec": {
   "display_name": "Python 3 (ipykernel)",
   "language": "python",
   "name": "python3"
  },
  "language_info": {
   "codemirror_mode": {
    "name": "ipython",
    "version": 3
   },
   "file_extension": ".py",
   "mimetype": "text/x-python",
   "name": "python",
   "nbconvert_exporter": "python",
   "pygments_lexer": "ipython3",
   "version": "3.9.7"
  }
 },
 "nbformat": 4,
 "nbformat_minor": 5
}
