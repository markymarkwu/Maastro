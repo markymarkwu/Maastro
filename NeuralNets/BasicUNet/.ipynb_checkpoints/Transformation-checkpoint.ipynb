{
 "cells": [
  {
   "cell_type": "code",
   "execution_count": 1,
   "id": "6d5adb1a-20c7-4606-96ec-3cfd1d5248a3",
   "metadata": {},
   "outputs": [],
   "source": [
    "#https://vincentblog.xyz/posts/medical-images-in-python-computed-tomography\n",
    "def window_image(image, window_center, window_width):\n",
    "    img_min = window_center - window_width // 2\n",
    "    img_max = window_center + window_width // 2\n",
    "    window_image = image.copy()\n",
    "    window_image[window_image < img_min] = img_min\n",
    "    window_image[window_image > img_max] = img_max\n",
    "    \n",
    "    return window_image"
   ]
  },
  {
   "cell_type": "code",
   "execution_count": 2,
   "id": "92cdf1dc-e386-4893-bff5-33b5bae8fa9c",
   "metadata": {},
   "outputs": [],
   "source": [
    "def crop_image(image, display=False):\n",
    "    # Create a mask with the background pixels\n",
    "    mask = image == 0\n",
    "\n",
    "    # Find the brain area\n",
    "    coords = np.array(np.nonzero(~mask))\n",
    "    top_left = np.min(coords, axis=1)\n",
    "    bottom_right = np.max(coords, axis=1)\n",
    "    \n",
    "    # Remove the background\n",
    "    croped_image = image[top_left[0]:bottom_right[0],\n",
    "                top_left[1]:bottom_right[1]]\n",
    "    \n",
    "    return croped_image\n",
    "    \n",
    "def add_pad(image, new_height=512, new_width=512):\n",
    "    height, width = image.shape\n",
    "\n",
    "    final_image = np.zeros((new_height, new_width))\n",
    "\n",
    "    pad_left = int((new_width - width) / 2)\n",
    "    pad_top = int((new_height - height) / 2)\n",
    "    \n",
    "    # Replace the pixels with the image's pixels\n",
    "    final_image[pad_top:pad_top + height, pad_left:pad_left + width] = image\n",
    "    \n",
    "    return final_image"
   ]
  },
  {
   "cell_type": "code",
   "execution_count": 4,
   "id": "9bcb6da1-feaa-43f7-a069-f24331d747c0",
   "metadata": {},
   "outputs": [],
   "source": [
    "def apply_ct_window(img, window):\n",
    "    # window = (window width, window level)\n",
    "    R = (img-window[1]+0.5*window[0])/window[0]\n",
    "    R[R<0] = 0\n",
    "    R[R>1] = 1\n",
    "    return R\n",
    "# display_img = apply_ct_window(CT, [400,50])"
   ]
  },
  {
   "cell_type": "code",
   "execution_count": null,
   "id": "77bf0815-b44b-468d-a8f8-954d8ac7a3cc",
   "metadata": {},
   "outputs": [],
   "source": []
  }
 ],
 "metadata": {
  "kernelspec": {
   "display_name": "Python 3 (ipykernel)",
   "language": "python",
   "name": "python3"
  },
  "language_info": {
   "codemirror_mode": {
    "name": "ipython",
    "version": 3
   },
   "file_extension": ".py",
   "mimetype": "text/x-python",
   "name": "python",
   "nbconvert_exporter": "python",
   "pygments_lexer": "ipython3",
   "version": "3.9.7"
  }
 },
 "nbformat": 4,
 "nbformat_minor": 5
}
