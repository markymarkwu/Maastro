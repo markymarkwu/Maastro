{
 "cells": [
  {
   "cell_type": "code",
   "execution_count": 1,
   "id": "91943051",
   "metadata": {
    "tags": []
   },
   "outputs": [],
   "source": [
    "from pathlib import Path\n",
    "import matplotlib.pyplot as plt\n",
    "import pydicom as pyd\n",
    "import SimpleITK as sk\n",
    "import math\n",
    "import numpy as np\n",
    "from numpy import savetxt\n",
    "import torch\n",
    "import torchio as tio"
   ]
  },
  {
   "cell_type": "code",
   "execution_count": 3,
   "id": "fb1dc06c",
   "metadata": {},
   "outputs": [],
   "source": [
    "class DICOM_reader:\n",
    "    def __init__(self):\n",
    "        self.file_path = \"\"\n",
    "        self.CT_images = []\n",
    "    \n",
    "    def set_path(self, path):\n",
    "        self.file_path = Path(path)\n",
    "    \n",
    "    def extract_images(self):\n",
    "        file_ids = sk.ImageSeriesReader.GetGDCMSeriesIDs(str(self.file_path))\n",
    "        file_names = sk.ImageSeriesReader.GetGDCMSeriesFileNames(str(self.file_path), file_ids[0])\n",
    "        series_reader = sk.ImageSeriesReader()\n",
    "        series_reader.SetFileNames(file_names)\n",
    "        image_data = series_reader.Execute()\n",
    "        self.CT_images = sk.GetArrayFromImage(image_data)\n",
    "                \n",
    "    def visualize(self, images, if_all, idx=None):\n",
    "        if if_all:\n",
    "            idx = list(range(len(images)))\n",
    "        num1 = math.ceil(math.sqrt(len(idx)))\n",
    "        num2 = math.floor(math.sqrt(len(idx)))\n",
    "        num1 = num1+1 if num1*num2<len(idx) else num1\n",
    "        fig, axis = plt.subplots(num2, num1, figsize=(20,20))\n",
    "        slice_counter = 0\n",
    "        if len(idx)==1:\n",
    "            axis.imshow(images[idx[slice_counter]], cmap=\"gray\")\n",
    "        else:\n",
    "            if num2>1:\n",
    "                for i in range(num2):\n",
    "                    for j in range(num1):\n",
    "                        if slice_counter<len(idx):\n",
    "                            axis[i][j].imshow(images[idx[slice_counter]], cmap=\"gray\")\n",
    "                            slice_counter+=1\n",
    "                        else:\n",
    "                            break\n",
    "            else:\n",
    "                for i in range(num1):\n",
    "                    axis[i].imshow(images[idx[slice_counter]], cmap=\"gray\")\n",
    "                    slice_counter+=1\n",
    "                                \n",
    "    def get_images(self):\n",
    "        # self.CT_images = [np.expand_dims(np.array(image.astype(\"int32\")),axis=0) for image in self.CT_images]\n",
    "        return self.CT_images"
   ]
  },
  {
   "cell_type": "code",
   "execution_count": null,
   "id": "e6fee777-657c-46de-b03e-5a35ab03f953",
   "metadata": {},
   "outputs": [],
   "source": []
  }
 ],
 "metadata": {
  "kernelspec": {
   "display_name": "Python 3 (ipykernel)",
   "language": "python",
   "name": "python3"
  },
  "language_info": {
   "codemirror_mode": {
    "name": "ipython",
    "version": 3
   },
   "file_extension": ".py",
   "mimetype": "text/x-python",
   "name": "python",
   "nbconvert_exporter": "python",
   "pygments_lexer": "ipython3",
   "version": "3.9.7"
  }
 },
 "nbformat": 4,
 "nbformat_minor": 5
}
