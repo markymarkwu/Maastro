{
 "cells": [
  {
   "cell_type": "code",
   "execution_count": 1,
   "id": "91943051",
   "metadata": {
    "scrolled": true,
    "tags": []
   },
   "outputs": [],
   "source": [
    "from pathlib import Path\n",
    "import matplotlib.pyplot as plt\n",
    "import pydicom as pyd\n",
    "import SimpleITK as sk\n",
    "import math\n",
    "import numpy as np\n",
    "from numpy import savetxt\n",
    "import torch\n",
    "import torchio as tio\n",
    "import itk\n",
    "import os"
   ]
  },
  {
   "cell_type": "code",
   "execution_count": 2,
   "id": "fb1dc06c",
   "metadata": {},
   "outputs": [],
   "source": [
    "class DICOM_reader:\n",
    "    def __init__(self):\n",
    "        self.file_path = \"\"\n",
    "        self.CT_images = []\n",
    "    \n",
    "    def set_path(self, path):\n",
    "        self.file_path = Path(path)\n",
    "    \n",
    "    def extract_images(self):\n",
    "        file_ids = sk.ImageSeriesReader.GetGDCMSeriesIDs(str(self.file_path))\n",
    "        file_names = sk.ImageSeriesReader.GetGDCMSeriesFileNames(str(self.file_path), file_ids[0])\n",
    "        series_reader = sk.ImageSeriesReader()\n",
    "        series_reader.SetFileNames(file_names)\n",
    "        image_data = series_reader.Execute()\n",
    "        self.CT_images = sk.GetArrayFromImage(image_data)\n",
    "                \n",
    "    def visualize(self, images, if_all, idx=None):\n",
    "        if if_all:\n",
    "            idx = list(range(len(images)))\n",
    "        num1 = math.ceil(math.sqrt(len(idx)))\n",
    "        num2 = math.floor(math.sqrt(len(idx)))\n",
    "        num1 = num1+1 if num1*num2<len(idx) else num1\n",
    "        fig, axis = plt.subplots(num2, num1, figsize=(20,20))\n",
    "        slice_counter = 0\n",
    "        if len(idx)==1:\n",
    "            axis.imshow(images[idx[slice_counter]], cmap=\"gray\")\n",
    "        else:\n",
    "            if num2>1:\n",
    "                for i in range(num2):\n",
    "                    for j in range(num1):\n",
    "                        if slice_counter<len(idx):\n",
    "                            axis[i][j].imshow(images[idx[slice_counter]], cmap=\"gray\")\n",
    "                            slice_counter+=1\n",
    "                        else:\n",
    "                            break\n",
    "            else:\n",
    "                for i in range(num1):\n",
    "                    axis[i].imshow(images[idx[slice_counter]], cmap=\"gray\")\n",
    "                    slice_counter+=1\n",
    "                                \n",
    "    def get_images(self):\n",
    "        # self.CT_images = [np.expand_dims(np.array(image.astype(\"int32\")),axis=0) for image in self.CT_images]\n",
    "        return self.CT_images"
   ]
  },
  {
   "cell_type": "code",
   "execution_count": 49,
   "id": "e6fee777-657c-46de-b03e-5a35ab03f953",
   "metadata": {},
   "outputs": [],
   "source": [
    "file_path = \"/Users/wangyangwu/Documents/Maastro/NeuralNets/sample/P0439C0006I1473766/RTDOSE/1.3.6.1.4.1.32722.228.6.334797647287977966709364212462384620209/\"\n",
    "file_ids = sk.ImageSeriesReader.GetGDCMSeriesIDs(str(file_path))\n",
    "file_names = sk.ImageSeriesReader.GetGDCMSeriesFileNames(str(file_path), file_ids[0])\n",
    "series_reader = sk.ImageSeriesReader()\n",
    "series_reader.SetFileNames(file_names)\n",
    "image_data = series_reader.Execute()\n",
    "CT_images = sk.GetArrayFromImage(image_data)"
   ]
  },
  {
   "cell_type": "code",
   "execution_count": 87,
   "id": "1aa55627-73e7-4c81-aceb-573d1acfdf97",
   "metadata": {},
   "outputs": [
    {
     "ename": "RuntimeError",
     "evalue": "Exception thrown in SimpleITK Image_GetMetaData: /tmp/SimpleITK-build/ITK/Modules/Core/Common/src/itkMetaDataDictionary.cxx:77:\nITK ERROR: Key '3004|000E' does not exist ",
     "output_type": "error",
     "traceback": [
      "\u001b[0;31m---------------------------------------------------------------------------\u001b[0m",
      "\u001b[0;31mRuntimeError\u001b[0m                              Traceback (most recent call last)",
      "\u001b[0;32m/var/folders/wb/gdwc4q3s1x3cv4bftb9vssb00000gn/T/ipykernel_1896/2908157878.py\u001b[0m in \u001b[0;36m<module>\u001b[0;34m\u001b[0m\n\u001b[0;32m----> 1\u001b[0;31m \u001b[0mimage_data\u001b[0m\u001b[0;34m.\u001b[0m\u001b[0mGetMetaData\u001b[0m\u001b[0;34m(\u001b[0m\u001b[0;34m'3004|000E'\u001b[0m\u001b[0;34m)\u001b[0m\u001b[0;34m\u001b[0m\u001b[0;34m\u001b[0m\u001b[0m\n\u001b[0m",
      "\u001b[0;32m~/miniforge3/envs/maastro/lib/python3.9/site-packages/SimpleITK/SimpleITK.py\u001b[0m in \u001b[0;36mGetMetaData\u001b[0;34m(self, key)\u001b[0m\n\u001b[1;32m   3368\u001b[0m \u001b[0;34m\u001b[0m\u001b[0m\n\u001b[1;32m   3369\u001b[0m         \"\"\"\n\u001b[0;32m-> 3370\u001b[0;31m         \u001b[0;32mreturn\u001b[0m \u001b[0m_SimpleITK\u001b[0m\u001b[0;34m.\u001b[0m\u001b[0mImage_GetMetaData\u001b[0m\u001b[0;34m(\u001b[0m\u001b[0mself\u001b[0m\u001b[0;34m,\u001b[0m \u001b[0mkey\u001b[0m\u001b[0;34m)\u001b[0m\u001b[0;34m\u001b[0m\u001b[0;34m\u001b[0m\u001b[0m\n\u001b[0m\u001b[1;32m   3371\u001b[0m \u001b[0;34m\u001b[0m\u001b[0m\n\u001b[1;32m   3372\u001b[0m     \u001b[0;32mdef\u001b[0m \u001b[0mSetMetaData\u001b[0m\u001b[0;34m(\u001b[0m\u001b[0mself\u001b[0m\u001b[0;34m,\u001b[0m \u001b[0mkey\u001b[0m\u001b[0;34m,\u001b[0m \u001b[0mvalue\u001b[0m\u001b[0;34m)\u001b[0m\u001b[0;34m:\u001b[0m\u001b[0;34m\u001b[0m\u001b[0;34m\u001b[0m\u001b[0m\n",
      "\u001b[0;31mRuntimeError\u001b[0m: Exception thrown in SimpleITK Image_GetMetaData: /tmp/SimpleITK-build/ITK/Modules/Core/Common/src/itkMetaDataDictionary.cxx:77:\nITK ERROR: Key '3004|000E' does not exist "
     ]
    }
   ],
   "source": [
    "image_data.GetMetaData('3004|000E')"
   ]
  },
  {
   "cell_type": "code",
   "execution_count": 53,
   "id": "f5b6cc4f-32a9-4e62-a118-138f7bae345a",
   "metadata": {},
   "outputs": [
    {
     "data": {
      "text/plain": [
       "(1, 99, 100, 191)"
      ]
     },
     "execution_count": 53,
     "metadata": {},
     "output_type": "execute_result"
    }
   ],
   "source": [
    "CT_images.shape*image_data.GetNumberOfComponentsPerPixel()"
   ]
  },
  {
   "cell_type": "code",
   "execution_count": 24,
   "id": "5fe231bb-a2bd-4309-b10a-5c7c49f73cda",
   "metadata": {},
   "outputs": [],
   "source": [
    "import torch.nn as nn"
   ]
  },
  {
   "cell_type": "code",
   "execution_count": 2,
   "id": "c29d7999-1b31-4d3a-9fd8-65a6b1d637fc",
   "metadata": {},
   "outputs": [],
   "source": [
    "file_reader = sk.ImageFileReader()\n",
    "file_reader.SetFileName(\"/Users/wangyangwu/Documents/Maastro/NeuralNets/sample/P0439C0006I1473766/RTDOSE/1.3.6.1.4.1.32722.228.6.334797647287977966709364212462384620209/1.3.6.1.4.1.32722.228.6.36725526625681761397802081573539292769.dcm\")\n",
    "dose = file_reader.Execute()"
   ]
  },
  {
   "cell_type": "code",
   "execution_count": 34,
   "id": "fd1e9555-74c0-42f2-a801-d63680c5bfaf",
   "metadata": {},
   "outputs": [],
   "source": [
    "d = torch.Tensor(np.stack([sk.GetArrayFromImage(dose).astype(\"float32\")]))"
   ]
  },
  {
   "cell_type": "code",
   "execution_count": 39,
   "id": "f19b3163-8d46-4be5-ac15-bc8770cc19a8",
   "metadata": {},
   "outputs": [
    {
     "data": {
      "text/plain": [
       "torch.Size([1, 99, 100, 191])"
      ]
     },
     "execution_count": 39,
     "metadata": {},
     "output_type": "execute_result"
    }
   ],
   "source": [
    "d.shape"
   ]
  },
  {
   "cell_type": "code",
   "execution_count": 60,
   "id": "b50cd892-d7ef-46b3-8652-dd92a39f59df",
   "metadata": {},
   "outputs": [],
   "source": [
    "softmaxer = nn.Softmax(dim=0)"
   ]
  },
  {
   "cell_type": "code",
   "execution_count": 45,
   "id": "7af0bc52-36be-4be1-ab24-e3d480c158f8",
   "metadata": {},
   "outputs": [],
   "source": [
    "e = softmaxer(d)"
   ]
  },
  {
   "cell_type": "code",
   "execution_count": 46,
   "id": "558434b8-184b-4f4f-a429-ad63cc60e3e2",
   "metadata": {},
   "outputs": [
    {
     "data": {
      "text/plain": [
       "tensor(1890900.)"
      ]
     },
     "execution_count": 46,
     "metadata": {},
     "output_type": "execute_result"
    }
   ],
   "source": [
    "e.sum()"
   ]
  },
  {
   "cell_type": "code",
   "execution_count": 73,
   "id": "f270277b-35ec-4697-9ef0-466f56459ddc",
   "metadata": {},
   "outputs": [],
   "source": [
    "r = torch.randn(3,4,5)"
   ]
  },
  {
   "cell_type": "code",
   "execution_count": 74,
   "id": "0be3942e-043b-461d-b6e5-8ce8a25b9731",
   "metadata": {},
   "outputs": [
    {
     "data": {
      "text/plain": [
       "tensor([[[-0.4221, -0.0076,  0.4906, -0.5860,  0.4867],\n",
       "         [-0.3490,  0.2612,  0.6676, -1.7484,  0.4005],\n",
       "         [-0.2415,  1.9381, -1.8706,  0.8802,  0.0560],\n",
       "         [-0.8672, -1.1768, -1.3423,  0.5690,  0.1564]],\n",
       "\n",
       "        [[ 0.6192,  0.7991, -1.3334, -0.2794,  1.7597],\n",
       "         [-0.2954, -1.7913, -1.3345,  1.4617, -1.0561],\n",
       "         [-0.2831, -0.2285,  0.9276,  0.2516,  2.2564],\n",
       "         [-0.9926, -0.9076, -1.5863,  0.4521, -0.4829]],\n",
       "\n",
       "        [[-0.5849,  2.2747,  0.9018, -1.4606, -0.1906],\n",
       "         [-0.6757,  0.6169,  1.3689, -1.1775, -0.5301],\n",
       "         [ 1.3730,  0.3088, -0.1514, -0.6787,  2.1327],\n",
       "         [-1.0822, -0.9667,  2.2131,  0.5551,  0.6022]]])"
      ]
     },
     "execution_count": 74,
     "metadata": {},
     "output_type": "execute_result"
    }
   ],
   "source": [
    "r"
   ]
  },
  {
   "cell_type": "code",
   "execution_count": 75,
   "id": "03677e9e-62c4-4613-a7a8-824b16fdbc0c",
   "metadata": {},
   "outputs": [],
   "source": [
    "e = softmaxer(r)"
   ]
  },
  {
   "cell_type": "code",
   "execution_count": 76,
   "id": "ca08af7b-3d5e-4e6a-9763-43bd9af1c20e",
   "metadata": {},
   "outputs": [
    {
     "data": {
      "text/plain": [
       "tensor([[[0.2135, 0.0767, 0.3745, 0.3602, 0.1969],\n",
       "         [0.3602, 0.3913, 0.3173, 0.0363, 0.6145],\n",
       "         [0.1432, 0.7630, 0.0435, 0.5735, 0.0555],\n",
       "         [0.3719, 0.2823, 0.0272, 0.3477, 0.3237]],\n",
       "\n",
       "        [[0.6050, 0.1718, 0.0604, 0.4895, 0.7031],\n",
       "         [0.3800, 0.0502, 0.0429, 0.8995, 0.1432],\n",
       "         [0.1373, 0.0874, 0.7138, 0.3059, 0.5014],\n",
       "         [0.3281, 0.3695, 0.0213, 0.3094, 0.1708]],\n",
       "\n",
       "        [[0.1815, 0.7515, 0.5650, 0.1502, 0.1000],\n",
       "         [0.2598, 0.5585, 0.6398, 0.0642, 0.2423],\n",
       "         [0.7195, 0.1496, 0.2427, 0.1206, 0.4431],\n",
       "         [0.3000, 0.3483, 0.9515, 0.3429, 0.5055]]])"
      ]
     },
     "execution_count": 76,
     "metadata": {},
     "output_type": "execute_result"
    }
   ],
   "source": [
    "e"
   ]
  },
  {
   "cell_type": "code",
   "execution_count": null,
   "id": "2e55035c-d60d-4d93-bd18-ead29ef04917",
   "metadata": {},
   "outputs": [],
   "source": []
  }
 ],
 "metadata": {
  "kernelspec": {
   "display_name": "Python 3 (ipykernel)",
   "language": "python",
   "name": "python3"
  },
  "language_info": {
   "codemirror_mode": {
    "name": "ipython",
    "version": 3
   },
   "file_extension": ".py",
   "mimetype": "text/x-python",
   "name": "python",
   "nbconvert_exporter": "python",
   "pygments_lexer": "ipython3",
   "version": "3.9.7"
  }
 },
 "nbformat": 4,
 "nbformat_minor": 5
}
