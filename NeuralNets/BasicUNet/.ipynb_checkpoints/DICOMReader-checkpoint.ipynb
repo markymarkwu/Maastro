{
 "cells": [
  {
   "cell_type": "code",
   "execution_count": 2,
   "id": "91943051",
   "metadata": {
    "tags": []
   },
   "outputs": [],
   "source": [
    "from pathlib import Path\n",
    "import matplotlib.pyplot as plt\n",
    "import pydicom as pyd\n",
    "import SimpleITK as sk\n",
    "import math\n",
    "import numpy as np\n",
    "from numpy import savetxt\n",
    "import torch"
   ]
  },
  {
   "cell_type": "code",
   "execution_count": 3,
   "id": "fb1dc06c",
   "metadata": {},
   "outputs": [],
   "source": [
    "class DICOM_reader:\n",
    "    def __init__(self):\n",
    "        self.file_path = \"\"\n",
    "        self.CT_images = []\n",
    "    \n",
    "    def set_path(self, path):\n",
    "        self.file_path = Path(path)\n",
    "    \n",
    "    def extract_images(self):\n",
    "        file_ids = sk.ImageSeriesReader.GetGDCMSeriesIDs(str(self.file_path))\n",
    "        file_names = sk.ImageSeriesReader.GetGDCMSeriesFileNames(str(self.file_path), file_ids[0])\n",
    "        series_reader = sk.ImageSeriesReader()\n",
    "        series_reader.SetFileNames(file_names)\n",
    "        image_data = series_reader.Execute()\n",
    "        self.CT_images = sk.GetArrayFromImage(image_data)\n",
    "                \n",
    "    def visualize(self, images, if_all, idx=None):\n",
    "        if if_all:\n",
    "            idx = list(range(len(images)))\n",
    "        num1 = math.ceil(math.sqrt(len(idx)))\n",
    "        num2 = math.floor(math.sqrt(len(idx)))\n",
    "        num1 = num1+1 if num1*num2<len(idx) else num1\n",
    "        fig, axis = plt.subplots(num2, num1, figsize=(20,20))\n",
    "        slice_counter = 0\n",
    "        if len(idx)==1:\n",
    "            axis.imshow(images[idx[slice_counter]], cmap=\"gray\")\n",
    "        else:\n",
    "            if num2>1:\n",
    "                for i in range(num2):\n",
    "                    for j in range(num1):\n",
    "                        if slice_counter<len(idx):\n",
    "                            axis[i][j].imshow(images[idx[slice_counter]], cmap=\"gray\")\n",
    "                            slice_counter+=1\n",
    "                        else:\n",
    "                            break\n",
    "            else:\n",
    "                for i in range(num1):\n",
    "                    axis[i].imshow(images[idx[slice_counter]], cmap=\"gray\")\n",
    "                    slice_counter+=1\n",
    "                                \n",
    "    def get_images(self):\n",
    "        # self.CT_images = [np.expand_dims(np.array(image.astype(\"int32\")),axis=0) for image in self.CT_images]\n",
    "        return self.CT_images"
   ]
  },
  {
   "cell_type": "code",
   "execution_count": 17,
   "id": "d2115160",
   "metadata": {},
   "outputs": [
    {
     "data": {
      "text/plain": [
       "(1, 104, 108, 143)"
      ]
     },
     "execution_count": 17,
     "metadata": {},
     "output_type": "execute_result"
    }
   ],
   "source": [
    "reader = DICOM_reader()\n",
    "reader.set_path(\"/Users/wangyangwu/Documents/Maastro/NeuralNets/PROTON/P0439C0006I3038573/RTDOSE/1.3.6.1.4.1.32722.228.6.92322990415385122070377632268932077952\")\n",
    "reader.extract_images()\n",
    "# reader.visualize(True)\n",
    "a = reader.get_images()\n",
    "a.shape"
   ]
  },
  {
   "cell_type": "code",
   "execution_count": null,
   "id": "f8abe00d-d9c4-420b-9ff8-8da92f2c085e",
   "metadata": {},
   "outputs": [],
   "source": []
  },
  {
   "cell_type": "code",
   "execution_count": null,
   "id": "52299a34-8abd-4b74-91dc-9ce71c48bbb9",
   "metadata": {},
   "outputs": [],
   "source": []
  },
  {
   "cell_type": "code",
   "execution_count": 18,
   "id": "18ba2589-f34b-43c4-8772-3297c25386e5",
   "metadata": {},
   "outputs": [
    {
     "data": {
      "text/plain": [
       "(99, 187, 311)"
      ]
     },
     "execution_count": 18,
     "metadata": {},
     "output_type": "execute_result"
    }
   ],
   "source": [
    "reader = DICOM_reader()\n",
    "reader.set_path(\"/Users/wangyangwu/Documents/Maastro/NeuralNets/PROTON/P0439C0006I1473766/CT/1.3.6.1.4.1.32722.228.6.63207665478764726756566005696578074318\")\n",
    "reader.extract_images()\n",
    "# reader.visualize(True)\n",
    "a = reader.get_images()\n",
    "a[20:119,150:337,72:383].shape"
   ]
  },
  {
   "cell_type": "code",
   "execution_count": null,
   "id": "e6fee777-657c-46de-b03e-5a35ab03f953",
   "metadata": {},
   "outputs": [],
   "source": []
  }
 ],
 "metadata": {
  "kernelspec": {
   "display_name": "Python 3 (ipykernel)",
   "language": "python",
   "name": "python3"
  },
  "language_info": {
   "codemirror_mode": {
    "name": "ipython",
    "version": 3
   },
   "file_extension": ".py",
   "mimetype": "text/x-python",
   "name": "python",
   "nbconvert_exporter": "python",
   "pygments_lexer": "ipython3",
   "version": "3.9.7"
  }
 },
 "nbformat": 4,
 "nbformat_minor": 5
}
