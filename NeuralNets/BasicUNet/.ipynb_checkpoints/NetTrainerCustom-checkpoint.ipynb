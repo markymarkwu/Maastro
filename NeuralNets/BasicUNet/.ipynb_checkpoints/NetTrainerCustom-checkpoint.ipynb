{
 "cells": [
  {
   "cell_type": "code",
   "execution_count": 1,
   "id": "62c84f36",
   "metadata": {},
   "outputs": [
    {
     "name": "stderr",
     "output_type": "stream",
     "text": [
      "/Users/wangyangwu/miniforge3/envs/maastro/lib/python3.9/site-packages/torchvision/io/image.py:11: UserWarning: Failed to load image Python extension: \n",
      "  warn(f\"Failed to load image Python extension: {e}\")\n"
     ]
    },
    {
     "name": "stdout",
     "output_type": "stream",
     "text": [
      "importing Jupyter notebook from DosePredictionDataset.ipynb\n"
     ]
    }
   ],
   "source": [
    "## TORCH LIBRARY\n",
    "import torch\n",
    "import torch.nn as nn\n",
    "import torch.nn.functional as F\n",
    "from torch import optim\n",
    "from torch.utils.data import DataLoader, random_split\n",
    "\n",
    "## MONAI LIBRARY\n",
    "from monai.networks.nets import BasicUNet as BU\n",
    "from monai.losses.dice import DiceLoss\n",
    "\n",
    "## OTHER LIBRARIES\n",
    "import argparse\n",
    "import logging\n",
    "import sys\n",
    "import numpy as np\n",
    "from pathlib import Path\n",
    "import os\n",
    "import itertools\n",
    "import matplotlib.pyplot as plt\n",
    "\n",
    "## WEIDGHTS & BIASES\n",
    "import wandb\n",
    "os.environ[\"WANDB_CONFIG_DIR\"] = \"/tmp\"\n",
    "from tqdm import tqdm\n",
    "\n",
    "## IMPORT OTHER CLASSES\n",
    "import import_ipynb\n",
    "import DosePredictionDataset\n",
    "\n",
    "## IGNORE WARNINGS\n",
    "import warnings\n",
    "warnings.filterwarnings('ignore')"
   ]
  },
  {
   "cell_type": "code",
   "execution_count": 8,
   "id": "600dafa9",
   "metadata": {
    "tags": []
   },
   "outputs": [],
   "source": [
    "## FUNCTION FOR TRAINING\n",
    "def train_net(device:str,\n",
    "              input_dir:list,\n",
    "              struct_types:list,\n",
    "              param_comb:list,\n",
    "              batch_size:int,\n",
    "              val_percent: float = 0.1,\n",
    "              transform=None\n",
    "              ):\n",
    "\n",
    "    ## create dataloaders for training and validation\n",
    "    dataset = DosePredictionDataset.DosePrdictionDataset(input_dir, \n",
    "                                                         struct_types)\n",
    "    val_num = int(len(dataset) * val_percent)\n",
    "    train_num = len(dataset) - val_num\n",
    "    train_set, val_set = random_split(dataset, \n",
    "                                      [train_num, val_num], \n",
    "                                      generator=torch.Generator().manual_seed(42))    \n",
    "    loader_args = dict(batch_size=batch_size, pin_memory=True)\n",
    "    train_loader = DataLoader(train_set, shuffle=True, **loader_args)\n",
    "    val_loader = DataLoader(val_set, shuffle=False, drop_last=True, **loader_args)\n",
    "    \n",
    "    wandb.login() ## login wandb account\n",
    "    \n",
    "    ## Experiment with different combinations of hyperparameters \n",
    "    for comb in param_comb:     \n",
    "        with wandb.init(\n",
    "            project=f\"Basic UNet (dropout-{comb[0]} & lr-{comb[1]} & epochs-{comb[2]})\",\n",
    "            config={\n",
    "                \"Architecture\": \"Basic UNet\",\n",
    "                \"epochs\": int(comb[2]),\n",
    "                \"batch_size\": batch_size,\n",
    "                \"learning_rate\": comb[1],\n",
    "                \"dropout\": comb[0]\n",
    "                }):\n",
    "            config = wandb.config\n",
    "            \n",
    "            # create neural network model\n",
    "            net = BU(spatial_dims=3,\n",
    "                     in_channels=len(struct_types)+1, \n",
    "                     out_channels=1, \n",
    "                     features=(6, 16, 32, 64, 128, 16),\n",
    "                     dropout=config.dropout)\n",
    "            \n",
    "            wandb.watch(net, log='all', log_freq=10)\n",
    "            \n",
    "            # set up optimizer\n",
    "            optimizer = torch.optim.Adam(net.parameters(), \n",
    "                                      lr=config.learning_rate)\n",
    "\n",
    "            sample_count = 0\n",
    "            train_dice_loss = []\n",
    "            val_dice_loss = []\n",
    "            softmaxer = nn.Softmax(dim=2) #softmax function to apply to inputs\n",
    "            \n",
    "            # Training begins\n",
    "            for epoch in tqdm(range(config.epochs)):\n",
    "                epoch_loss_train = 0\n",
    "                epoch_loss_val = 0\n",
    "                \n",
    "                # ======== TRAIN SECTION ========\n",
    "                net.train()\n",
    "                for images, masks in train_loader:\n",
    "                    images = images.to(device=device, dtype=torch.float32)\n",
    "                    masks = masks.to(device=device, dtype=torch.float32)\n",
    "                    # forward pass\n",
    "                    image_pred = net(images)\n",
    "                    train_loss = DiceLoss().forward(softmaxer(image_pred),\n",
    "                                                    softmaxer(masks))\n",
    "                    epoch_loss_train += train_loss.item()\n",
    "                    # backword pass\n",
    "                    optimizer.zero_grad()\n",
    "                    train_loss.backward()\n",
    "                    # optimizing\n",
    "                    optimizer.step()\n",
    "                    sample_count += len(images)\n",
    "                # logging\n",
    "                wandb.log({\"train_epoch_loss\": epoch_loss_train, \n",
    "                           \"epoch\": sample_count/len(train_loader.dataset)}, \n",
    "                          step=sample_count)\n",
    "                print(f\"Training loss after epoch {epoch+1}: {epoch_loss_train}\")\n",
    "                train_dice_loss.append(epoch_loss_train)\n",
    "\n",
    "                # ======== VALIDATION SECTION ========\n",
    "                with torch.no_grad():\n",
    "                    for images, masks in val_loader:\n",
    "                        images = images.to(device=device, dtype=torch.float32)\n",
    "                        masks = masks.to(device=device, dtype=torch.float32)\n",
    "                        image_pred = net(images)\n",
    "                        loss = DiceLoss().forward(softmaxer(image_pred),\n",
    "                                                  softmaxer(masks))\n",
    "                        epoch_loss_val += loss\n",
    "                val_dice_loss.append(epoch_loss_val) \n",
    "                wandb.log({\"val_epoch_loss\": epoch_loss_val}, \n",
    "                          step=sample_count)"
   ]
  },
  {
   "cell_type": "code",
   "execution_count": 9,
   "id": "a11f43b0-8e44-4da0-ae65-b754deaa79db",
   "metadata": {},
   "outputs": [],
   "source": [
    "## MAIN METHOD\n",
    "def run():\n",
    "    top_dir = \"/Users/wangyangwu/Documents/Maastro/NeuralNets/PROTON\"\n",
    "    pathlist_patients = []\n",
    "    for folder in os.listdir(top_dir):\n",
    "        folder_path = os.path.join(top_dir, folder)\n",
    "        if os.path.isdir(folder_path):\n",
    "            pathlist_patients.append(folder_path)\n",
    "            \n",
    "    dropout_rate = np.arange(0.5, 0.6, 0.1)\n",
    "    learning_rate = np.array([0.0001])\n",
    "    epochs = np.array([1])\n",
    "    param_comb = list(itertools.product(dropout_rate, learning_rate, epochs))\n",
    "    batch_size = 1\n",
    "    \n",
    "    train_net(\"cpu\", pathlist_patients, [\"Heart\"], param_comb, batch_size) "
   ]
  },
  {
   "cell_type": "code",
   "execution_count": 10,
   "id": "e510f584-d751-40ab-87d2-2311490cd8b6",
   "metadata": {},
   "outputs": [
    {
     "data": {
      "text/html": [
       "\n",
       "                    Syncing run <strong><a href=\"https://wandb.ai/wwy/Basic%20UNet%20%28dropout-0.5%20%26%20lr-0.0001%20%26%20epochs-1%29/runs/wc16o9v2\" target=\"_blank\">vague-water-48</a></strong> to <a href=\"https://wandb.ai/wwy/Basic%20UNet%20%28dropout-0.5%20%26%20lr-0.0001%20%26%20epochs-1%29\" target=\"_blank\">Weights & Biases</a> (<a href=\"https://docs.wandb.com/integrations/jupyter.html\" target=\"_blank\">docs</a>).<br/>\n",
       "\n",
       "                "
      ],
      "text/plain": [
       "<IPython.core.display.HTML object>"
      ]
     },
     "metadata": {},
     "output_type": "display_data"
    },
    {
     "name": "stdout",
     "output_type": "stream",
     "text": [
      "BasicUNet features: (6, 16, 32, 64, 128, 16).\n"
     ]
    },
    {
     "name": "stderr",
     "output_type": "stream",
     "text": [
      "  0%|                                                     | 0/1 [01:02<?, ?it/s]\n"
     ]
    },
    {
     "data": {
      "text/html": [
       "<br/>Waiting for W&B process to finish, PID 11954... <strong style=\"color:red\">(failed 1).</strong> Press ctrl-c to abort syncing."
      ],
      "text/plain": [
       "<IPython.core.display.HTML object>"
      ]
     },
     "metadata": {},
     "output_type": "display_data"
    },
    {
     "data": {
      "application/vnd.jupyter.widget-view+json": {
       "model_id": "",
       "version_major": 2,
       "version_minor": 0
      },
      "text/plain": [
       "VBox(children=(Label(value=' 0.00MB of 0.00MB uploaded (0.00MB deduped)\\r'), FloatProgress(value=1.0, max=1.0)…"
      ]
     },
     "metadata": {},
     "output_type": "display_data"
    },
    {
     "data": {
      "text/html": [
       "<style>\n",
       "    table.wandb td:nth-child(1) { padding: 0 10px; text-align: right }\n",
       "    .wandb-row { display: flex; flex-direction: row; flex-wrap: wrap; width: 100% }\n",
       "    .wandb-col { display: flex; flex-direction: column; flex-basis: 100%; flex: 1; padding: 10px; }\n",
       "    </style>\n",
       "<div class=\"wandb-row\"><div class=\"wandb-col\">\n",
       "</div><div class=\"wandb-col\">\n",
       "</div></div>\n",
       "Synced 6 W&B file(s), 0 media file(s), 0 artifact file(s) and 0 other file(s)\n",
       "<br/>Synced <strong style=\"color:#cdcd00\">vague-water-48</strong>: <a href=\"https://wandb.ai/wwy/Basic%20UNet%20%28dropout-0.5%20%26%20lr-0.0001%20%26%20epochs-1%29/runs/wc16o9v2\" target=\"_blank\">https://wandb.ai/wwy/Basic%20UNet%20%28dropout-0.5%20%26%20lr-0.0001%20%26%20epochs-1%29/runs/wc16o9v2</a><br/>\n",
       "Find logs at: <code>./wandb/run-20220221_214909-wc16o9v2/logs</code><br/>\n"
      ],
      "text/plain": [
       "<IPython.core.display.HTML object>"
      ]
     },
     "metadata": {},
     "output_type": "display_data"
    },
    {
     "ename": "AssertionError",
     "evalue": "ground truth has different shape (torch.Size([1, 1, 117, 110, 165])) from input (torch.Size([1, 1, 99, 100, 191]))",
     "output_type": "error",
     "traceback": [
      "\u001b[0;31m---------------------------------------------------------------------------\u001b[0m",
      "\u001b[0;31mAssertionError\u001b[0m                            Traceback (most recent call last)",
      "\u001b[0;32m/var/folders/wb/gdwc4q3s1x3cv4bftb9vssb00000gn/T/ipykernel_11923/766504495.py\u001b[0m in \u001b[0;36m<module>\u001b[0;34m\u001b[0m\n\u001b[0;32m----> 1\u001b[0;31m \u001b[0mrun\u001b[0m\u001b[0;34m(\u001b[0m\u001b[0;34m)\u001b[0m\u001b[0;34m\u001b[0m\u001b[0;34m\u001b[0m\u001b[0m\n\u001b[0m",
      "\u001b[0;32m/var/folders/wb/gdwc4q3s1x3cv4bftb9vssb00000gn/T/ipykernel_11923/2627623921.py\u001b[0m in \u001b[0;36mrun\u001b[0;34m()\u001b[0m\n\u001b[1;32m     14\u001b[0m     \u001b[0mbatch_size\u001b[0m \u001b[0;34m=\u001b[0m \u001b[0;36m1\u001b[0m\u001b[0;34m\u001b[0m\u001b[0;34m\u001b[0m\u001b[0m\n\u001b[1;32m     15\u001b[0m \u001b[0;34m\u001b[0m\u001b[0m\n\u001b[0;32m---> 16\u001b[0;31m     \u001b[0mtrain_net\u001b[0m\u001b[0;34m(\u001b[0m\u001b[0;34m\"cpu\"\u001b[0m\u001b[0;34m,\u001b[0m \u001b[0mpathlist_patients\u001b[0m\u001b[0;34m,\u001b[0m \u001b[0;34m[\u001b[0m\u001b[0;34m\"Heart\"\u001b[0m\u001b[0;34m]\u001b[0m\u001b[0;34m,\u001b[0m \u001b[0mparam_comb\u001b[0m\u001b[0;34m,\u001b[0m \u001b[0mbatch_size\u001b[0m\u001b[0;34m)\u001b[0m\u001b[0;34m\u001b[0m\u001b[0;34m\u001b[0m\u001b[0m\n\u001b[0m",
      "\u001b[0;32m/var/folders/wb/gdwc4q3s1x3cv4bftb9vssb00000gn/T/ipykernel_11923/4162742098.py\u001b[0m in \u001b[0;36mtrain_net\u001b[0;34m(device, input_dir, struct_types, param_comb, batch_size, val_percent, transform)\u001b[0m\n\u001b[1;32m     66\u001b[0m                     \u001b[0;31m# forward pass\u001b[0m\u001b[0;34m\u001b[0m\u001b[0;34m\u001b[0m\u001b[0m\n\u001b[1;32m     67\u001b[0m                     \u001b[0mimage_pred\u001b[0m \u001b[0;34m=\u001b[0m \u001b[0mnet\u001b[0m\u001b[0;34m(\u001b[0m\u001b[0mimages\u001b[0m\u001b[0;34m)\u001b[0m\u001b[0;34m\u001b[0m\u001b[0;34m\u001b[0m\u001b[0m\n\u001b[0;32m---> 68\u001b[0;31m                     train_loss = DiceLoss().forward(softmaxer(image_pred),\n\u001b[0m\u001b[1;32m     69\u001b[0m                                                     softmaxer(masks))\n\u001b[1;32m     70\u001b[0m                     \u001b[0mepoch_loss_train\u001b[0m \u001b[0;34m+=\u001b[0m \u001b[0mtrain_loss\u001b[0m\u001b[0;34m.\u001b[0m\u001b[0mitem\u001b[0m\u001b[0;34m(\u001b[0m\u001b[0;34m)\u001b[0m\u001b[0;34m\u001b[0m\u001b[0;34m\u001b[0m\u001b[0m\n",
      "\u001b[0;32m~/miniforge3/envs/maastro/lib/python3.9/site-packages/monai/losses/dice.py\u001b[0m in \u001b[0;36mforward\u001b[0;34m(self, input, target)\u001b[0m\n\u001b[1;32m    155\u001b[0m \u001b[0;34m\u001b[0m\u001b[0m\n\u001b[1;32m    156\u001b[0m         \u001b[0;32mif\u001b[0m \u001b[0mtarget\u001b[0m\u001b[0;34m.\u001b[0m\u001b[0mshape\u001b[0m \u001b[0;34m!=\u001b[0m \u001b[0minput\u001b[0m\u001b[0;34m.\u001b[0m\u001b[0mshape\u001b[0m\u001b[0;34m:\u001b[0m\u001b[0;34m\u001b[0m\u001b[0;34m\u001b[0m\u001b[0m\n\u001b[0;32m--> 157\u001b[0;31m             \u001b[0;32mraise\u001b[0m \u001b[0mAssertionError\u001b[0m\u001b[0;34m(\u001b[0m\u001b[0;34mf\"ground truth has different shape ({target.shape}) from input ({input.shape})\"\u001b[0m\u001b[0;34m)\u001b[0m\u001b[0;34m\u001b[0m\u001b[0;34m\u001b[0m\u001b[0m\n\u001b[0m\u001b[1;32m    158\u001b[0m \u001b[0;34m\u001b[0m\u001b[0m\n\u001b[1;32m    159\u001b[0m         \u001b[0;31m# reducing only spatial dimensions (not batch nor channels)\u001b[0m\u001b[0;34m\u001b[0m\u001b[0;34m\u001b[0m\u001b[0m\n",
      "\u001b[0;31mAssertionError\u001b[0m: ground truth has different shape (torch.Size([1, 1, 117, 110, 165])) from input (torch.Size([1, 1, 99, 100, 191]))"
     ]
    }
   ],
   "source": [
    "run()"
   ]
  },
  {
   "cell_type": "code",
   "execution_count": null,
   "id": "df752588-5846-4e25-9245-5e004c0ef8f0",
   "metadata": {},
   "outputs": [],
   "source": []
  },
  {
   "cell_type": "code",
   "execution_count": null,
   "id": "14dc845a-bce1-48f0-9253-8dae6e4fb16a",
   "metadata": {},
   "outputs": [],
   "source": []
  }
 ],
 "metadata": {
  "kernelspec": {
   "display_name": "Python 3 (ipykernel)",
   "language": "python",
   "name": "python3"
  },
  "language_info": {
   "codemirror_mode": {
    "name": "ipython",
    "version": 3
   },
   "file_extension": ".py",
   "mimetype": "text/x-python",
   "name": "python",
   "nbconvert_exporter": "python",
   "pygments_lexer": "ipython3",
   "version": "3.9.7"
  }
 },
 "nbformat": 4,
 "nbformat_minor": 5
}
