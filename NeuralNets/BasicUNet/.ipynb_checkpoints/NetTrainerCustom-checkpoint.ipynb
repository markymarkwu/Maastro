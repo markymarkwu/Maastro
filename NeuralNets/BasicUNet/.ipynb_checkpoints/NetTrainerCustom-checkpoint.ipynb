{
 "cells": [
  {
   "cell_type": "code",
   "execution_count": 50,
   "id": "62c84f36",
   "metadata": {},
   "outputs": [],
   "source": [
    "## TORCH LIBRARY\n",
    "import torch\n",
    "import torch.nn as nn\n",
    "import torch.nn.functional as F\n",
    "from torch import optim\n",
    "from torch.utils.data import DataLoader, random_split\n",
    "\n",
    "## MONAI LIBRARY\n",
    "from monai.networks.nets import BasicUNet as BU\n",
    "from monai.losses.dice import DiceLoss\n",
    "\n",
    "## OTHER LIBRARIES\n",
    "import argparse\n",
    "import logging\n",
    "import sys\n",
    "import numpy as np\n",
    "from pathlib import Path\n",
    "import os\n",
    "import itertools\n",
    "import matplotlib.pyplot as plt\n",
    "from dicom_contour.contour import *\n",
    "from functools import reduce\n",
    "\n",
    "## WEIDGHTS & BIASES\n",
    "import wandb\n",
    "os.environ[\"WANDB_CONFIG_DIR\"] = \"/tmp\"\n",
    "from tqdm import tqdm\n",
    "\n",
    "## IMPORT OTHER CLASSES\n",
    "import import_ipynb\n",
    "import DosePredictionDataset\n",
    "\n",
    "## IGNORE WARNINGS\n",
    "import warnings\n",
    "warnings.filterwarnings('ignore')"
   ]
  },
  {
   "cell_type": "code",
   "execution_count": 2,
   "id": "600dafa9",
   "metadata": {
    "tags": []
   },
   "outputs": [],
   "source": [
    "## FUNCTION FOR TRAINING\n",
    "def train_net(device:str,\n",
    "              input_dir:list,\n",
    "              struct_types:list,\n",
    "              param_comb:list,\n",
    "              batch_size:int,\n",
    "              out_dim:tuple,\n",
    "              val_percent: float = 0.1,\n",
    "              ):\n",
    "\n",
    "    ## create dataloaders for training and validation\n",
    "    dataset = DosePredictionDataset.DosePrdictionDataset(input_dir, \n",
    "                                                         struct_types,\n",
    "                                                         out_dim)\n",
    "    val_num = int(len(dataset) * val_percent)\n",
    "    train_num = len(dataset) - val_num\n",
    "    train_set, val_set = random_split(dataset, \n",
    "                                      [train_num, val_num], \n",
    "                                      generator=torch.Generator().manual_seed(42))    \n",
    "    loader_args = dict(batch_size=batch_size, pin_memory=True)\n",
    "    train_loader = DataLoader(train_set, shuffle=True, **loader_args)\n",
    "    val_loader = DataLoader(val_set, shuffle=False, drop_last=True, **loader_args)\n",
    "    \n",
    "    wandb.login() ## login wandb account\n",
    "    \n",
    "    ## Experiment with different combinations of hyperparameters \n",
    "    for comb in param_comb:     \n",
    "        with wandb.init(\n",
    "            project=f\"Basic UNet (dropout-{comb[0]} & lr-{comb[1]} & epochs-{comb[2]})\",\n",
    "            config={\n",
    "                \"Architecture\": \"Basic UNet\",\n",
    "                \"epochs\": int(comb[2]),\n",
    "                \"batch_size\": batch_size,\n",
    "                \"learning_rate\": comb[1],\n",
    "                \"dropout\": comb[0]\n",
    "                }):\n",
    "            config = wandb.config\n",
    "            \n",
    "            # create neural network model\n",
    "            net = BU(spatial_dims=3,\n",
    "                     in_channels=len(struct_types)+1, \n",
    "                     out_channels=1, \n",
    "                     features=(6, 16, 32, 64, 128, 16),\n",
    "                     dropout=config.dropout)\n",
    "            \n",
    "            wandb.watch(net, log='all', log_freq=1)\n",
    "            \n",
    "            # set up optimizer\n",
    "            optimizer = torch.optim.Adam(net.parameters(), \n",
    "                                      lr=config.learning_rate)\n",
    "\n",
    "            sample_count = 0\n",
    "            train_dice_loss = []\n",
    "            val_dice_loss = []\n",
    "            softmaxer = nn.Softmax(dim=2) #softmax function to apply to inputs\n",
    "            \n",
    "            # Training begins\n",
    "            print(\"Training begins:\")\n",
    "            for epoch in tqdm(range(config.epochs)):\n",
    "                epoch_loss_train = 0\n",
    "                epoch_loss_val = 0\n",
    "\n",
    "                # ======== TRAIN SECTION ========\n",
    "                net.train()\n",
    "                for images, masks in train_loader:\n",
    "                    images = images.to(device=device, dtype=torch.float32)\n",
    "                    masks = masks.to(device=device, dtype=torch.float32)\n",
    "                    print(\"input loaded:\")\n",
    "                    # forward pass\n",
    "                    image_pred = net(images)\n",
    "                    train_loss = DiceLoss().forward(softmaxer(image_pred),\n",
    "                                                    softmaxer(masks))\n",
    "                    epoch_loss_train += train_loss.item()\n",
    "                    print(\"foward finished\")\n",
    "                    # backword pass\n",
    "                    optimizer.zero_grad()\n",
    "                    train_loss.backward()\n",
    "                    # optimizing\n",
    "                    optimizer.step()\n",
    "                    sample_count += len(images)\n",
    "                # logging\n",
    "                wandb.log({\"train_epoch_loss\": epoch_loss_train, \n",
    "                           \"epoch\": sample_count/len(train_loader.dataset)}, \n",
    "                          step=sample_count)\n",
    "                print(f\"Training loss after epoch {epoch+1}: {epoch_loss_train}\")\n",
    "                train_dice_loss.append(epoch_loss_train)\n",
    "\n",
    "                # ======== VALIDATION SECTION ========\n",
    "                with torch.no_grad():\n",
    "                    for images, masks in val_loader:\n",
    "                        images = images.to(device=device, dtype=torch.float32)\n",
    "                        masks = masks.to(device=device, dtype=torch.float32)\n",
    "                        image_pred = net(images)\n",
    "                        loss = DiceLoss().forward(softmaxer(image_pred),\n",
    "                                                  softmaxer(masks))\n",
    "                        epoch_loss_val += loss\n",
    "                val_dice_loss.append(epoch_loss_val) \n",
    "                wandb.log({\"val_epoch_loss\": epoch_loss_val}, \n",
    "                          step=sample_count)"
   ]
  },
  {
   "cell_type": "code",
   "execution_count": 65,
   "id": "810f6f24",
   "metadata": {},
   "outputs": [],
   "source": [
    "## FUNCTION TO FIND THE BEST SIZE OF INPUT AND OUTPUT\n",
    "def find_best_outdim(ROI_names:list, patient_path_list:list):\n",
    "    outdim_list = []\n",
    "    CT_paths = [] \n",
    "    sizes = []\n",
    "    #get all CT paths of all patients\n",
    "    for patient_path in patient_path_list:\n",
    "        subfolder_path = []\n",
    "        for roots, dirs, files in os.walk(patient_path):\n",
    "            subfolder_path.append(roots)\n",
    "        CT_paths += [input_path for input_path in subfolder_path if \"/CT/\" in input_path]\n",
    "    #loop through all CT paths and get sizes of masks\n",
    "    for path in CT_paths:\n",
    "        masks = []\n",
    "        #store dicom file\n",
    "        contour_file = get_contour_file(path)\n",
    "        contour_data = dicom.read_file(path + '/' + contour_file)\n",
    "        ROI_list = get_roi_names(contour_data)\n",
    "        target_ROI_index = [ROI_list.index(r) for r in ROI_names]\n",
    "        images, contours = get_data(path, index=target_ROI_index[0])\n",
    "        for index in target_ROI_index:\n",
    "            images, contours = get_data(path, index=10)\n",
    "            #get contour maps\n",
    "            contour_slices = [contours[i] for i in range(contours.shape[0])]\n",
    "            contour_3d = [fill_contour(c) if c.max()==1 else c for c in contour_slices]\n",
    "            contour_3d = np.stack(contour_3d)\n",
    "            masks.append(contour_3d)\n",
    "        added_mask = reduce(lambda a, b: a+b, masks) \n",
    "        cropped_added_mask = crop_zeros(added_mask)\n",
    "        sizes.append(cropped_added_mask.shape)\n",
    "    #get the maximum x,y,z\n",
    "    x,y,z = 0,0,0\n",
    "    x = max([t[0] for t in sizes])\n",
    "    y = max([t[1] for t in sizes])\n",
    "    z = max([t[2] for t in sizes])\n",
    "    return (x,y,z)"
   ]
  },
  {
   "cell_type": "code",
   "execution_count": 66,
   "id": "b0b7de3f",
   "metadata": {},
   "outputs": [],
   "source": [
    "## FUNCTION TO CROP ZEROS IN AN ARRAY\n",
    "def crop_zeros(ndarray):\n",
    "    valid_data_coords = np.argwhere(ndarray)\n",
    "    begin_nd_corners = valid_data_coords.min(axis=0)\n",
    "    finish_nd_corners = valid_data_coords.max(axis=0) + 1\n",
    "    ndslice = tuple(slice(begin, finish) for (begin, finish) in zip(begin_nd_corners, finish_nd_corners))\n",
    "    return ndarray[ndslice]"
   ]
  },
  {
   "cell_type": "code",
   "execution_count": 67,
   "id": "a11f43b0-8e44-4da0-ae65-b754deaa79db",
   "metadata": {},
   "outputs": [],
   "source": [
    "## MAIN METHOD\n",
    "def run():\n",
    "    top_dir = \"/Users/wangyangwu/Documents/Maastro/NeuralNets/sample2\"\n",
    "    pathlist_patients = []\n",
    "    for folder in os.listdir(top_dir):\n",
    "        folder_path = os.path.join(top_dir, folder)\n",
    "        if os.path.isdir(folder_path):\n",
    "            pathlist_patients.append(folder_path)\n",
    "            \n",
    "    ROI_names = [\"Heart\", \"Lungs-GTV\"]       \n",
    "    out_dim = find_best_outdim(ROI_names,pathlist_patients)\n",
    "            \n",
    "    dropout_rate = np.arange(0.5)\n",
    "    learning_rate = np.array([0.1])\n",
    "    epochs = np.array([1])\n",
    "    param_comb = list(itertools.product(dropout_rate, learning_rate, epochs))\n",
    "    batch_size = 1\n",
    "    \n",
    "    train_net(\"cpu\", pathlist_patients, ROI_names, param_comb, batch_size, out_dim) "
   ]
  },
  {
   "cell_type": "code",
   "execution_count": 68,
   "id": "e510f584-d751-40ab-87d2-2311490cd8b6",
   "metadata": {
    "scrolled": true
   },
   "outputs": [
    {
     "data": {
      "text/html": [
       "\n",
       "                    Syncing run <strong><a href=\"https://wandb.ai/wwy/Basic%20UNet%20%28dropout-0.0%20%26%20lr-0.1%20%26%20epochs-1%29/runs/2xfuo4hk\" target=\"_blank\">balmy-universe-11</a></strong> to <a href=\"https://wandb.ai/wwy/Basic%20UNet%20%28dropout-0.0%20%26%20lr-0.1%20%26%20epochs-1%29\" target=\"_blank\">Weights & Biases</a> (<a href=\"https://docs.wandb.com/integrations/jupyter.html\" target=\"_blank\">docs</a>).<br/>\n",
       "\n",
       "                "
      ],
      "text/plain": [
       "<IPython.core.display.HTML object>"
      ]
     },
     "metadata": {},
     "output_type": "display_data"
    },
    {
     "name": "stdout",
     "output_type": "stream",
     "text": [
      "BasicUNet features: (6, 16, 32, 64, 128, 16).\n",
      "Training begins:\n"
     ]
    },
    {
     "name": "stderr",
     "output_type": "stream",
     "text": [
      "\r",
      "  0%|                                                     | 0/1 [00:00<?, ?it/s]"
     ]
    },
    {
     "name": "stdout",
     "output_type": "stream",
     "text": [
      "SC (166, 512, 586)\n",
      "SM: (166, 512, 586)\n",
      "X: torch.Size([3, 32, 89, 107]) y: torch.Size([1, 32, 89, 107])\n",
      "input loaded:\n",
      "foward finished\n"
     ]
    },
    {
     "name": "stderr",
     "output_type": "stream",
     "text": [
      "100%|█████████████████████████████████████████████| 1/1 [00:07<00:00,  7.24s/it]"
     ]
    },
    {
     "name": "stdout",
     "output_type": "stream",
     "text": [
      "Training loss after epoch 1: 0.969220757484436\n"
     ]
    },
    {
     "name": "stderr",
     "output_type": "stream",
     "text": [
      "\n"
     ]
    },
    {
     "data": {
      "text/html": [
       "<br/>Waiting for W&B process to finish, PID 5134... <strong style=\"color:green\">(success).</strong>"
      ],
      "text/plain": [
       "<IPython.core.display.HTML object>"
      ]
     },
     "metadata": {},
     "output_type": "display_data"
    },
    {
     "data": {
      "application/vnd.jupyter.widget-view+json": {
       "model_id": "",
       "version_major": 2,
       "version_minor": 0
      },
      "text/plain": [
       "VBox(children=(Label(value=' 0.00MB of 0.00MB uploaded (0.00MB deduped)\\r'), FloatProgress(value=1.0, max=1.0)…"
      ]
     },
     "metadata": {},
     "output_type": "display_data"
    },
    {
     "data": {
      "text/html": [
       "<style>\n",
       "    table.wandb td:nth-child(1) { padding: 0 10px; text-align: right }\n",
       "    .wandb-row { display: flex; flex-direction: row; flex-wrap: wrap; width: 100% }\n",
       "    .wandb-col { display: flex; flex-direction: column; flex-basis: 100%; flex: 1; padding: 10px; }\n",
       "    </style>\n",
       "<div class=\"wandb-row\"><div class=\"wandb-col\">\n",
       "<h3>Run history:</h3><br/><table class=\"wandb\"><tr><td>epoch</td><td>▁</td></tr><tr><td>train_epoch_loss</td><td>▁</td></tr><tr><td>val_epoch_loss</td><td>▁</td></tr></table><br/></div><div class=\"wandb-col\">\n",
       "<h3>Run summary:</h3><br/><table class=\"wandb\"><tr><td>epoch</td><td>1.0</td></tr><tr><td>train_epoch_loss</td><td>0.96922</td></tr><tr><td>val_epoch_loss</td><td>0</td></tr></table>\n",
       "</div></div>\n",
       "Synced 6 W&B file(s), 0 media file(s), 0 artifact file(s) and 0 other file(s)\n",
       "<br/>Synced <strong style=\"color:#cdcd00\">balmy-universe-11</strong>: <a href=\"https://wandb.ai/wwy/Basic%20UNet%20%28dropout-0.0%20%26%20lr-0.1%20%26%20epochs-1%29/runs/2xfuo4hk\" target=\"_blank\">https://wandb.ai/wwy/Basic%20UNet%20%28dropout-0.0%20%26%20lr-0.1%20%26%20epochs-1%29/runs/2xfuo4hk</a><br/>\n",
       "Find logs at: <code>./wandb/run-20220223_203724-2xfuo4hk/logs</code><br/>\n"
      ],
      "text/plain": [
       "<IPython.core.display.HTML object>"
      ]
     },
     "metadata": {},
     "output_type": "display_data"
    }
   ],
   "source": [
    "run()"
   ]
  },
  {
   "cell_type": "code",
   "execution_count": null,
   "id": "df752588-5846-4e25-9245-5e004c0ef8f0",
   "metadata": {},
   "outputs": [],
   "source": []
  }
 ],
 "metadata": {
  "kernelspec": {
   "display_name": "Python 3 (ipykernel)",
   "language": "python",
   "name": "python3"
  },
  "language_info": {
   "codemirror_mode": {
    "name": "ipython",
    "version": 3
   },
   "file_extension": ".py",
   "mimetype": "text/x-python",
   "name": "python",
   "nbconvert_exporter": "python",
   "pygments_lexer": "ipython3",
   "version": "3.9.7"
  }
 },
 "nbformat": 4,
 "nbformat_minor": 5
}
