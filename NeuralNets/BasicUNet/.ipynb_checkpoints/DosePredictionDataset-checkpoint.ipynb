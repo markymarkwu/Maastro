{
 "cells": [
  {
   "cell_type": "code",
   "execution_count": 2,
   "id": "6893faf6",
   "metadata": {},
   "outputs": [],
   "source": [
    "import torch\n",
    "from torch.utils.data import Dataset\n",
    "import numpy as np\n",
    "import os\n",
    "import torch.nn as nn\n",
    "import pydicom\n",
    "import SimpleITK as sk\n",
    "from pathlib import Path"
   ]
  },
  {
   "cell_type": "code",
   "execution_count": 5,
   "id": "fbdc804c",
   "metadata": {},
   "outputs": [],
   "source": [
    "class DosePrdictionDataset(Dataset):\n",
    "    def __init__(self,  \n",
    "                 input_dir:list,\n",
    "                 input_types:list,\n",
    "                 transform=None, \n",
    "                ):\n",
    "        self.transform = transform\n",
    "        self.input_dir = input_dir\n",
    "        self.input_types = input_types\n",
    "        \n",
    "    def __len__(self):\n",
    "        return len(self.input_dir)\n",
    "    \n",
    "    def __getitem__(self, index:int):\n",
    "        subfolder_dir = self.input_dir[index]\n",
    "        X, y = self.get_X_y(subfolder_dir)\n",
    "        return X,y\n",
    "    \n",
    "    ## SHOULD BE CHANGED ACCORDINGLY\n",
    "    def get_X_y(self, patient_dir):\n",
    "        \n",
    "        input_dir = []\n",
    "        for root, dirs, files in os.walk(patient_dir):\n",
    "            input_dir.append(root)    \n",
    "        X_paths = [input_path for input_path in input_dir if any(input_path.endswith('/CT') for input_type in input_types)]\n",
    "        y_paths = [input_path for input_path in input_dir if input_path.endswith(\"DOSE\")]\n",
    "        \n",
    "        \n",
    "        if self.transform != None:\n",
    "            # X_images = [self.transform(pydicom.dcmread(image_path).pixel_array) for image_path in X_paths]\n",
    "            # y_image = self.transform(pydicom.dcmread(y_paths[0]).pixel_array)\n",
    "            ## ------ new version ------\n",
    "            X = []\n",
    "            for input_type in self.input_types:\n",
    "                X.append(self.transform(self.extract_images([path for path in X_paths if input_type in path][0])))\n",
    "            # 2.get dose map\n",
    "            y = [path for path in X_paths if \"DOSE\" in path][0]\n",
    "            y = np.array([self.transform(self.extract_images(dose_path))])\n",
    "        else:\n",
    "            # X_images = [pydicom.dcmread(image_path).pixel_array for image_path in X_paths]\n",
    "            # y_image = np.array([pydicom.dcmread(y_paths[0]).pixel_array])   \n",
    "            # X_images = [self.extract_CT(image_path) for image_path in X_paths]\n",
    "            # y_image = np.array([self.extract_Dose(y_paths[0])])\n",
    "            ## ------ new version ------\n",
    "            # 1. get all input images\n",
    "            X = []\n",
    "            for input_type in self.input_types:\n",
    "                X.append(self.extract_images([path for path in X_paths if input_type in path][0]))\n",
    "            # 2.get dose map\n",
    "            y_path = [path for path in X_paths if \"DOSE\" in path][0]\n",
    "            y = np.array([self.extract_images(y_path)])  \n",
    "        X = torch.from_numpy(np.stack(X_images).astype(\"int32\")).type(torch.float32)\n",
    "        y = torch.from_numpy(y_image.astype(\"int32\")).type(torch.float32)\n",
    "        \n",
    "        return X,y\n",
    "    \n",
    "    ## Function to extract CT images\n",
    "    def extract_images(self, folder_path):\n",
    "        subfolder_dirs = []\n",
    "        for roots, dirs, files in os.walk(folder_path):\n",
    "            subfolder_dirs.append(roots)\n",
    "        subfolder_path = subfolder_dirs[1]\n",
    "        subfolder_path = Path(subfolder_path)\n",
    "        file_ids = sk.ImageSeriesReader.GetGDCMSeriesIDs(str(subfolder_path))\n",
    "        file_names = sk.ImageSeriesReader.GetGDCMSeriesFileNames(str(subfolder_path), file_ids[0])\n",
    "        series_reader = sk.ImageSeriesReader()\n",
    "        series_reader.SetFileNames(file_names)\n",
    "        image_data = series_reader.Execute()\n",
    "        images_3D = sk.GetArrayFromImage(image_data)\n",
    "        if \"DOSE\" in folder_path:\n",
    "            return images_3D[0]\n",
    "        return images_3D"
   ]
  },
  {
   "cell_type": "code",
   "execution_count": null,
   "id": "00fd9120-6013-4538-bc24-a7588d974839",
   "metadata": {},
   "outputs": [],
   "source": []
  },
  {
   "cell_type": "code",
   "execution_count": 8,
   "id": "97e68236-c38f-4724-b646-074a7aac5694",
   "metadata": {},
   "outputs": [],
   "source": [
    "folder_path = \"/Users/wangyangwu/Documents/Maastro/NeuralNets/PROTON/P0439C0006I1473766/CT\"\n",
    "subfolder_dirs = []\n",
    "for roots, dirs, files in os.walk(folder_path):\n",
    "    subfolder_dirs.append(roots)\n",
    "subfolder_path = subfolder_dirs[1]\n",
    "subfolder_path = Path(subfolder_path)\n",
    "file_ids = sk.ImageSeriesReader.GetGDCMSeriesIDs(str(subfolder_path))\n",
    "file_names = sk.ImageSeriesReader.GetGDCMSeriesFileNames(str(subfolder_path), file_ids[0])\n",
    "series_reader = sk.ImageSeriesReader()\n",
    "series_reader.SetFileNames(file_names)\n",
    "image_data = series_reader.Execute()\n",
    "images_3D = sk.GetArrayFromImage(image_data)\n",
    "if \"DOSE\" in folder_path:\n",
    "    images_3D = images_3D[0]"
   ]
  },
  {
   "cell_type": "code",
   "execution_count": 9,
   "id": "5157bbdf-accc-4cc9-b356-5c6df8232002",
   "metadata": {},
   "outputs": [
    {
     "data": {
      "text/plain": [
       "(189, 512, 512)"
      ]
     },
     "execution_count": 9,
     "metadata": {},
     "output_type": "execute_result"
    }
   ],
   "source": [
    "images_3D.shape"
   ]
  },
  {
   "cell_type": "code",
   "execution_count": null,
   "id": "a5e545e1-6d6d-4c0c-894d-d5fff4994d7e",
   "metadata": {},
   "outputs": [],
   "source": []
  }
 ],
 "metadata": {
  "kernelspec": {
   "display_name": "Python 3 (ipykernel)",
   "language": "python",
   "name": "python3"
  },
  "language_info": {
   "codemirror_mode": {
    "name": "ipython",
    "version": 3
   },
   "file_extension": ".py",
   "mimetype": "text/x-python",
   "name": "python",
   "nbconvert_exporter": "python",
   "pygments_lexer": "ipython3",
   "version": "3.9.7"
  }
 },
 "nbformat": 4,
 "nbformat_minor": 5
}
