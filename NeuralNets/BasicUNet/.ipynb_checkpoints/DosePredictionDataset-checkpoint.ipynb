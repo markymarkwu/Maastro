{
 "cells": [
  {
   "cell_type": "code",
   "execution_count": 14,
   "id": "6893faf6",
   "metadata": {},
   "outputs": [],
   "source": [
    "import torch\n",
    "from torch.utils.data import Dataset\n",
    "import numpy as np\n",
    "import os\n",
    "import torch.nn as nn\n",
    "import pydicom\n",
    "import SimpleITK as sk\n",
    "from pathlib import Path\n",
    "from rt_utils import RTStructBuilder\n",
    "import matplotlib.pyplot as plt"
   ]
  },
  {
   "cell_type": "code",
   "execution_count": 50,
   "id": "fbdc804c",
   "metadata": {},
   "outputs": [],
   "source": [
    "class DosePrdictionDataset(Dataset):\n",
    "    def __init__(self,  \n",
    "                 input_dir:list,\n",
    "                 input_types:list,\n",
    "                 transform=None, \n",
    "                ):\n",
    "        self.transform = transform\n",
    "        self.input_dir = input_dir\n",
    "        self.input_types = input_types\n",
    "        \n",
    "    def __len__(self):\n",
    "        return len(self.input_dir)\n",
    "    \n",
    "    def __getitem__(self, index:int):\n",
    "        subfolder_dir = self.input_dir[index] # get folder path for one specific patient\n",
    "        X, y = self.get_X_y(subfolder_dir) # create inputs and output for this patient\n",
    "        return X,y\n",
    "    \n",
    "    ## FUNCTION TO CREATE INPUTS AND OUTPUT\n",
    "    def get_X_y(self, patient_dir):      \n",
    "        input_dir = []\n",
    "        for root, dirs, files in os.walk(patient_dir):\n",
    "            input_dir.append(root)  \n",
    "            \n",
    "        # ---- get paths for different inputs ----\n",
    "        X_paths_CT = [input_path for input_path in input_dir if any(input_path == \"CT\" for input_type in self.input_types)]\n",
    "        X_paths_STRUCT = [input_path for input_path in input_dir if any(input_path.endswith(\"STRUCT\") for input_type in self.input_types)]\n",
    "        y_paths = [input_path for input_path in input_dir if input_path.endswith(\"DOSE\")]  \n",
    "        \n",
    "        # ---- get inputs ----\n",
    "        if self.transform != None:\n",
    "            # 1.get CT and Strcut\n",
    "            ct = self.transform(self.extract_images(X_paths_CT[0])) # get CT scan\n",
    "            X = self.transform(self.extract_struct(X_paths_CT, X_paths_STRUCT, [type for type in self.input_type if type!=\"CT\" and type!=\"DOSE\"]).append(ct)) # get struct contours\n",
    "            X = torch.from_numpy(np.stack(X).astype(\"int32\")).type(torch.float32) # convert to tensor\n",
    "        else:\n",
    "            # 1.get CT and Strcut\n",
    "            ct = self.extract_images(X_paths_CT[0]) # get CT scan\n",
    "            X = self.extract_struct(X_paths_CT, X_paths_STRUCT, [type for type in self.input_type if type!=\"CT\" and type!=\"DOSE\"]).append(ct) # get struct contours\n",
    "            X = torch.from_numpy(np.stack(X).astype(\"int32\")).type(torch.float32) # convert to tensor\n",
    "            \n",
    "        # ---- get Dose map ----\n",
    "        y_path = [path for path in X_paths if \"DOSE\" in path][0]\n",
    "        y = np.array([self.extract_images(y_path)])         \n",
    "        return X,y\n",
    "    \n",
    "    ## FUNCTION TO EXTRACT CT AND DOSE IMAGES\n",
    "    def extract_images(self, folder_path):\n",
    "        subfolder_dirs = []\n",
    "        for roots, dirs, files in os.walk(folder_path):\n",
    "            subfolder_dirs.append(roots)\n",
    "        subfolder_path = subfolder_dirs[1]\n",
    "        subfolder_path = Path(subfolder_path)\n",
    "        file_ids = sk.ImageSeriesReader.GetGDCMSeriesIDs(str(subfolder_path))\n",
    "        file_names = sk.ImageSeriesReader.GetGDCMSeriesFileNames(str(subfolder_path), file_ids[0])\n",
    "        series_reader = sk.ImageSeriesReader()\n",
    "        series_reader.SetFileNames(file_names)\n",
    "        image_data = series_reader.Execute()\n",
    "        images_3D = sk.GetArrayFromImage(image_data)\n",
    "        if \"DOSE\" in folder_path:\n",
    "            return images_3D[0]\n",
    "        return images_3D\n",
    "    \n",
    "    ## FUNCTION TO CTEATE STRUCTURE CONTOURS\n",
    "    def extract_struct(self, CT_folder_path:str, strcut_folder_path:str, struct_name:list):\n",
    "        rtstruct = RTStructBuilder.create_from(dicom_series_path=CT_folder_path, \n",
    "                                               rt_struct_path=strcut_folder_path)\n",
    "        masks = []\n",
    "        for struct in struct_name:\n",
    "            mask = rtstruct.get_roi_mask_by_name(struct_name)\n",
    "            mask = np.stack([mask[:,:,i] for i in range(mask.shape[2])])\n",
    "            masks.append(mask)\n",
    "        return masks\n",
    "        \n",
    "    ## FUNCTION TO CTOP IMAGES\n",
    "    def crop_image(self):\n",
    "        pass"
   ]
  },
  {
   "cell_type": "code",
   "execution_count": null,
   "id": "00fd9120-6013-4538-bc24-a7588d974839",
   "metadata": {},
   "outputs": [],
   "source": []
  },
  {
   "cell_type": "code",
   "execution_count": 16,
   "id": "97e68236-c38f-4724-b646-074a7aac5694",
   "metadata": {},
   "outputs": [],
   "source": [
    "folder_path = \"/Users/wangyangwu/Documents/Maastro/NeuralNets/PROTON/P0439C0006I1473766/RTDOSE\"\n",
    "subfolder_dirs = []\n",
    "for roots, dirs, files in os.walk(folder_path):\n",
    "    subfolder_dirs.append(roots)\n",
    "subfolder_path = subfolder_dirs[1]\n",
    "subfolder_path = Path(subfolder_path)\n",
    "file_ids = sk.ImageSeriesReader.GetGDCMSeriesIDs(str(subfolder_path))\n",
    "file_names = sk.ImageSeriesReader.GetGDCMSeriesFileNames(str(subfolder_path), file_ids[0])\n",
    "series_reader = sk.ImageSeriesReader()\n",
    "series_reader.SetFileNames(file_names)\n",
    "image_data = series_reader.Execute()\n",
    "images_3D = sk.GetArrayFromImage(image_data)\n",
    "if \"DOSE\" in folder_path:\n",
    "    images_3D = images_3D[0]"
   ]
  },
  {
   "cell_type": "code",
   "execution_count": 46,
   "id": "5157bbdf-accc-4cc9-b356-5c6df8232002",
   "metadata": {},
   "outputs": [
    {
     "data": {
      "text/plain": [
       "(99, 100, 191)"
      ]
     },
     "execution_count": 46,
     "metadata": {},
     "output_type": "execute_result"
    }
   ],
   "source": [
    "images_3D.shape"
   ]
  },
  {
   "cell_type": "code",
   "execution_count": 23,
   "id": "a5e545e1-6d6d-4c0c-894d-d5fff4994d7e",
   "metadata": {},
   "outputs": [
    {
     "data": {
      "text/plain": [
       "<matplotlib.image.AxesImage at 0x161e6bb50>"
      ]
     },
     "execution_count": 23,
     "metadata": {},
     "output_type": "execute_result"
    },
    {
     "data": {
      "image/png": "[encoded data removed]",
      "text/plain": [
       "<Figure size 432x288 with 1 Axes>"
      ]
     },
     "metadata": {
      "needs_background": "light"
     },
     "output_type": "display_data"
    }
   ],
   "source": [
    "plt.imshow(images_3D[20])"
   ]
  },
  {
   "cell_type": "code",
   "execution_count": 49,
   "id": "a4ef4a1b-d4aa-4e07-ad9d-9bac37f494ff",
   "metadata": {},
   "outputs": [
    {
     "data": {
      "text/plain": [
       "(3, 3, 3, 3)"
      ]
     },
     "execution_count": 49,
     "metadata": {},
     "output_type": "execute_result"
    }
   ],
   "source": [
    "a = np.random.rand(3,3,3)\n",
    "b = [a,a]\n",
    "b.append(a)\n",
    "c = np.stack(b)\n",
    "c.shape"
   ]
  },
  {
   "cell_type": "code",
   "execution_count": 30,
   "id": "bb235010-4018-4ca7-9bd3-bd0733d28987",
   "metadata": {},
   "outputs": [
    {
     "data": {
      "text/plain": [
       "array([[[0.70120869, 0.55948643, 0.49464636],\n",
       "        [0.82801471, 0.08936978, 0.79365279],\n",
       "        [0.97950652, 0.4233226 , 0.13394693]],\n",
       "\n",
       "       [[0.08264321, 0.60915896, 0.41124848],\n",
       "        [0.44884905, 0.60695219, 0.03666361],\n",
       "        [0.2033569 , 0.89432006, 0.92776803]],\n",
       "\n",
       "       [[0.62486377, 0.38058412, 0.83124722],\n",
       "        [0.76151084, 0.36485599, 0.85416128],\n",
       "        [0.96535754, 0.08120068, 0.73557886]]])"
      ]
     },
     "execution_count": 30,
     "metadata": {},
     "output_type": "execute_result"
    }
   ],
   "source": [
    "np.random.rand(3,3,3)"
   ]
  },
  {
   "cell_type": "code",
   "execution_count": 43,
   "id": "dbe610e9-b3cc-4ae5-9c59-5c80d2a03721",
   "metadata": {},
   "outputs": [
    {
     "name": "stdout",
     "output_type": "stream",
     "text": [
      "[0, 1, 2, 3, 4, 5, 6, 7, 8, 9, 10, 11, 12, 13, 14, 15, 16, 17, 18, 19, 20, 21, 22, 23, 24, 25, 26, 27, 28, 29, 30, 31, 32, 33, 34, 35, 36, 37, 38, 39, 40, 41, 42, 43, 44, 45, 46, 47, 48, 49, 50, 51, 52, 53, 54, 55, 56, 57, 58, 59, 60, 61, 62, 63, 64, 65, 66, 67, 68, 69, 70, 71, 72, 73, 74, 75, 76, 77, 78, 79, 80, 81, 82, 83, 84, 85, 86, 87, 88, 89, 90, 91, 92, 93, 94, 95, 96, 97, 98, 99, 100, 101, 102, 103, 104, 105, 106, 107, 108, 109, 110, 111, 112, 113, 114, 115, 116, 117, 118, 119, 120, 121, 122, 123, 124, 125, 126, 127, 128, 129, 130, 131, 132, 133, 134, 135, 136, 137, 138, 139, 140, 141, 142, 143, 144, 145, 146, 147, 148, 149, 150, 151, 152, 153, 154, 155, 156, 157, 158, 159, 160, 161, 162, 163, 164, 165, 166, 167, 168, 169, 170, 171, 172, 173, 174, 175, 176, 177, 178, 179, 180, 181, 182, 183, 184, 185, 186, 187, 188]\n"
     ]
    }
   ],
   "source": [
    "print([i for i in range(189)])"
   ]
  },
  {
   "cell_type": "code",
   "execution_count": null,
   "id": "3e239a04-6730-4a32-a56e-2d1d75918227",
   "metadata": {},
   "outputs": [],
   "source": []
  }
 ],
 "metadata": {
  "kernelspec": {
   "display_name": "Python 3 (ipykernel)",
   "language": "python",
   "name": "python3"
  },
  "language_info": {
   "codemirror_mode": {
    "name": "ipython",
    "version": 3
   },
   "file_extension": ".py",
   "mimetype": "text/x-python",
   "name": "python",
   "nbconvert_exporter": "python",
   "pygments_lexer": "ipython3",
   "version": "3.9.7"
  }
 },
 "nbformat": 4,
 "nbformat_minor": 5
}
