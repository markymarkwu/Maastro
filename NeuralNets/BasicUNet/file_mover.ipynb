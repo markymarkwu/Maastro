{
 "cells": [
  {
   "cell_type": "code",
   "execution_count": 18,
   "id": "0462f5d6-71bb-4cc6-b056-f2b2d65b956b",
   "metadata": {},
   "outputs": [],
   "source": [
    "import os\n",
    "pathlist_patients = []\n",
    "top_dir = \"/Users/wangyangwu/Documents/Maastro/NeuralNets/PROTON\"\n",
    "for folder in os.listdir(top_dir):\n",
    "    folder_path = os.path.join(top_dir, folder)\n",
    "    if os.path.isdir(folder_path):\n",
    "        pathlist_patients.append(folder_path)"
   ]
  },
  {
   "cell_type": "code",
   "execution_count": 19,
   "id": "1db43b2f-6243-46d0-be73-25c90f410fc1",
   "metadata": {},
   "outputs": [],
   "source": [
    "import shutil\n",
    "for patient_path in pathlist_patients:\n",
    "    for roots, dirs, files in os.walk(patient_path):\n",
    "        if \"/CT/\" in roots:\n",
    "            CT_path = roots\n",
    "        if \"/RTSTRUCT/\" in roots:\n",
    "            file_path = os.path.join(roots, files[0])\n",
    "            shutil.copy2(file_path, CT_path)"
   ]
  },
  {
   "cell_type": "code",
   "execution_count": null,
   "id": "c783450d-0fda-4b02-804b-41b53c4f6274",
   "metadata": {},
   "outputs": [],
   "source": []
  }
 ],
 "metadata": {
  "kernelspec": {
   "display_name": "Python 3 (ipykernel)",
   "language": "python",
   "name": "python3"
  },
  "language_info": {
   "codemirror_mode": {
    "name": "ipython",
    "version": 3
   },
   "file_extension": ".py",
   "mimetype": "text/x-python",
   "name": "python",
   "nbconvert_exporter": "python",
   "pygments_lexer": "ipython3",
   "version": "3.9.7"
  }
 },
 "nbformat": 4,
 "nbformat_minor": 5
}
