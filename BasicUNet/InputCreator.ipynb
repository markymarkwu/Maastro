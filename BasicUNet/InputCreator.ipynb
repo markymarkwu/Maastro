{
 "cells": [
  {
   "cell_type": "code",
   "execution_count": null,
   "id": "5ab83b3e",
   "metadata": {},
   "outputs": [],
   "source": [
    "files = [np.genfromtxt(path, delimiter=',') for path in file_path_inputs]\n",
    "x = np.stack(files, axis=2)\n",
    "y = np.genfromtxt(file_path_label, delimiter=',')[np.newaxis,...]"
   ]
  },
  {
   "cell_type": "code",
   "execution_count": 12,
   "id": "ba5f3dc8",
   "metadata": {},
   "outputs": [],
   "source": [
    "from numpy import savetxt\n",
    "from pathlib import Path\n",
    "%run DICOMReader.ipynb import DICOMReader"
   ]
  },
  {
   "cell_type": "code",
   "execution_count": 18,
   "id": "a462a539",
   "metadata": {},
   "outputs": [],
   "source": [
    "class Input_Creator:\n",
    "    \n",
    "    def convert_input(self, image_dir, if_input=True):\n",
    "        if if_input:\n",
    "            prefix = \"input_for_patient\"\n",
    "        else:\n",
    "            prefix = \"label_for_patient\"\n",
    "            \n",
    "        dicom_reader = DICOM_reader()\n",
    "        dicom_reader.set_path(image_dir)\n",
    "        dicom_reader.extract_images()\n",
    "        image_array = dicom_reader.get_images()\n",
    "        count = 0\n",
    "        for image in image_array:\n",
    "            file_name = image_dir+\"/\"+prefix+str(count)+\".csv\"\n",
    "            # save to csv file\n",
    "            savetxt(file_name, image, delimiter=',')\n",
    "            count += 1\n",
    "               \n"
   ]
  },
  {
   "cell_type": "code",
   "execution_count": 16,
   "id": "94be31e8",
   "metadata": {},
   "outputs": [],
   "source": [
    "ic = Input_Creator()\n",
    "ic.convert_input(\"/Users/wangyangwu/Documents/Maastro/NeuralNets/BasicUNet/sample/input/\")"
   ]
  },
  {
   "cell_type": "code",
   "execution_count": 17,
   "id": "69deb20b",
   "metadata": {},
   "outputs": [],
   "source": [
    "ic.convert_input(\"/Users/wangyangwu/Documents/Maastro/NeuralNets/BasicUNet/sample/label/\")"
   ]
  },
  {
   "cell_type": "code",
   "execution_count": null,
   "id": "6db49628",
   "metadata": {},
   "outputs": [],
   "source": []
  }
 ],
 "metadata": {
  "kernelspec": {
   "display_name": "Python 3 (ipykernel)",
   "language": "python",
   "name": "python3"
  },
  "language_info": {
   "codemirror_mode": {
    "name": "ipython",
    "version": 3
   },
   "file_extension": ".py",
   "mimetype": "text/x-python",
   "name": "python",
   "nbconvert_exporter": "python",
   "pygments_lexer": "ipython3",
   "version": "3.9.7"
  }
 },
 "nbformat": 4,
 "nbformat_minor": 5
}
