{
 "cells": [
  {
   "cell_type": "code",
   "execution_count": 5,
   "id": "6893faf6",
   "metadata": {},
   "outputs": [],
   "source": [
    "import torch\n",
    "from torch.utils.data import Dataset\n",
    "import numpy as np\n",
    "\n",
    "import import_ipynb\n",
    "from DICOMReader import DICOM_reader"
   ]
  },
  {
   "cell_type": "code",
   "execution_count": 3,
   "id": "fbdc804c",
   "metadata": {},
   "outputs": [],
   "source": [
    "class DosePrdictionDataset(Dataset):\n",
    "    def __init__(self,  \n",
    "                 input_dir,\n",
    "                 dose_dir,\n",
    "                 transformation=None, \n",
    "                ):\n",
    "        self.transformation = transformation\n",
    "        self.input_dir = input_dir\n",
    "        self.dose_dir = dose_dir\n",
    "        \n",
    "    def __len__(self):\n",
    "        return len(self.input_dir)\n",
    "    \n",
    "    def __getitem__(self, index:int):\n",
    "        file_path_inputs = self.input_dir[index]\n",
    "        file_path_label = self.dose_dir[index]\n",
    "        x = np.genfromtxt(file_path_inputs, delimiter=',')\n",
    "        y = np.genfromtxt(file_path_label, delimiter=',')\n",
    "        x, y = torch.from_numpy(x).type(torch.float32), torch.from_numpy(y).type(torch.float32)\n",
    "        return x,y\n"
   ]
  },
  {
   "cell_type": "code",
   "execution_count": null,
   "id": "30f99e5a",
   "metadata": {},
   "outputs": [],
   "source": []
  }
 ],
 "metadata": {
  "kernelspec": {
   "display_name": "Python 3 (ipykernel)",
   "language": "python",
   "name": "python3"
  },
  "language_info": {
   "codemirror_mode": {
    "name": "ipython",
    "version": 3
   },
   "file_extension": ".py",
   "mimetype": "text/x-python",
   "name": "python",
   "nbconvert_exporter": "python",
   "pygments_lexer": "ipython3",
   "version": "3.9.7"
  }
 },
 "nbformat": 4,
 "nbformat_minor": 5
}
