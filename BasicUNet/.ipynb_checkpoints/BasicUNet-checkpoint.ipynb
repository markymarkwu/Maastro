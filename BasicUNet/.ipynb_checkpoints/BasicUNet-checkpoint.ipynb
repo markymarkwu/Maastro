{
 "cells": [
  {
   "cell_type": "code",
   "execution_count": 5,
   "id": "b693562b",
   "metadata": {},
   "outputs": [],
   "source": [
    "from monai.networks.nets import BasicUNet as BU\n",
    "\n",
    "import warnings\n",
    "warnings.filterwarnings('ignore')"
   ]
  },
  {
   "cell_type": "code",
   "execution_count": 6,
   "id": "31c252f0",
   "metadata": {},
   "outputs": [
    {
     "name": "stdout",
     "output_type": "stream",
     "text": [
      "BasicUNet features: (64, 128, 256, 512, 1024, 128).\n"
     ]
    }
   ],
   "source": [
    "net = BU(spatial_dims=2, features=(64, 128, 256, 512, 1024, 128))"
   ]
  },
  {
   "cell_type": "code",
   "execution_count": null,
   "id": "007f431b",
   "metadata": {},
   "outputs": [],
   "source": [
    "net."
   ]
  }
 ],
 "metadata": {
  "kernelspec": {
   "display_name": "Python 3 (ipykernel)",
   "language": "python",
   "name": "python3"
  },
  "language_info": {
   "codemirror_mode": {
    "name": "ipython",
    "version": 3
   },
   "file_extension": ".py",
   "mimetype": "text/x-python",
   "name": "python",
   "nbconvert_exporter": "python",
   "pygments_lexer": "ipython3",
   "version": "3.9.7"
  }
 },
 "nbformat": 4,
 "nbformat_minor": 5
}
