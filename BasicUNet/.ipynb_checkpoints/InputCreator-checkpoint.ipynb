{
 "cells": [
  {
   "cell_type": "code",
   "execution_count": null,
   "id": "5ab83b3e",
   "metadata": {},
   "outputs": [],
   "source": [
    "files = [np.genfromtxt(path, delimiter=',') for path in file_path_inputs]\n",
    "x = np.stack(files, axis=2)\n",
    "y = np.genfromtxt(file_path_label, delimiter=',')[np.newaxis,...]"
   ]
  },
  {
   "cell_type": "code",
   "execution_count": null,
   "id": "851c6ac7",
   "metadata": {},
   "outputs": [],
   "source": [
    "class Input_Creator:\n",
    "    \n",
    "    def __init__(self):\n",
    "        self.global_count = 0\n",
    "    \n",
    "    def save_input(self, image_array):\n",
    "        \n",
    "        "
   ]
  }
 ],
 "metadata": {
  "kernelspec": {
   "display_name": "Python 3 (ipykernel)",
   "language": "python",
   "name": "python3"
  },
  "language_info": {
   "codemirror_mode": {
    "name": "ipython",
    "version": 3
   },
   "file_extension": ".py",
   "mimetype": "text/x-python",
   "name": "python",
   "nbconvert_exporter": "python",
   "pygments_lexer": "ipython3",
   "version": "3.9.7"
  }
 },
 "nbformat": 4,
 "nbformat_minor": 5
}
