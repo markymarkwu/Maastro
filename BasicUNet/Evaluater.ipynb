{
 "cells": [
  {
   "cell_type": "code",
   "execution_count": 4,
   "id": "b9837dbe",
   "metadata": {},
   "outputs": [],
   "source": [
    "import torch\n",
    "import torch.nn as nn\n",
    "import torch.nn.functional as F\n",
    "from tqdm import tqdm\n",
    "# from utils.dice_score import multiclass_dice_coeff, dice_coeff\n",
    "%run DiceLoss.ipynb import DiceLoss\n",
    "\n",
    "class Eavluator:\n",
    "    \n",
    "    def evaluate(net, dataloader, device):\n",
    "        net.eval()\n",
    "        num_val_batches = len(dataloader)\n",
    "        dice_score = 0\n",
    "\n",
    "        # iterate over the validation set\n",
    "        for images, labels in tqdm(dataloader, total=num_val_batches, desc='Validation round', unit='batch', leave=False):\n",
    "            # move images and labels to correct device and type\n",
    "            images = images.to(device=device, dtype=torch.float32)\n",
    "            labels = labels.to(device=device, dtype=torch.float32)\n",
    "#             labels = F.one_hot(mask_true, net.n_classes).permute(0, 3, 1, 2).float()\n",
    "\n",
    "            with torch.no_grad():\n",
    "                # predict the mask\n",
    "                images_pred = net(images)\n",
    "\n",
    "#                 # convert to one-hot format\n",
    "#                 if net.n_classes == 1:\n",
    "#                     mask_pred = (F.sigmoid(mask_pred) > 0.5).float()\n",
    "#                     # compute the Dice score\n",
    "#                     dice_score += dice_coeff(mask_pred, mask_true, reduce_batch_first=False)\n",
    "#                 else:\n",
    "#                     mask_pred = F.one_hot(mask_pred.argmax(dim=1), net.n_classes).permute(0, 3, 1, 2).float()\n",
    "#                     # compute the Dice score, ignoring background\n",
    "#                     dice_score += multiclass_dice_coeff(mask_pred[:, 1:, ...], mask_true[:, 1:, ...], reduce_batch_first=False)\n",
    "                dice_score += DiceLoss().forward(images_pred, labels)\n",
    "\n",
    "\n",
    "        net.train()\n",
    "\n",
    "        # Fixes a potential division by zero error\n",
    "        if num_val_batches == 0:\n",
    "            return dice_score\n",
    "        return dice_score / num_val_batches"
   ]
  },
  {
   "cell_type": "code",
   "execution_count": null,
   "id": "d4e494bb",
   "metadata": {},
   "outputs": [],
   "source": []
  }
 ],
 "metadata": {
  "kernelspec": {
   "display_name": "Python 3 (ipykernel)",
   "language": "python",
   "name": "python3"
  },
  "language_info": {
   "codemirror_mode": {
    "name": "ipython",
    "version": 3
   },
   "file_extension": ".py",
   "mimetype": "text/x-python",
   "name": "python",
   "nbconvert_exporter": "python",
   "pygments_lexer": "ipython3",
   "version": "3.9.7"
  }
 },
 "nbformat": 4,
 "nbformat_minor": 5
}
